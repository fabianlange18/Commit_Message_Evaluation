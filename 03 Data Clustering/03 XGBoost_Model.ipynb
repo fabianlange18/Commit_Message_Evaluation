{
 "cells": [
  {
   "cell_type": "markdown",
   "metadata": {},
   "source": [
    "# XGBoost Model to Classify Authors"
   ]
  },
  {
   "cell_type": "code",
   "execution_count": 1,
   "metadata": {},
   "outputs": [],
   "source": [
    "from xgboost import XGBClassifier\n",
    "import pandas as pd\n",
    "import numpy as np"
   ]
  },
  {
   "cell_type": "code",
   "execution_count": 2,
   "metadata": {},
   "outputs": [],
   "source": [
    "# Load prebuilt featuresets\n",
    "train_featureset = np.load('../data/05a_Train_Set_Features.npy', allow_pickle=True)\n",
    "test_featureset = np.load('../data/05c_Test_Set_Features.npy', allow_pickle=True)"
   ]
  },
  {
   "cell_type": "code",
   "execution_count": 3,
   "metadata": {},
   "outputs": [],
   "source": [
    "# Load original data to extract labels\n",
    "train_data = pd.read_pickle('../data/05a_Authors_Train_Set.pkl')\n",
    "test_data = pd.read_pickle('../data/05c_Authors_Test_Set.pkl')"
   ]
  },
  {
   "cell_type": "code",
   "execution_count": 4,
   "metadata": {},
   "outputs": [],
   "source": [
    "# Extract labels\n",
    "train_labels = list(train_data['label'])\n",
    "test_labels = list(test_data['label'])"
   ]
  },
  {
   "cell_type": "code",
   "execution_count": 14,
   "metadata": {},
   "outputs": [],
   "source": [
    "# define classifier\n",
    "# are those parameters okay? binary seems not good\n",
    "bst = XGBClassifier(n_estimators=10, max_depth=10, learning_rate=0.1, objective='multi:softmax', num_class=42) \n",
    "# fit model\n",
    "bst.fit(train_featureset, train_labels)\n",
    "# make predictions\n",
    "preds = bst.predict(test_featureset)"
   ]
  },
  {
   "cell_type": "code",
   "execution_count": 18,
   "metadata": {},
   "outputs": [
    {
     "data": {
      "text/plain": [
       "Counter({0: 1157,\n",
       "         23: 87,\n",
       "         33: 188,\n",
       "         8: 124,\n",
       "         2: 388,\n",
       "         39: 47,\n",
       "         35: 654,\n",
       "         30: 728,\n",
       "         29: 1335,\n",
       "         27: 612,\n",
       "         36: 135,\n",
       "         17: 131,\n",
       "         40: 108,\n",
       "         26: 1184,\n",
       "         25: 17,\n",
       "         41: 343,\n",
       "         28: 21,\n",
       "         22: 32,\n",
       "         15: 93,\n",
       "         1: 130,\n",
       "         16: 340,\n",
       "         38: 408,\n",
       "         32: 418,\n",
       "         14: 357,\n",
       "         21: 122,\n",
       "         18: 24,\n",
       "         12: 821,\n",
       "         20: 23,\n",
       "         31: 47,\n",
       "         19: 14,\n",
       "         4: 8,\n",
       "         34: 129,\n",
       "         3: 5,\n",
       "         10: 92,\n",
       "         6: 44,\n",
       "         11: 7,\n",
       "         13: 18,\n",
       "         37: 10,\n",
       "         9: 2,\n",
       "         24: 4,\n",
       "         5: 1})"
      ]
     },
     "execution_count": 18,
     "metadata": {},
     "output_type": "execute_result"
    }
   ],
   "source": [
    "from collections import Counter\n",
    "\n",
    "Counter(preds)"
   ]
  },
  {
   "cell_type": "code",
   "execution_count": 19,
   "metadata": {},
   "outputs": [
    {
     "data": {
      "text/plain": [
       "Counter({0.0: 192,\n",
       "         1.0: 200,\n",
       "         2.0: 223,\n",
       "         3.0: 192,\n",
       "         4.0: 195,\n",
       "         5.0: 157,\n",
       "         6.0: 188,\n",
       "         7.0: 277,\n",
       "         8.0: 409,\n",
       "         9.0: 212,\n",
       "         10.0: 209,\n",
       "         11.0: 209,\n",
       "         12.0: 363,\n",
       "         13.0: 165,\n",
       "         14.0: 454,\n",
       "         15.0: 152,\n",
       "         16.0: 151,\n",
       "         17.0: 444,\n",
       "         18.0: 180,\n",
       "         19.0: 184,\n",
       "         20.0: 231,\n",
       "         21.0: 335,\n",
       "         22.0: 189,\n",
       "         23.0: 757,\n",
       "         24.0: 163,\n",
       "         25.0: 270,\n",
       "         26.0: 272,\n",
       "         27.0: 244,\n",
       "         28.0: 192,\n",
       "         29.0: 243,\n",
       "         30.0: 226,\n",
       "         31.0: 194,\n",
       "         32.0: 184,\n",
       "         33.0: 279,\n",
       "         34.0: 391,\n",
       "         35.0: 147,\n",
       "         36.0: 164,\n",
       "         37.0: 138,\n",
       "         38.0: 266,\n",
       "         39.0: 452,\n",
       "         40.0: 162,\n",
       "         41.0: 153})"
      ]
     },
     "execution_count": 19,
     "metadata": {},
     "output_type": "execute_result"
    }
   ],
   "source": [
    "Counter(test_labels)"
   ]
  },
  {
   "cell_type": "code",
   "execution_count": 15,
   "metadata": {},
   "outputs": [
    {
     "name": "stdout",
     "output_type": "stream",
     "text": [
      "Accuracy: 0.14008455034588776\n",
      "Precision: 0.14008455034588776\n",
      "Recall: 0.14008455034588776\n",
      "F-Measure: 0.14008455034588776\n",
      "Homogeneity: 0.23471354776933648\n"
     ]
    }
   ],
   "source": [
    "from sklearn import metrics\n",
    "\n",
    "accuracy = metrics.accuracy_score(test_labels, preds)\n",
    "precision = metrics.precision_score(test_labels, preds, average='micro')\n",
    "recall = metrics.recall_score(test_labels, preds, average='micro')\n",
    "f_measure = metrics.f1_score(test_labels, preds, average='micro')\n",
    "homogeneity = metrics.homogeneity_score(test_labels, preds)\n",
    "\n",
    "print(f\"Accuracy: {accuracy}\")\n",
    "print(f\"Precision: {precision}\")\n",
    "print(f\"Recall: {recall}\")\n",
    "print(f\"F-Measure: {f_measure}\")\n",
    "print(f\"Homogeneity: {homogeneity}\")"
   ]
  }
 ],
 "metadata": {
  "kernelspec": {
   "display_name": "Python 3.8.9 64-bit",
   "language": "python",
   "name": "python3"
  },
  "language_info": {
   "codemirror_mode": {
    "name": "ipython",
    "version": 3
   },
   "file_extension": ".py",
   "mimetype": "text/x-python",
   "name": "python",
   "nbconvert_exporter": "python",
   "pygments_lexer": "ipython3",
   "version": "3.8.9"
  },
  "orig_nbformat": 4,
  "vscode": {
   "interpreter": {
    "hash": "31f2aee4e71d21fbe5cf8b01ff0e069b9275f58929596ceb00d14d90e3e16cd6"
   }
  }
 },
 "nbformat": 4,
 "nbformat_minor": 2
}
