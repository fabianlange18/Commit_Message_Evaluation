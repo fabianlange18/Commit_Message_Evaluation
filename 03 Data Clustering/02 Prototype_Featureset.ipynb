{
 "cells": [
  {
   "cell_type": "markdown",
   "metadata": {},
   "source": [
    "# Develop a Prototype Featureset as Style Embedding"
   ]
  },
  {
   "cell_type": "markdown",
   "metadata": {},
   "source": [
    "Goal: Model the style of committers by creating a self-built style embedding including features like length, polarity, and others that were explored earlier."
   ]
  },
  {
   "cell_type": "markdown",
   "metadata": {},
   "source": [
    "#### Load Data"
   ]
  },
  {
   "cell_type": "code",
   "execution_count": 1,
   "metadata": {},
   "outputs": [
    {
     "data": {
      "text/html": [
       "<div>\n",
       "<style scoped>\n",
       "    .dataframe tbody tr th:only-of-type {\n",
       "        vertical-align: middle;\n",
       "    }\n",
       "\n",
       "    .dataframe tbody tr th {\n",
       "        vertical-align: top;\n",
       "    }\n",
       "\n",
       "    .dataframe thead th {\n",
       "        text-align: right;\n",
       "    }\n",
       "</style>\n",
       "<table border=\"1\" class=\"dataframe\">\n",
       "  <thead>\n",
       "    <tr style=\"text-align: right;\">\n",
       "      <th></th>\n",
       "      <th>message</th>\n",
       "      <th>author_email</th>\n",
       "      <th>project</th>\n",
       "    </tr>\n",
       "  </thead>\n",
       "  <tbody>\n",
       "    <tr>\n",
       "      <th>0</th>\n",
       "      <td>Fixed an error happening when the memory stats...</td>\n",
       "      <td>michele.simionato@gmail.com</td>\n",
       "      <td>gem_oq-engine</td>\n",
       "    </tr>\n",
       "    <tr>\n",
       "      <th>1</th>\n",
       "      <td>Updated setup.py [skip CI]</td>\n",
       "      <td>michele.simionato@gmail.com</td>\n",
       "      <td>micheles_decorator</td>\n",
       "    </tr>\n",
       "    <tr>\n",
       "      <th>2</th>\n",
       "      <td>Fixed an exposure test [skip hazardlib]</td>\n",
       "      <td>michele.simionato@gmail.com</td>\n",
       "      <td>gem_oq-engine</td>\n",
       "    </tr>\n",
       "  </tbody>\n",
       "</table>\n",
       "</div>"
      ],
      "text/plain": [
       "                                             message  \\\n",
       "0  Fixed an error happening when the memory stats...   \n",
       "1                         Updated setup.py [skip CI]   \n",
       "2            Fixed an exposure test [skip hazardlib]   \n",
       "\n",
       "                  author_email             project  \n",
       "0  michele.simionato@gmail.com       gem_oq-engine  \n",
       "1  michele.simionato@gmail.com  micheles_decorator  \n",
       "2  michele.simionato@gmail.com       gem_oq-engine  "
      ]
     },
     "execution_count": 1,
     "metadata": {},
     "output_type": "execute_result"
    }
   ],
   "source": [
    "import pandas as pd\n",
    "\n",
    "subset_size = 100000\n",
    "\n",
    "data = pd.read_pickle('../data/03_Subset_Frequent_Committers.pkl')\n",
    "data.head(3)"
   ]
  },
  {
   "cell_type": "markdown",
   "metadata": {},
   "source": [
    "### Construct First Feature Set"
   ]
  },
  {
   "cell_type": "markdown",
   "metadata": {},
   "source": [
    "A first feature set is set up with the length and the amount of point characters of a message to learn how to do the implementation."
   ]
  },
  {
   "cell_type": "code",
   "execution_count": 2,
   "metadata": {},
   "outputs": [],
   "source": [
    "import numpy as np\n",
    "\n",
    "simple_feature_set = []\n",
    "\n",
    "for message in data['message'][:subset_size]:\n",
    "    number_of_chars         = len(message)\n",
    "    point_count             = message.count(\".\")\n",
    "    simple_feature_set.append([number_of_chars, point_count])\n",
    "\n",
    "simple_feature_set = np.array(simple_feature_set)"
   ]
  },
  {
   "cell_type": "code",
   "execution_count": 3,
   "metadata": {},
   "outputs": [
    {
     "data": {
      "text/plain": [
       "array([[148,   0],\n",
       "       [ 26,   1],\n",
       "       [ 39,   0],\n",
       "       ...,\n",
       "       [ 66,   0],\n",
       "       [ 40,   0],\n",
       "       [ 51,   0]])"
      ]
     },
     "execution_count": 3,
     "metadata": {},
     "output_type": "execute_result"
    }
   ],
   "source": [
    "simple_feature_set"
   ]
  },
  {
   "cell_type": "markdown",
   "metadata": {},
   "source": [
    "### Construct Complex Feature Set"
   ]
  },
  {
   "cell_type": "markdown",
   "metadata": {},
   "source": [
    "A second featureset containing more values is constructed by the corresponding function in features.py."
   ]
  },
  {
   "cell_type": "code",
   "execution_count": 4,
   "metadata": {},
   "outputs": [],
   "source": [
    "import sys\n",
    "\n",
    "sys.path.append('..')\n",
    "\n",
    "from util.features import build_featureset\n",
    "\n",
    "# Taking a subset has not any influence when training on the frequent committer dataset since it has less then 100000 sample\n",
    "\n",
    "complex_featureset = build_featureset(data[:subset_size], normalize=False)"
   ]
  },
  {
   "cell_type": "code",
   "execution_count": null,
   "metadata": {},
   "outputs": [],
   "source": [
    "np.save('../data/03_Subset_Frequent_Committers_Features', complex_featureset)"
   ]
  },
  {
   "cell_type": "code",
   "execution_count": null,
   "metadata": {},
   "outputs": [],
   "source": [
    "import numpy as np\n",
    "\n",
    "complex_featureset = np.load('../data/03_Subset_Frequent_Committers_Features.npy', allow_pickle=True)"
   ]
  },
  {
   "cell_type": "markdown",
   "metadata": {},
   "source": [
    "### Normalize"
   ]
  },
  {
   "cell_type": "code",
   "execution_count": null,
   "metadata": {},
   "outputs": [],
   "source": [
    "#feature_set_normed = simple_feature_set / np.linalg.norm(simple_feature_set)\n",
    "feature_set_normed = complex_featureset / np.linalg.norm(complex_featureset)"
   ]
  },
  {
   "cell_type": "code",
   "execution_count": null,
   "metadata": {},
   "outputs": [
    {
     "data": {
      "text/plain": [
       "array([[7.59403485e-03, 2.10375290e-03, 3.59177324e-04, ...,\n",
       "        5.13110463e-03, 4.61799416e-03, 4.72061626e-03],\n",
       "       [1.33408720e-03, 3.07866278e-04, 1.53933139e-04, ...,\n",
       "        5.13110463e-03, 4.92586044e-03, 5.18241567e-03],\n",
       "       [2.00113080e-03, 4.10488370e-04, 5.13110463e-05, ...,\n",
       "        5.13110463e-03, 4.61799416e-03, 4.72061626e-03],\n",
       "       ...,\n",
       "       [4.92586044e-03, 7.18354648e-04, 3.59177324e-04, ...,\n",
       "        4.92586044e-03, 5.13110463e-03, 4.72061626e-03],\n",
       "       [1.23146511e-03, 2.05244185e-04, 5.13110463e-05, ...,\n",
       "        5.13110463e-03, 4.31012789e-03, 4.72061626e-03],\n",
       "       [9.23598833e-04, 1.53933139e-04, 5.13110463e-05, ...,\n",
       "        5.13110463e-03, 4.72061626e-03, 4.97717149e-03]])"
      ]
     },
     "execution_count": 8,
     "metadata": {},
     "output_type": "execute_result"
    }
   ],
   "source": [
    "feature_set_normed"
   ]
  },
  {
   "cell_type": "markdown",
   "metadata": {},
   "source": [
    "### Calculate Distance Matrix"
   ]
  },
  {
   "cell_type": "markdown",
   "metadata": {},
   "source": [
    "Use Subset for now because computationally intensive."
   ]
  },
  {
   "cell_type": "code",
   "execution_count": null,
   "metadata": {},
   "outputs": [],
   "source": [
    "distance_matrix = np.array([[np.linalg.norm(feat_vector - compare_feat_vector) for compare_feat_vector in feature_set_normed] for feat_vector in feature_set_normed])"
   ]
  },
  {
   "cell_type": "code",
   "execution_count": null,
   "metadata": {},
   "outputs": [
    {
     "data": {
      "text/plain": [
       "array([[0.        , 0.00788893, 0.00692035, ..., 0.00342254, 0.00790026,\n",
       "        0.008298  ],\n",
       "       [0.00788893, 0.        , 0.00113591, ..., 0.00465466, 0.00080488,\n",
       "        0.00054564],\n",
       "       [0.00692035, 0.00113591, 0.        , ..., 0.00370049, 0.00102384,\n",
       "        0.00140633],\n",
       "       ...,\n",
       "       [0.00342254, 0.00465466, 0.00370049, ..., 0.        , 0.00470304,\n",
       "        0.00505619],\n",
       "       [0.00790026, 0.00080488, 0.00102384, ..., 0.00470304, 0.        ,\n",
       "        0.00063054],\n",
       "       [0.008298  , 0.00054564, 0.00140633, ..., 0.00505619, 0.00063054,\n",
       "        0.        ]])"
      ]
     },
     "execution_count": 10,
     "metadata": {},
     "output_type": "execute_result"
    }
   ],
   "source": [
    "distance_matrix"
   ]
  },
  {
   "cell_type": "markdown",
   "metadata": {},
   "source": [
    "### Train K-Means"
   ]
  },
  {
   "cell_type": "code",
   "execution_count": null,
   "metadata": {},
   "outputs": [],
   "source": [
    "from sklearn.cluster import KMeans\n",
    "\n",
    "kmeans = KMeans(100)\n",
    "kmeans.fit(feature_set_normed)\n",
    "kmeans_prediction = kmeans.predict(feature_set_normed)"
   ]
  },
  {
   "cell_type": "code",
   "execution_count": null,
   "metadata": {},
   "outputs": [
    {
     "data": {
      "text/plain": [
       "array([67, 91, 40, ..., 47, 70, 52], dtype=int32)"
      ]
     },
     "execution_count": 12,
     "metadata": {},
     "output_type": "execute_result"
    }
   ],
   "source": [
    "kmeans_prediction"
   ]
  },
  {
   "cell_type": "markdown",
   "metadata": {},
   "source": [
    "### Evaluate K-Means"
   ]
  },
  {
   "cell_type": "code",
   "execution_count": null,
   "metadata": {},
   "outputs": [
    {
     "ename": "IndexError",
     "evalue": "index 10000 is out of bounds for axis 0 with size 10000",
     "output_type": "error",
     "traceback": [
      "\u001b[0;31m---------------------------------------------------------------------------\u001b[0m",
      "\u001b[0;31mIndexError\u001b[0m                                Traceback (most recent call last)",
      "\u001b[1;32m/Users/fabian/Developer/HPI/02 Trends AI:DL/03 Data Clustering/02 Prototype_Featureset.ipynb Zelle 25\u001b[0m in \u001b[0;36m<cell line: 3>\u001b[0;34m()\u001b[0m\n\u001b[1;32m      <a href='vscode-notebook-cell:/Users/fabian/Developer/HPI/02%20Trends%20AI%3ADL/03%20Data%20Clustering/02%20Prototype_Featureset.ipynb#X32sZmlsZQ%3D%3D?line=0'>1</a>\u001b[0m \u001b[39mfrom\u001b[39;00m \u001b[39mutils\u001b[39;00m\u001b[39m.\u001b[39;00m\u001b[39mk_means\u001b[39;00m \u001b[39mimport\u001b[39;00m k_means_summary\n\u001b[0;32m----> <a href='vscode-notebook-cell:/Users/fabian/Developer/HPI/02%20Trends%20AI%3ADL/03%20Data%20Clustering/02%20Prototype_Featureset.ipynb#X32sZmlsZQ%3D%3D?line=2'>3</a>\u001b[0m k_means_summary \u001b[39m=\u001b[39m k_means_summary(kmeans_prediction, kmeans\u001b[39m.\u001b[39;49mn_clusters, data[:subset_size])\n\u001b[1;32m      <a href='vscode-notebook-cell:/Users/fabian/Developer/HPI/02%20Trends%20AI%3ADL/03%20Data%20Clustering/02%20Prototype_Featureset.ipynb#X32sZmlsZQ%3D%3D?line=3'>4</a>\u001b[0m k_means_summary\n",
      "File \u001b[0;32m~/Developer/HPI/02 Trends AI:DL/03 Data Clustering/utils/k_means.py:15\u001b[0m, in \u001b[0;36mk_means_summary\u001b[0;34m(predictions, n_clusters, data)\u001b[0m\n\u001b[1;32m     13\u001b[0m projects \u001b[39m=\u001b[39m []\n\u001b[1;32m     14\u001b[0m \u001b[39mfor\u001b[39;00m i, _ \u001b[39min\u001b[39;00m \u001b[39menumerate\u001b[39m(data[\u001b[39m'\u001b[39m\u001b[39mmessage\u001b[39m\u001b[39m'\u001b[39m]):\n\u001b[0;32m---> 15\u001b[0m     \u001b[39mif\u001b[39;00m predictions[i] \u001b[39m==\u001b[39m label:\n\u001b[1;32m     16\u001b[0m         author_emails\u001b[39m.\u001b[39mappend(data[\u001b[39m\"\u001b[39m\u001b[39mauthor_email\u001b[39m\u001b[39m\"\u001b[39m][i])\n\u001b[1;32m     17\u001b[0m         projects\u001b[39m.\u001b[39mappend(data[\u001b[39m\"\u001b[39m\u001b[39mproject\u001b[39m\u001b[39m\"\u001b[39m][i])\n",
      "\u001b[0;31mIndexError\u001b[0m: index 10000 is out of bounds for axis 0 with size 10000"
     ]
    }
   ],
   "source": [
    "from util.k_means import k_means_summary\n",
    "\n",
    "k_means_summary = k_means_summary(kmeans_prediction, kmeans.n_clusters, data[:subset_size])\n",
    "k_means_summary"
   ]
  },
  {
   "cell_type": "code",
   "execution_count": null,
   "metadata": {},
   "outputs": [],
   "source": [
    "k_means_summary.describe()"
   ]
  },
  {
   "cell_type": "code",
   "execution_count": null,
   "metadata": {},
   "outputs": [],
   "source": [
    "from util.k_means import print_k_means_classes\n",
    "\n",
    "print_k_means_classes(kmeans_prediction, kmeans.n_clusters, data[:subset_size])"
   ]
  }
 ],
 "metadata": {
  "kernelspec": {
   "display_name": "Python 3.8.9 64-bit",
   "language": "python",
   "name": "python3"
  },
  "language_info": {
   "codemirror_mode": {
    "name": "ipython",
    "version": 3
   },
   "file_extension": ".py",
   "mimetype": "text/x-python",
   "name": "python",
   "nbconvert_exporter": "python",
   "pygments_lexer": "ipython3",
   "version": "3.8.9 (default, Apr 13 2022, 08:48:06) \n[Clang 13.1.6 (clang-1316.0.21.2.5)]"
  },
  "orig_nbformat": 4,
  "vscode": {
   "interpreter": {
    "hash": "31f2aee4e71d21fbe5cf8b01ff0e069b9275f58929596ceb00d14d90e3e16cd6"
   }
  }
 },
 "nbformat": 4,
 "nbformat_minor": 2
}
