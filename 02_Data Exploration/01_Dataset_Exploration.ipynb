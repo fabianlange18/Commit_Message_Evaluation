{
 "cells": [
  {
   "cell_type": "markdown",
   "metadata": {},
   "source": [
    "# Dataset Exploration"
   ]
  },
  {
   "cell_type": "markdown",
   "metadata": {},
   "source": [
    "### Load Data and Display First Values"
   ]
  },
  {
   "cell_type": "code",
   "execution_count": 3,
   "metadata": {},
   "outputs": [
    {
     "data": {
      "text/html": [
       "<div>\n",
       "<style scoped>\n",
       "    .dataframe tbody tr th:only-of-type {\n",
       "        vertical-align: middle;\n",
       "    }\n",
       "\n",
       "    .dataframe tbody tr th {\n",
       "        vertical-align: top;\n",
       "    }\n",
       "\n",
       "    .dataframe thead th {\n",
       "        text-align: right;\n",
       "    }\n",
       "</style>\n",
       "<table border=\"1\" class=\"dataframe\">\n",
       "  <thead>\n",
       "    <tr style=\"text-align: right;\">\n",
       "      <th></th>\n",
       "      <th>hash</th>\n",
       "      <th>diff</th>\n",
       "      <th>message</th>\n",
       "      <th>author_email</th>\n",
       "      <th>author_name</th>\n",
       "      <th>committer_email</th>\n",
       "      <th>committer_name</th>\n",
       "      <th>project</th>\n",
       "      <th>split</th>\n",
       "    </tr>\n",
       "  </thead>\n",
       "  <tbody>\n",
       "    <tr>\n",
       "      <th>0</th>\n",
       "      <td>1de640cc59b4b3030447d567b3c99c50777bd760</td>\n",
       "      <td>a/setup.py b/setup.py\\nindex &lt;HASH&gt;..&lt;HASH&gt; 1...</td>\n",
       "      <td>setup: Detect if wheel and twine installed</td>\n",
       "      <td>gcushen@users.noreply.github.com</td>\n",
       "      <td>George Cushen</td>\n",
       "      <td>gcushen@users.noreply.github.com</td>\n",
       "      <td>George Cushen</td>\n",
       "      <td>gcushen_mezzanine-api</td>\n",
       "      <td>train</td>\n",
       "    </tr>\n",
       "    <tr>\n",
       "      <th>1</th>\n",
       "      <td>c1cce6fe5e49df5546c30a662fd141d41f4fc389</td>\n",
       "      <td>a/Builder.php b/Builder.php\\nindex &lt;HASH&gt;..&lt;H...</td>\n",
       "      <td>[Builder] Adding root page in any case</td>\n",
       "      <td>g.passault@gmail.com</td>\n",
       "      <td>Gregwar</td>\n",
       "      <td>g.passault@gmail.com</td>\n",
       "      <td>Gregwar</td>\n",
       "      <td>Gregwar_Slidey</td>\n",
       "      <td>train</td>\n",
       "    </tr>\n",
       "    <tr>\n",
       "      <th>2</th>\n",
       "      <td>2f7d97d15ea41f4112e74429617c5daad740d7cc</td>\n",
       "      <td>a/web.go b/web.go\\nindex &lt;HASH&gt;..&lt;HASH&gt; 10064...</td>\n",
       "      <td>Added web.Urlencode method</td>\n",
       "      <td>hoisie@gmail.com</td>\n",
       "      <td>Michael Hoisie</td>\n",
       "      <td>hoisie@gmail.com</td>\n",
       "      <td>Michael Hoisie</td>\n",
       "      <td>hoisie_web</td>\n",
       "      <td>train</td>\n",
       "    </tr>\n",
       "  </tbody>\n",
       "</table>\n",
       "</div>"
      ],
      "text/plain": [
       "                                       hash  \\\n",
       "0  1de640cc59b4b3030447d567b3c99c50777bd760   \n",
       "1  c1cce6fe5e49df5546c30a662fd141d41f4fc389   \n",
       "2  2f7d97d15ea41f4112e74429617c5daad740d7cc   \n",
       "\n",
       "                                                diff  \\\n",
       "0   a/setup.py b/setup.py\\nindex <HASH>..<HASH> 1...   \n",
       "1   a/Builder.php b/Builder.php\\nindex <HASH>..<H...   \n",
       "2   a/web.go b/web.go\\nindex <HASH>..<HASH> 10064...   \n",
       "\n",
       "                                      message  \\\n",
       "0  setup: Detect if wheel and twine installed   \n",
       "1      [Builder] Adding root page in any case   \n",
       "2                  Added web.Urlencode method   \n",
       "\n",
       "                       author_email     author_name  \\\n",
       "0  gcushen@users.noreply.github.com   George Cushen   \n",
       "1              g.passault@gmail.com         Gregwar   \n",
       "2                  hoisie@gmail.com  Michael Hoisie   \n",
       "\n",
       "                    committer_email  committer_name                project  \\\n",
       "0  gcushen@users.noreply.github.com   George Cushen  gcushen_mezzanine-api   \n",
       "1              g.passault@gmail.com         Gregwar         Gregwar_Slidey   \n",
       "2                  hoisie@gmail.com  Michael Hoisie             hoisie_web   \n",
       "\n",
       "   split  \n",
       "0  train  \n",
       "1  train  \n",
       "2  train  "
      ]
     },
     "execution_count": 3,
     "metadata": {},
     "output_type": "execute_result"
    }
   ],
   "source": [
    "import pandas as pd\n",
    "import nltk\n",
    "from nltk.corpus import stopwords\n",
    "from collections import Counter\n",
    "import numpy as np\n",
    "import matplotlib.pyplot as plt\n",
    "\n",
    "data = pd.read_csv(\"../data/01_Original.csv\")\n",
    "data.head(3)"
   ]
  },
  {
   "cell_type": "markdown",
   "metadata": {},
   "source": [
    "### Get First Overview on Data"
   ]
  },
  {
   "cell_type": "code",
   "execution_count": 2,
   "metadata": {},
   "outputs": [
    {
     "data": {
      "text/html": [
       "<div>\n",
       "<style scoped>\n",
       "    .dataframe tbody tr th:only-of-type {\n",
       "        vertical-align: middle;\n",
       "    }\n",
       "\n",
       "    .dataframe tbody tr th {\n",
       "        vertical-align: top;\n",
       "    }\n",
       "\n",
       "    .dataframe thead th {\n",
       "        text-align: right;\n",
       "    }\n",
       "</style>\n",
       "<table border=\"1\" class=\"dataframe\">\n",
       "  <thead>\n",
       "    <tr style=\"text-align: right;\">\n",
       "      <th></th>\n",
       "      <th>hash</th>\n",
       "      <th>diff</th>\n",
       "      <th>message</th>\n",
       "      <th>author_email</th>\n",
       "      <th>author_name</th>\n",
       "      <th>committer_email</th>\n",
       "      <th>committer_name</th>\n",
       "      <th>project</th>\n",
       "      <th>split</th>\n",
       "    </tr>\n",
       "  </thead>\n",
       "  <tbody>\n",
       "    <tr>\n",
       "      <th>count</th>\n",
       "      <td>1665091</td>\n",
       "      <td>1665091</td>\n",
       "      <td>1665091</td>\n",
       "      <td>1664259</td>\n",
       "      <td>1664949</td>\n",
       "      <td>1664285</td>\n",
       "      <td>1664937</td>\n",
       "      <td>1665091</td>\n",
       "      <td>1665091</td>\n",
       "    </tr>\n",
       "    <tr>\n",
       "      <th>unique</th>\n",
       "      <td>1665091</td>\n",
       "      <td>1659398</td>\n",
       "      <td>1605673</td>\n",
       "      <td>219575</td>\n",
       "      <td>195197</td>\n",
       "      <td>169316</td>\n",
       "      <td>150739</td>\n",
       "      <td>71532</td>\n",
       "      <td>3</td>\n",
       "    </tr>\n",
       "    <tr>\n",
       "      <th>top</th>\n",
       "      <td>1de640cc59b4b3030447d567b3c99c50777bd760</td>\n",
       "      <td>a/tests/input/logictree_test.py b/tests/input...</td>\n",
       "      <td>Apply fixes from StyleCI (#&lt;I&gt;)</td>\n",
       "      <td>michele.simionato@gmail.com</td>\n",
       "      <td>Michele Simionato</td>\n",
       "      <td>noreply@github.com</td>\n",
       "      <td>GitHub</td>\n",
       "      <td>saltstack_salt</td>\n",
       "      <td>train</td>\n",
       "    </tr>\n",
       "    <tr>\n",
       "      <th>freq</th>\n",
       "      <td>1</td>\n",
       "      <td>7</td>\n",
       "      <td>1307</td>\n",
       "      <td>4991</td>\n",
       "      <td>5077</td>\n",
       "      <td>96629</td>\n",
       "      <td>96659</td>\n",
       "      <td>17501</td>\n",
       "      <td>1165564</td>\n",
       "    </tr>\n",
       "  </tbody>\n",
       "</table>\n",
       "</div>"
      ],
      "text/plain": [
       "                                            hash  \\\n",
       "count                                    1665091   \n",
       "unique                                   1665091   \n",
       "top     1de640cc59b4b3030447d567b3c99c50777bd760   \n",
       "freq                                           1   \n",
       "\n",
       "                                                     diff  \\\n",
       "count                                             1665091   \n",
       "unique                                            1659398   \n",
       "top      a/tests/input/logictree_test.py b/tests/input...   \n",
       "freq                                                    7   \n",
       "\n",
       "                                message                 author_email  \\\n",
       "count                           1665091                      1664259   \n",
       "unique                          1605673                       219575   \n",
       "top     Apply fixes from StyleCI (#<I>)  michele.simionato@gmail.com   \n",
       "freq                               1307                         4991   \n",
       "\n",
       "              author_name     committer_email committer_name         project  \\\n",
       "count             1664949             1664285        1664937         1665091   \n",
       "unique             195197              169316         150739           71532   \n",
       "top     Michele Simionato  noreply@github.com         GitHub  saltstack_salt   \n",
       "freq                 5077               96629          96659           17501   \n",
       "\n",
       "          split  \n",
       "count   1665091  \n",
       "unique        3  \n",
       "top       train  \n",
       "freq    1165564  "
      ]
     },
     "execution_count": 2,
     "metadata": {},
     "output_type": "execute_result"
    }
   ],
   "source": [
    "data.describe()"
   ]
  },
  {
   "cell_type": "markdown",
   "metadata": {},
   "source": [
    "We see that there are 1.665.091 entries in our dataset.\n",
    "\n",
    "There are 1.605.673 unique commit messages created by 169.316 different committers (counted by emails) of 71.532 different projects."
   ]
  },
  {
   "cell_type": "markdown",
   "metadata": {},
   "source": [
    "## Tokenize and Generate Vocabulary"
   ]
  },
  {
   "cell_type": "markdown",
   "metadata": {},
   "source": [
    "### Standard NLTK-Tokenizer"
   ]
  },
  {
   "cell_type": "markdown",
   "metadata": {},
   "source": [
    "Start with the standard nltk tokenizer and explore the vocabulary size without and with lowercasing every letter."
   ]
  },
  {
   "cell_type": "code",
   "execution_count": 3,
   "metadata": {},
   "outputs": [
    {
     "name": "stdout",
     "output_type": "stream",
     "text": [
      "The vocabulary contains 799001 tokens using the standard nltk tokenizer without removing stopwords.\n",
      "The lowercased vocabulary contains 729164 tokens using the standard nltk tokenizer without removing stopwords.\n"
     ]
    }
   ],
   "source": [
    "# standard without lowercasing\n",
    "data[\"std_tokenized_message\"] = data['message'].apply(nltk.tokenize.word_tokenize)\n",
    "\n",
    "std_tokenized_messages = []\n",
    "std_tokenized_messages.extend(data[\"std_tokenized_message\"].values)\n",
    "std_tokenized_messages_flat = [item for sublist in std_tokenized_messages for item in sublist]\n",
    "std_total_vocab = nltk.lm.Vocabulary(std_tokenized_messages_flat)\n",
    "\n",
    "print(\"The vocabulary contains {std_vocab_count} tokens using the standard nltk tokenizer without removing stopwords.\".format(std_vocab_count = len(std_total_vocab.counts)))\n",
    "\n",
    "# standard with lowercasing\n",
    "lower_std_tokenized_messages_flat = [item.lower() for sublist in std_tokenized_messages for item in sublist]\n",
    "lower_std_total_vocab = nltk.lm.Vocabulary(lower_std_tokenized_messages_flat)\n",
    "\n",
    "print(\"The lowercased vocabulary contains {lower_std_vocab_count} tokens using the standard nltk tokenizer without removing stopwords.\".format(lower_std_vocab_count = len(lower_std_total_vocab.counts)))"
   ]
  },
  {
   "cell_type": "markdown",
   "metadata": {},
   "source": [
    "Check whether the tokenizer is doing good."
   ]
  },
  {
   "cell_type": "code",
   "execution_count": 4,
   "metadata": {},
   "outputs": [
    {
     "name": "stdout",
     "output_type": "stream",
     "text": [
      "Handle asynchronous rendering in tests --> ['Handle', 'asynchronous', 'rendering', 'in', 'tests']\n",
      "\n",
      "Remove the overriden \"GuildImpl#getIconUrl()\" implementation\n",
      "\n",
      "The guild interface already has the proper implementation, we don't need the overriden method anymore. --> ['Remove', 'the', 'overriden', '``', 'GuildImpl', '#', 'getIconUrl', '(', ')', \"''\", 'implementation', 'The', 'guild', 'interface', 'already', 'has', 'the', 'proper', 'implementation', ',', 'we', 'do', \"n't\", 'need', 'the', 'overriden', 'method', 'anymore', '.']\n",
      "\n",
      "DOC: Added DataFrame in Parameters & Return description in the docstring (#<I>)\n",
      "\n",
      "* DOC: Added DataFrame in Parameters & Return description in the docstring\n",
      "\n",
      "\n",
      "\n",
      "* DOC: Reduced number of characters in Line <I>\n",
      "\n",
      "\n",
      "\n",
      "* DOC: removed trailing whitespaces\n",
      "\n",
      "\n",
      "\n",
      "* DOC: Removed redundant text and fixed punctuation. --> ['DOC', ':', 'Added', 'DataFrame', 'in', 'Parameters', '&', 'Return', 'description', 'in', 'the', 'docstring', '(', '#', '<', 'I', '>', ')', '*', 'DOC', ':', 'Added', 'DataFrame', 'in', 'Parameters', '&', 'Return', 'description', 'in', 'the', 'docstring', '*', 'DOC', ':', 'Reduced', 'number', 'of', 'characters', 'in', 'Line', '<', 'I', '>', '*', 'DOC', ':', 'removed', 'trailing', 'whitespaces', '*', 'DOC', ':', 'Removed', 'redundant', 'text', 'and', 'fixed', 'punctuation', '.']\n",
      "\n"
     ]
    }
   ],
   "source": [
    "for i in range(3):\n",
    "    print(str(data['message'][i + 11]) + \" --> \" + str(std_tokenized_messages[i + 11]))\n",
    "    print()"
   ]
  },
  {
   "cell_type": "markdown",
   "metadata": {},
   "source": [
    "### Twitter Tokenizer from NLTK"
   ]
  },
  {
   "cell_type": "markdown",
   "metadata": {},
   "source": [
    "Evaluate the twitter tokenizer and check if there is any difference."
   ]
  },
  {
   "cell_type": "code",
   "execution_count": 5,
   "metadata": {},
   "outputs": [
    {
     "name": "stdout",
     "output_type": "stream",
     "text": [
      "The vocabulary contains 716726 tokens using the twitter tokenizer without removing stopwords.\n",
      "The lowercased vocabulary contains 647026 tokens using the twitter tokenizer without removing stopwords.\n"
     ]
    }
   ],
   "source": [
    "# twitter without lowercasing\n",
    "data[\"tweet_tokenized_message\"] = data['message'].apply(nltk.tokenize.TweetTokenizer().tokenize)\n",
    "\n",
    "tweet_tokenized_messages = []\n",
    "tweet_tokenized_messages.extend(data[\"tweet_tokenized_message\"].values)\n",
    "tweet_tokenized_messages_flat = [item for sublist in tweet_tokenized_messages for item in sublist]\n",
    "tweet_total_vocab = nltk.lm.Vocabulary(tweet_tokenized_messages_flat)\n",
    "print(\"The vocabulary contains {tweet_vocab_count} tokens using the twitter tokenizer without removing stopwords.\".format(tweet_vocab_count = len(tweet_total_vocab.counts)))\n",
    "\n",
    "# twitter with lowercasing\n",
    "lower_tweet_tokenized_messages_flat = [item.lower() for sublist in tweet_tokenized_messages for item in sublist]\n",
    "lower_tweet_total_vocab = nltk.lm.Vocabulary(lower_tweet_tokenized_messages_flat)\n",
    "\n",
    "print(\"The lowercased vocabulary contains {lower_tweet_vocab_count} tokens using the twitter tokenizer without removing stopwords.\".format(lower_tweet_vocab_count = len(lower_tweet_total_vocab.counts)))"
   ]
  },
  {
   "cell_type": "code",
   "execution_count": 6,
   "metadata": {},
   "outputs": [
    {
     "name": "stdout",
     "output_type": "stream",
     "text": [
      "Handle asynchronous rendering in tests --> ['Handle', 'asynchronous', 'rendering', 'in', 'tests']\n",
      "\n",
      "Remove the overriden \"GuildImpl#getIconUrl()\" implementation\n",
      "\n",
      "The guild interface already has the proper implementation, we don't need the overriden method anymore. --> ['Remove', 'the', 'overriden', '\"', 'GuildImpl', '#getIconUrl', '(', ')', '\"', 'implementation', 'The', 'guild', 'interface', 'already', 'has', 'the', 'proper', 'implementation', ',', 'we', \"don't\", 'need', 'the', 'overriden', 'method', 'anymore', '.']\n",
      "\n",
      "DOC: Added DataFrame in Parameters & Return description in the docstring (#<I>)\n",
      "\n",
      "* DOC: Added DataFrame in Parameters & Return description in the docstring\n",
      "\n",
      "\n",
      "\n",
      "* DOC: Reduced number of characters in Line <I>\n",
      "\n",
      "\n",
      "\n",
      "* DOC: removed trailing whitespaces\n",
      "\n",
      "\n",
      "\n",
      "* DOC: Removed redundant text and fixed punctuation. --> ['DOC', ':', 'Added', 'DataFrame', 'in', 'Parameters', '&', 'Return', 'description', 'in', 'the', 'docstring', '(', '#', '<I>', ')', '*', 'DOC', ':', 'Added', 'DataFrame', 'in', 'Parameters', '&', 'Return', 'description', 'in', 'the', 'docstring', '*', 'DOC', ':', 'Reduced', 'number', 'of', 'characters', 'in', 'Line', '<I>', '*', 'DOC', ':', 'removed', 'trailing', 'whitespaces', '*', 'DOC', ':', 'Removed', 'redundant', 'text', 'and', 'fixed', 'punctuation', '.']\n",
      "\n"
     ]
    }
   ],
   "source": [
    "for i in range(3):\n",
    "    print(str(data['message'][i + 11]) + \" --> \" + str(tweet_tokenized_messages[i + 11]))\n",
    "    print()"
   ]
  },
  {
   "cell_type": "markdown",
   "metadata": {},
   "source": [
    "The selection of the tokenizer influences vocabulary size and tokenization quality:\n",
    "\n",
    "<u>Vocabulary Size</u>\n",
    "|  | mixed | lowercased |\n",
    "| --- | --- | --- |\n",
    "| Standard NLTK | 799001 | 729164 |\n",
    "| Twitter | 716726 | 647026 |\n",
    "\n",
    "The split of the twitter tokenizer seems to be more reasonable because of the following two examples:\n",
    "\n",
    "<u>Tokenization Examples</u>\n",
    "| Text | Standard Tokenizer | Twitter Tokenizer |\n",
    "| --- | --- | --- |\n",
    "| \"GuildImpl#getIconUrl()\" | ['``', 'GuildImpl', '#', 'getIconUrl', '(', ')', \"''\"] | ['\"', 'GuildImpl', '#getIconUrl', '(', ')', '\"'] |\n",
    "| &lt;I> | ['<', 'I', '>'] | ['&lt;I>'] |\n",
    "\n",
    "While there are almost no differences on normal text, for special terms the twitter tokenizer should maintain higher information quality.\n",
    "\n",
    "That is why the specialized twitter tokenizer is used for further investigation."
   ]
  },
  {
   "cell_type": "markdown",
   "metadata": {},
   "source": [
    "## Stop Word Removal"
   ]
  },
  {
   "cell_type": "code",
   "execution_count": 7,
   "metadata": {},
   "outputs": [
    {
     "name": "stdout",
     "output_type": "stream",
     "text": [
      "The twitter vocabulary contains 716552 tokens when removing stopwords.\n",
      "The lowercased twitter vocabulary contains 646852 tokens when removing stopwords.\n"
     ]
    }
   ],
   "source": [
    "stopwords = set(stopwords.words('english'))\n",
    "\n",
    "tweet_tokenized_messages_flat_without_stopwords = [item for item in tweet_tokenized_messages_flat if not item in stopwords]\n",
    "vocab = nltk.lm.Vocabulary(tweet_tokenized_messages_flat_without_stopwords)\n",
    "print(\"The twitter vocabulary contains {vocab_count} tokens when removing stopwords.\".format(vocab_count = len(vocab.counts)))\n",
    "\n",
    "lower_tweet_tokenized_messages_flat_without_stopwords = [item for item in lower_tweet_tokenized_messages_flat if not item in stopwords]\n",
    "vocab = nltk.lm.Vocabulary(lower_tweet_tokenized_messages_flat_without_stopwords)\n",
    "print(\"The lowercased twitter vocabulary contains {vocab_count} tokens when removing stopwords.\".format(vocab_count = len(vocab.counts)))"
   ]
  },
  {
   "cell_type": "markdown",
   "metadata": {},
   "source": [
    "Stopword removal led to excluding only few tokens. That is reasonable because:"
   ]
  },
  {
   "cell_type": "code",
   "execution_count": 8,
   "metadata": {},
   "outputs": [
    {
     "data": {
      "text/plain": [
       "179"
      ]
     },
     "execution_count": 8,
     "metadata": {},
     "output_type": "execute_result"
    }
   ],
   "source": [
    "len(stopwords)"
   ]
  },
  {
   "cell_type": "markdown",
   "metadata": {},
   "source": [
    "### Amount of Tokens that Appear Only Once"
   ]
  },
  {
   "cell_type": "code",
   "execution_count": 9,
   "metadata": {},
   "outputs": [
    {
     "name": "stdout",
     "output_type": "stream",
     "text": [
      "There are 438801 tokens that appear once.\n",
      "There are  90736 tokens that appear twice.\n"
     ]
    }
   ],
   "source": [
    "occurence_tokens = Counter(lower_tweet_tokenized_messages_flat_without_stopwords)\n",
    "\n",
    "single_occurence_count = list(occurence_tokens.values()).count(1)\n",
    "twice_occurence_count = list(occurence_tokens.values()).count(2)\n",
    "\n",
    "print(\"There are {single_occurence_count} tokens that appear once.\".format(single_occurence_count = single_occurence_count))\n",
    "print(\"There are  {twice_occurence_count} tokens that appear twice.\".format(twice_occurence_count = twice_occurence_count))"
   ]
  },
  {
   "cell_type": "markdown",
   "metadata": {},
   "source": [
    "## Commit Message Length Statistics"
   ]
  },
  {
   "cell_type": "code",
   "execution_count": 6,
   "metadata": {},
   "outputs": [],
   "source": [
    "def print_statistics(values : list):\n",
    "    mean = np.mean(values)\n",
    "    std = np.std(values)\n",
    "    min = np.min(values)\n",
    "    lower_quartile = np.percentile(values, 25)\n",
    "    median = np.median(values)\n",
    "    upper_quartile = np.percentile(values, 75)\n",
    "    max = np.max(values)\n",
    "\n",
    "    print(\"Mean: \" + str(mean))\n",
    "    print(\"Standard deviation: \" + str(std))\n",
    "    print(\"Minimum: \" + str(min))\n",
    "    print(\"25 % quartile: \" + str(lower_quartile))\n",
    "    print(\"Median: \" + str(median))\n",
    "    print(\"75 % quartile: \" + str(upper_quartile))\n",
    "    print(\"Maximum: \" + str(max))\n",
    "    print()"
   ]
  },
  {
   "cell_type": "code",
   "execution_count": 11,
   "metadata": {},
   "outputs": [
    {
     "name": "stdout",
     "output_type": "stream",
     "text": [
      "Statistics on the length of commit messages:\n",
      "Mean: 13.700263829424339\n",
      "Standard deviation: 12.173787795636391\n",
      "Minimum: 1\n",
      "25 % quartile: 7.0\n",
      "Median: 10.0\n",
      "75 % quartile: 15.0\n",
      "Maximum: 139\n",
      "\n",
      "There are 1306 messages that contain only one word, which is considered as a bad commit message. \n",
      "[Paper: 'What makes a good commit message?']\n"
     ]
    }
   ],
   "source": [
    "tokenized_messages_length = [len(sublist) for sublist in tweet_tokenized_messages]\n",
    "one_word_count = tokenized_messages_length.count(1)\n",
    "\n",
    "print(\"Statistics on the length of commit messages:\")\n",
    "print_statistics(tokenized_messages_length)\n",
    "print(\"There are {one_word_count} messages that contain only one word, which is considered as a bad commit message. \\n[Paper: 'What makes a good commit message?']\".format(one_word_count = one_word_count))"
   ]
  },
  {
   "cell_type": "code",
   "execution_count": 12,
   "metadata": {},
   "outputs": [
    {
     "data": {
      "image/png": "[encoded data removed]",
      "text/plain": [
       "<Figure size 640x480 with 1 Axes>"
      ]
     },
     "metadata": {},
     "output_type": "display_data"
    }
   ],
   "source": [
    "hist = np.histogram(tokenized_messages_length, bins=np.max(tokenized_messages_length))\n",
    "plt.stairs(hist[0], hist[1], fill=True)\n",
    "plt.title(\"Commit message length\")\n",
    "plt.xlabel(\"Number of words\")\n",
    "plt.ylabel(\"Frequency\")\n",
    "plt.show()"
   ]
  },
  {
   "cell_type": "markdown",
   "metadata": {},
   "source": [
    "## Committer Statistics"
   ]
  },
  {
   "cell_type": "code",
   "execution_count": 13,
   "metadata": {},
   "outputs": [
    {
     "name": "stdout",
     "output_type": "stream",
     "text": [
      "Most common committers by email:\n"
     ]
    },
    {
     "data": {
      "text/plain": [
       "[('noreply@github.com', 96629),\n",
       " ('michele.simionato@gmail.com', 4988),\n",
       " ('crynobone@gmail.com', 3045),\n",
       " ('thomas.parrott@canonical.com', 2938),\n",
       " ('jaraco@jaraco.com', 2878),\n",
       " ('postmodern.mod3@gmail.com', 2653),\n",
       " ('github@contao.org', 2320),\n",
       " ('igor.kroitor@gmail.com', 2267),\n",
       " ('mark@mark-story.com', 2201),\n",
       " ('pedro@algarvio.me', 2112),\n",
       " ('marijnh@gmail.com', 1995),\n",
       " ('ccordoba12@gmail.com', 1990),\n",
       " ('thatch45@gmail.com', 1964),\n",
       " ('fabien.potencier@gmail.com', 1829),\n",
       " ('mjpt777@gmail.com', 1817),\n",
       " ('mitchell.hashimoto@gmail.com', 1804),\n",
       " ('taylor@laravel.com', 1713),\n",
       " ('moodler', 1688),\n",
       " ('aaron.patterson@gmail.com', 1508),\n",
       " ('ocramius@gmail.com', 1427),\n",
       " ('blickly@google.com', 1401),\n",
       " ('blactbt@live.de', 1376),\n",
       " ('nicole@saltstack.com', 1372),\n",
       " ('P.Rudiger@ed.ac.uk', 1355),\n",
       " ('ns@vivid-planet.com', 1348),\n",
       " ('jerome@leclan.ch', 1233),\n",
       " ('matijs@matijs.net', 1229),\n",
       " ('Lars.Butler@gmail.com', 1220),\n",
       " ('stgraber@ubuntu.com', 1215),\n",
       " ('fisharebest@gmail.com', 1212),\n",
       " ('none@none', 1174),\n",
       " ('tj@vision-media.ca', 1169),\n",
       " ('duncan.macleod@ligo.org', 1161),\n",
       " ('skodak', 1155),\n",
       " ('anacrolix@gmail.com', 1142),\n",
       " ('andreas@one.com', 1141),\n",
       " ('jmettraux@gmail.com', 1127),\n",
       " ('palehose@gmail.com', 1114),\n",
       " ('mike@silverorange.com', 1111),\n",
       " ('taylorotwell@gmail.com', 1107),\n",
       " ('hajimehoshi@gmail.com', 1107),\n",
       " ('p@shedcollective.org', 1100),\n",
       " ('koenkanters94@gmail.com', 1091),\n",
       " ('ben.gyori@gmail.com', 1081),\n",
       " ('ingo@silverstripe.com', 1071),\n",
       " ('rapptz@gmail.com', 1057),\n",
       " ('ronnie@dio.jp', 1049),\n",
       " ('j.boggiano@seld.be', 1044),\n",
       " ('zacharyspector@gmail.com', 1035),\n",
       " ('avwu@qq.com', 1011),\n",
       " ('laolu32@gmail.com', 992)]"
      ]
     },
     "execution_count": 13,
     "metadata": {},
     "output_type": "execute_result"
    }
   ],
   "source": [
    "print(\"Most common committers by email:\")\n",
    "\n",
    "committer_count = Counter(data[\"committer_email\"])\n",
    "committer_count.most_common(51)"
   ]
  },
  {
   "cell_type": "markdown",
   "metadata": {},
   "source": [
    "50 Committers made more than 1000 commits, 10 have committed more than 2000 times. Over 3000 commits are only achieved by the top three."
   ]
  },
  {
   "cell_type": "code",
   "execution_count": 14,
   "metadata": {},
   "outputs": [
    {
     "name": "stdout",
     "output_type": "stream",
     "text": [
      "Statistics on commits per committer [by email]:\n",
      "Mean: 9.834163137782975\n",
      "Standard deviation: 238.94485349063467\n",
      "Minimum: 1\n",
      "25 % quartile: 1.0\n",
      "Median: 2.0\n",
      "75 % quartile: 5.0\n",
      "Maximum: 96629\n",
      "\n"
     ]
    }
   ],
   "source": [
    "print(\"Statistics on commits per committer [by email]:\")\n",
    "print_statistics(list(committer_count.values()))"
   ]
  },
  {
   "cell_type": "code",
   "execution_count": 15,
   "metadata": {},
   "outputs": [
    {
     "data": {
      "image/png": "[encoded data removed]",
      "text/plain": [
       "<Figure size 640x480 with 1 Axes>"
      ]
     },
     "metadata": {},
     "output_type": "display_data"
    },
    {
     "name": "stdout",
     "output_type": "stream",
     "text": [
      "Mind that some committers made more than 50 commits. Including them would make the plot unable to perceive.\n"
     ]
    }
   ],
   "source": [
    "commiter_hist = np.histogram(list(committer_count.values()), bins=50, range=(0, 50))\n",
    "plt.stairs(commiter_hist[0], commiter_hist[1], fill=True)\n",
    "plt.title(\"Number of Commits per Person [by email]\")\n",
    "plt.xlabel(\"Number of commits\")\n",
    "plt.ylabel(\"Frequency\")\n",
    "plt.show()\n",
    "print(\"Mind that some committers made more than 50 commits. Including them would make the plot unable to perceive.\")"
   ]
  },
  {
   "cell_type": "code",
   "execution_count": 16,
   "metadata": {},
   "outputs": [
    {
     "name": "stdout",
     "output_type": "stream",
     "text": [
      "Most common committers by name:\n"
     ]
    },
    {
     "data": {
      "text/plain": [
       "[('GitHub', 96659),\n",
       " ('Michele Simionato', 5074),\n",
       " ('Thomas Parrott', 2940),\n",
       " ('Jason R. Coombs', 2913),\n",
       " ('Taylor Otwell', 2820),\n",
       " ('Marijn Haverbeke', 2779),\n",
       " ('Leo Feyer', 2320),\n",
       " ('Igor Kroitor', 2267),\n",
       " ('Pedro Algarvio', 2112),\n",
       " ('Fabien Potencier', 2045),\n",
       " ('crynobone', 2013),\n",
       " ('Carlos Cordoba', 1990),\n",
       " ('Thomas S Hatch', 1969),\n",
       " ('Mitchell Hashimoto', 1814),\n",
       " ('moodler', 1688),\n",
       " ('Aaron Patterson', 1516),\n",
       " ('Niko Sams', 1450),\n",
       " ('Marco Pivetta', 1427),\n",
       " ('Ben Lickly', 1401),\n",
       " ('meew0', 1376)]"
      ]
     },
     "execution_count": 16,
     "metadata": {},
     "output_type": "execute_result"
    }
   ],
   "source": [
    "print(\"Most common committers by name:\")\n",
    "\n",
    "committer_count = Counter(data[\"committer_name\"])\n",
    "committer_count.most_common(20)"
   ]
  },
  {
   "cell_type": "markdown",
   "metadata": {},
   "source": [
    "The commit messages from the email noreply@github.com and committer name GitHub require further investigation.\n",
    "\n",
    "That is why the author names and emails are taken into account in the next step."
   ]
  },
  {
   "cell_type": "code",
   "execution_count": 17,
   "metadata": {},
   "outputs": [
    {
     "name": "stdout",
     "output_type": "stream",
     "text": [
      "Most common authors by name:\n"
     ]
    },
    {
     "data": {
      "text/plain": [
       "[('Michele Simionato', 5077),\n",
       " ('Thomas Parrott', 3061),\n",
       " ('Jason R. Coombs', 2930),\n",
       " ('Igor Kroitor', 2916),\n",
       " ('Leo Feyer', 2285),\n",
       " ('Marijn Haverbeke', 2158),\n",
       " ('crynobone', 1983),\n",
       " ('Thomas S Hatch', 1981),\n",
       " ('Carlos Cordoba', 1932),\n",
       " ('Pedro Algarvio', 1921),\n",
       " ('Mitchell Hashimoto', 1764),\n",
       " ('moodler', 1688),\n",
       " ('Niko Sams', 1678),\n",
       " ('Aaron Patterson', 1459),\n",
       " ('Taylor Otwell', 1441),\n",
       " ('Fabien Potencier', 1401),\n",
       " ('meew0', 1379),\n",
       " ('postmodern', 1367),\n",
       " ('Marco Pivetta', 1362),\n",
       " ('Postmodern', 1302)]"
      ]
     },
     "execution_count": 17,
     "metadata": {},
     "output_type": "execute_result"
    }
   ],
   "source": [
    "print(\"Most common authors by name:\")\n",
    "\n",
    "committer_count = Counter(data[\"author_name\"])\n",
    "committer_count.most_common(20)"
   ]
  },
  {
   "cell_type": "code",
   "execution_count": 18,
   "metadata": {},
   "outputs": [
    {
     "name": "stdout",
     "output_type": "stream",
     "text": [
      "Most common authors by email:\n"
     ]
    },
    {
     "data": {
      "text/plain": [
       "[('michele.simionato@gmail.com', 4991),\n",
       " ('thomas.parrott@canonical.com', 3058),\n",
       " ('crynobone@gmail.com', 3054),\n",
       " ('igor.kroitor@gmail.com', 2916),\n",
       " ('jaraco@jaraco.com', 2899),\n",
       " ('postmodern.mod3@gmail.com', 2669),\n",
       " ('github@contao.org', 2285),\n",
       " ('mark@mark-story.com', 2082),\n",
       " ('thatch45@gmail.com', 1976),\n",
       " ('ccordoba12@gmail.com', 1932),\n",
       " ('pedro@algarvio.me', 1907),\n",
       " ('mjpt777@gmail.com', 1817),\n",
       " ('mitchell.hashimoto@gmail.com', 1751),\n",
       " ('moodler', 1688),\n",
       " ('ns@vivid-planet.com', 1576),\n",
       " ('marijnh@gmail.com', 1500),\n",
       " ('aaron.patterson@gmail.com', 1450),\n",
       " ('blactbt@live.de', 1379),\n",
       " ('ocramius@gmail.com', 1362),\n",
       " ('P.Rudiger@ed.ac.uk', 1356)]"
      ]
     },
     "execution_count": 18,
     "metadata": {},
     "output_type": "execute_result"
    }
   ],
   "source": [
    "print(\"Most common authors by email:\")\n",
    "\n",
    "committer_count = Counter(data[\"author_email\"])\n",
    "committer_count.most_common(20)"
   ]
  },
  {
   "cell_type": "markdown",
   "metadata": {},
   "source": [
    "The author names and emails seem to go together with the committer names and emails but the high amount of commit messages from GitHub is gone."
   ]
  },
  {
   "cell_type": "code",
   "execution_count": 25,
   "metadata": {},
   "outputs": [],
   "source": [
    "committer_investigation = data.where(data[\"committer_email\"] == 'noreply@github.com').dropna()[['author_email', 'author_name', 'committer_email', 'committer_name']]\n",
    "committer_investigation"
   ]
  },
  {
   "cell_type": "code",
   "execution_count": 26,
   "metadata": {},
   "outputs": [
    {
     "data": {
      "text/html": [
       "<div>\n",
       "<style scoped>\n",
       "    .dataframe tbody tr th:only-of-type {\n",
       "        vertical-align: middle;\n",
       "    }\n",
       "\n",
       "    .dataframe tbody tr th {\n",
       "        vertical-align: top;\n",
       "    }\n",
       "\n",
       "    .dataframe thead th {\n",
       "        text-align: right;\n",
       "    }\n",
       "</style>\n",
       "<table border=\"1\" class=\"dataframe\">\n",
       "  <thead>\n",
       "    <tr style=\"text-align: right;\">\n",
       "      <th></th>\n",
       "      <th>author_email</th>\n",
       "      <th>author_name</th>\n",
       "      <th>committer_email</th>\n",
       "      <th>committer_name</th>\n",
       "    </tr>\n",
       "  </thead>\n",
       "  <tbody>\n",
       "    <tr>\n",
       "      <th>1565</th>\n",
       "      <td>38309641+ndubel@users.noreply.github.com</td>\n",
       "      <td>ndubel</td>\n",
       "      <td>noreply@github.com</td>\n",
       "      <td>GitHub</td>\n",
       "    </tr>\n",
       "    <tr>\n",
       "      <th>10725</th>\n",
       "      <td>38309641+ndubel@users.noreply.github.com</td>\n",
       "      <td>ndubel</td>\n",
       "      <td>noreply@github.com</td>\n",
       "      <td>GitHub</td>\n",
       "    </tr>\n",
       "    <tr>\n",
       "      <th>33832</th>\n",
       "      <td>38309641+ndubel@users.noreply.github.com</td>\n",
       "      <td>ndubel</td>\n",
       "      <td>noreply@github.com</td>\n",
       "      <td>GitHub</td>\n",
       "    </tr>\n",
       "    <tr>\n",
       "      <th>35457</th>\n",
       "      <td>38309641+ndubel@users.noreply.github.com</td>\n",
       "      <td>ndubel</td>\n",
       "      <td>noreply@github.com</td>\n",
       "      <td>GitHub</td>\n",
       "    </tr>\n",
       "    <tr>\n",
       "      <th>36774</th>\n",
       "      <td>38309641+ndubel@users.noreply.github.com</td>\n",
       "      <td>ndubel</td>\n",
       "      <td>noreply@github.com</td>\n",
       "      <td>GitHub</td>\n",
       "    </tr>\n",
       "    <tr>\n",
       "      <th>...</th>\n",
       "      <td>...</td>\n",
       "      <td>...</td>\n",
       "      <td>...</td>\n",
       "      <td>...</td>\n",
       "    </tr>\n",
       "    <tr>\n",
       "      <th>1635482</th>\n",
       "      <td>38309641+ndubel@users.noreply.github.com</td>\n",
       "      <td>ndubel</td>\n",
       "      <td>noreply@github.com</td>\n",
       "      <td>GitHub</td>\n",
       "    </tr>\n",
       "    <tr>\n",
       "      <th>1649021</th>\n",
       "      <td>38309641+ndubel@users.noreply.github.com</td>\n",
       "      <td>ndubel</td>\n",
       "      <td>noreply@github.com</td>\n",
       "      <td>GitHub</td>\n",
       "    </tr>\n",
       "    <tr>\n",
       "      <th>1654375</th>\n",
       "      <td>38309641+ndubel@users.noreply.github.com</td>\n",
       "      <td>ndubel</td>\n",
       "      <td>noreply@github.com</td>\n",
       "      <td>GitHub</td>\n",
       "    </tr>\n",
       "    <tr>\n",
       "      <th>1656054</th>\n",
       "      <td>38309641+ndubel@users.noreply.github.com</td>\n",
       "      <td>ndubel</td>\n",
       "      <td>noreply@github.com</td>\n",
       "      <td>GitHub</td>\n",
       "    </tr>\n",
       "    <tr>\n",
       "      <th>1665087</th>\n",
       "      <td>38309641+ndubel@users.noreply.github.com</td>\n",
       "      <td>ndubel</td>\n",
       "      <td>noreply@github.com</td>\n",
       "      <td>GitHub</td>\n",
       "    </tr>\n",
       "  </tbody>\n",
       "</table>\n",
       "<p>278 rows × 4 columns</p>\n",
       "</div>"
      ],
      "text/plain": [
       "                                     author_email author_name  \\\n",
       "1565     38309641+ndubel@users.noreply.github.com      ndubel   \n",
       "10725    38309641+ndubel@users.noreply.github.com      ndubel   \n",
       "33832    38309641+ndubel@users.noreply.github.com      ndubel   \n",
       "35457    38309641+ndubel@users.noreply.github.com      ndubel   \n",
       "36774    38309641+ndubel@users.noreply.github.com      ndubel   \n",
       "...                                           ...         ...   \n",
       "1635482  38309641+ndubel@users.noreply.github.com      ndubel   \n",
       "1649021  38309641+ndubel@users.noreply.github.com      ndubel   \n",
       "1654375  38309641+ndubel@users.noreply.github.com      ndubel   \n",
       "1656054  38309641+ndubel@users.noreply.github.com      ndubel   \n",
       "1665087  38309641+ndubel@users.noreply.github.com      ndubel   \n",
       "\n",
       "            committer_email committer_name  \n",
       "1565     noreply@github.com         GitHub  \n",
       "10725    noreply@github.com         GitHub  \n",
       "33832    noreply@github.com         GitHub  \n",
       "35457    noreply@github.com         GitHub  \n",
       "36774    noreply@github.com         GitHub  \n",
       "...                     ...            ...  \n",
       "1635482  noreply@github.com         GitHub  \n",
       "1649021  noreply@github.com         GitHub  \n",
       "1654375  noreply@github.com         GitHub  \n",
       "1656054  noreply@github.com         GitHub  \n",
       "1665087  noreply@github.com         GitHub  \n",
       "\n",
       "[278 rows x 4 columns]"
      ]
     },
     "execution_count": 26,
     "metadata": {},
     "output_type": "execute_result"
    }
   ],
   "source": [
    "committer_investigation.where(committer_investigation['author_name'] == 'ndubel').dropna()"
   ]
  },
  {
   "cell_type": "markdown",
   "metadata": {},
   "source": [
    "The author email can either be an address in the format {number}+{name}@users.noreply.github.com or a normal email address.\n",
    "\n",
    "In the former case, the constructed email address is always the same for one user."
   ]
  },
  {
   "cell_type": "markdown",
   "metadata": {},
   "source": [
    "#### Summary of Committer Investigation"
   ]
  },
  {
   "cell_type": "markdown",
   "metadata": {},
   "source": [
    "Evaluating the names of the committers shows a result where names fit to the email addresses.\n",
    "\n",
    "Since there are always more commits done by a name that corresponds to one of the email adresses, it can be concluded that this is due to names occuring multiple times but having different email adresses.\n",
    "\n",
    "The author names and email adresses provide information that enables to trace back different committers from the GitHub email address.\n",
    "\n",
    "Counted by committer email address there are 50 committers having more than 1000 commit messages, counted by author email adress there are 42.\n",
    "\n",
    "Nevertheless, further investigation is done with the author email addresses because of the higher accuracy in tracing back authors to their commit messages."
   ]
  },
  {
   "cell_type": "markdown",
   "metadata": {},
   "source": [
    "## Commit Message Frequency Statistics"
   ]
  },
  {
   "cell_type": "code",
   "execution_count": 19,
   "metadata": {},
   "outputs": [
    {
     "name": "stdout",
     "output_type": "stream",
     "text": [
      "Most common commit messages:\n"
     ]
    },
    {
     "data": {
      "text/plain": [
       "[('Apply fixes from StyleCI (#<I>)', 1307),\n",
       " ('<URL>', 519),\n",
       " ('Scrutinizer Auto-Fixes\\n\\nThis commit consists of patches automatically generated for this project on <URL>',\n",
       "  401),\n",
       " ('Bump to <I>', 396),\n",
       " ('bumped Symfony version to <I>', 306),\n",
       " ('dvc: bump to <I>', 292),\n",
       " ('version: post-release bump', 267),\n",
       " ('Apply fixes from StyleCI (#<I>)\\n\\n[ci skip] [skip ci]', 267),\n",
       " ('Apply suggestions from code review', 265),\n",
       " ('Bumped to <I> in preparation for next release.', 260),\n",
       " ('Bump up version\\n\\n[skip ci]', 240),\n",
       " ('Update version number to <I>', 217),\n",
       " ('prepare for release of <I>\\n\\nsvn commit r<I>', 204),\n",
       " ('(GEM) update bolt version to <I>', 199),\n",
       " ('Bump to version <I>', 188),\n",
       " ('Applied fixes from StyleCI (#<I>)', 179),\n",
       " ('Automagically formatted by Duti!\\n\\n<URL>', 166),\n",
       " ('Bumped version to <I>', 164),\n",
       " ('Bumping version to <I>', 139),\n",
       " ('sync with pypi version: <I>', 137)]"
      ]
     },
     "execution_count": 19,
     "metadata": {},
     "output_type": "execute_result"
    }
   ],
   "source": [
    "print(\"Most common commit messages:\")\n",
    "\n",
    "message_count = Counter(data[\"message\"])\n",
    "message_count.most_common(20)"
   ]
  },
  {
   "cell_type": "code",
   "execution_count": 20,
   "metadata": {},
   "outputs": [
    {
     "name": "stdout",
     "output_type": "stream",
     "text": [
      "Statistics on occurences of commit messages:\n",
      "Mean: 1.0370050439908998\n",
      "Standard deviation: 1.5174083564317877\n",
      "Minimum: 1\n",
      "25 % quartile: 1.0\n",
      "Median: 1.0\n",
      "75 % quartile: 1.0\n",
      "Maximum: 1307\n",
      "\n"
     ]
    }
   ],
   "source": [
    "print(\"Statistics on occurences of commit messages:\")\n",
    "print_statistics(list(message_count.values()))"
   ]
  },
  {
   "attachments": {},
   "cell_type": "markdown",
   "metadata": {},
   "source": [
    "# Authors Statistics"
   ]
  },
  {
   "cell_type": "code",
   "execution_count": 4,
   "metadata": {},
   "outputs": [
    {
     "name": "stdout",
     "output_type": "stream",
     "text": [
      "Most common authors by email:\n"
     ]
    },
    {
     "data": {
      "text/plain": [
       "[('michele.simionato@gmail.com', 4991),\n",
       " ('thomas.parrott@canonical.com', 3058),\n",
       " ('crynobone@gmail.com', 3054),\n",
       " ('igor.kroitor@gmail.com', 2916),\n",
       " ('jaraco@jaraco.com', 2899),\n",
       " ('postmodern.mod3@gmail.com', 2669),\n",
       " ('github@contao.org', 2285),\n",
       " ('mark@mark-story.com', 2082),\n",
       " ('thatch45@gmail.com', 1976),\n",
       " ('ccordoba12@gmail.com', 1932),\n",
       " ('pedro@algarvio.me', 1907),\n",
       " ('mjpt777@gmail.com', 1817),\n",
       " ('mitchell.hashimoto@gmail.com', 1751),\n",
       " ('moodler', 1688),\n",
       " ('ns@vivid-planet.com', 1576),\n",
       " ('marijnh@gmail.com', 1500),\n",
       " ('aaron.patterson@gmail.com', 1450),\n",
       " ('blactbt@live.de', 1379),\n",
       " ('ocramius@gmail.com', 1362),\n",
       " ('P.Rudiger@ed.ac.uk', 1356),\n",
       " ('duncan.macleod@ligo.org', 1278),\n",
       " ('fabien.potencier@gmail.com', 1243),\n",
       " ('fisharebest@gmail.com', 1219),\n",
       " ('Lars.Butler@gmail.com', 1215),\n",
       " ('matijs@matijs.net', 1207),\n",
       " ('none@none', 1176),\n",
       " ('skodak', 1155),\n",
       " ('andreas@one.com', 1152),\n",
       " ('palehose@gmail.com', 1138),\n",
       " ('jmettraux@gmail.com', 1125),\n",
       " ('anacrolix@gmail.com', 1119),\n",
       " ('mike@silverorange.com', 1110),\n",
       " ('p@shedcollective.org', 1103),\n",
       " ('tj@vision-media.ca', 1099),\n",
       " ('hajimehoshi@gmail.com', 1093),\n",
       " ('ronnie@dio.jp', 1078),\n",
       " ('jerome@leclan.ch', 1077),\n",
       " ('zacharyspector@gmail.com', 1038),\n",
       " ('j.boggiano@seld.be', 1035),\n",
       " ('avwu@qq.com', 1011),\n",
       " ('ingo@silverstripe.com', 1006),\n",
       " ('stgraber@ubuntu.com', 1000),\n",
       " ('c.schiffler@cyberspectrum.de', 953),\n",
       " ('stronk7', 950),\n",
       " ('chapmanb@50mail.com', 937),\n",
       " ('dan.kubb@gmail.com', 927),\n",
       " ('fish@cs.ucsb.edu', 917),\n",
       " ('taylorotwell@gmail.com', 916),\n",
       " ('strib@alum.mit.edu', 893),\n",
       " ('rapptz@gmail.com', 891),\n",
       " ('jlstevens@ed.ac.uk', 890)]"
      ]
     },
     "execution_count": 4,
     "metadata": {},
     "output_type": "execute_result"
    }
   ],
   "source": [
    "print(\"Most common authors by email:\")\n",
    "\n",
    "author_count = Counter(data[\"author_email\"])\n",
    "author_count.most_common(51)"
   ]
  },
  {
   "cell_type": "code",
   "execution_count": 17,
   "metadata": {},
   "outputs": [
    {
     "name": "stdout",
     "output_type": "stream",
     "text": [
      "Statistics on commits per author [by email]:\n",
      "Mean: 7.583210369074944\n",
      "Standard deviation: 38.070833164139216\n",
      "Minimum: 1\n",
      "25 % quartile: 1.0\n",
      "Median: 1.0\n",
      "75 % quartile: 4.0\n",
      "Maximum: 4991\n",
      "\n",
      "Number of authors with more than 50 commit messages: 2544\n"
     ]
    }
   ],
   "source": [
    "print(\"Statistics on commits per author [by email]:\")\n",
    "print_statistics(list(author_count.values()))\n",
    "print(\"Number of authors with more than 50 commit messages: \" + str(sum(i > 100 for i in list(author_count.values()))))"
   ]
  },
  {
   "cell_type": "code",
   "execution_count": 8,
   "metadata": {},
   "outputs": [
    {
     "data": {
      "image/png": "[encoded data removed]",
      "text/plain": [
       "<Figure size 640x480 with 1 Axes>"
      ]
     },
     "metadata": {},
     "output_type": "display_data"
    },
    {
     "name": "stdout",
     "output_type": "stream",
     "text": [
      "Mind that some authors made more than 50 commits. Including them would make the plot unable to perceive.\n"
     ]
    }
   ],
   "source": [
    "commiter_hist = np.histogram(list(author_count.values()), bins=50, range=(0, 50))\n",
    "plt.stairs(commiter_hist[0], commiter_hist[1], fill=True)\n",
    "plt.title(\"Number of Commits per Author [by email]\")\n",
    "plt.xlabel(\"Number of commits\")\n",
    "plt.ylabel(\"Frequency\")\n",
    "plt.show()\n",
    "print(\"Mind that some authors made more than 50 commits. Including them would make the plot unable to perceive.\")"
   ]
  },
  {
   "attachments": {},
   "cell_type": "markdown",
   "metadata": {},
   "source": [
    "# Projects Statistics"
   ]
  },
  {
   "cell_type": "code",
   "execution_count": 9,
   "metadata": {},
   "outputs": [
    {
     "name": "stdout",
     "output_type": "stream",
     "text": [
      "Most common projects:\n"
     ]
    },
    {
     "data": {
      "text/plain": [
       "[('saltstack_salt', 17501),\n",
       " ('moodle_moodle', 16754),\n",
       " ('rails_rails', 11565),\n",
       " ('gem_oq-engine', 8228),\n",
       " ('cakephp_cakephp', 5636),\n",
       " ('lxc_lxd', 5584),\n",
       " ('juju_juju', 5313),\n",
       " ('kubernetes_kubernetes', 5193),\n",
       " ('ccxt_ccxt', 5050),\n",
       " ('laravel_framework', 4829),\n",
       " ('puppetlabs_puppet', 4518),\n",
       " ('chef_chef', 4494),\n",
       " ('SeleniumHQ_selenium', 4113),\n",
       " ('symfony_symfony', 4083),\n",
       " ('spyder-ide_spyder', 4038),\n",
       " ('keybase_client', 3605),\n",
       " ('TryGhost_Ghost', 3225),\n",
       " ('koala-framework_koala-framework', 3112),\n",
       " ('moby_moby', 3070),\n",
       " ('matomo-org_matomo', 2908),\n",
       " ('bolt_bolt', 2889),\n",
       " ('google_closure-compiler', 2846),\n",
       " ('contao_contao', 2816),\n",
       " ('Automattic_wp-calypso', 2751),\n",
       " ('terraform-providers_terraform-provider-aws', 2740),\n",
       " ('concrete5_concrete5', 2670),\n",
       " ('jenkinsci_jenkins', 2656),\n",
       " ('openlayers_openlayers', 2655),\n",
       " ('vitessio_vitess', 2541),\n",
       " ('fastlane_fastlane', 2476),\n",
       " ('VoltDB_voltdb', 2403),\n",
       " ('pyviz_holoviews', 2382),\n",
       " ('influxdata_influxdb', 2379),\n",
       " ('silverstripe_silverstripe-framework', 2363),\n",
       " ('buildbot_buildbot', 2288),\n",
       " ('angr_angr', 2279),\n",
       " ('Katello_katello', 2262),\n",
       " ('pypa_setuptools', 2220),\n",
       " ('hashicorp_terraform', 2211),\n",
       " ('fisharebest_webtrees', 2165),\n",
       " ('Koenkk_zigbee-shepherd-converters', 2139),\n",
       " ('hazelcast_hazelcast', 2135),\n",
       " ('cilium_cilium', 2112),\n",
       " ('fog_fog', 2070),\n",
       " ('SAP_openui5', 2047),\n",
       " ('pandas-dev_pandas', 2046),\n",
       " ('orientechnologies_orientdb', 2010),\n",
       " ('silverorange_swat', 1999),\n",
       " ('codemirror_CodeMirror', 1998),\n",
       " ('hashicorp_vagrant', 1968),\n",
       " ('joomlatools_joomlatools-framework', 1958)]"
      ]
     },
     "execution_count": 9,
     "metadata": {},
     "output_type": "execute_result"
    }
   ],
   "source": [
    "print(\"Most common projects:\")\n",
    "\n",
    "project_count = Counter(data[\"project\"])\n",
    "project_count.most_common(51)"
   ]
  },
  {
   "cell_type": "code",
   "execution_count": 16,
   "metadata": {},
   "outputs": [
    {
     "name": "stdout",
     "output_type": "stream",
     "text": [
      "Statistics on commits per project:\n",
      "Mean: 23.277568081418107\n",
      "Standard deviation: 152.30172701829753\n",
      "Minimum: 1\n",
      "25 % quartile: 2.0\n",
      "Median: 4.0\n",
      "75 % quartile: 13.0\n",
      "Maximum: 17501\n",
      "\n",
      "Number of projects with more than 50 commit messages: 2734\n"
     ]
    }
   ],
   "source": [
    "print(\"Statistics on commits per project:\")\n",
    "print_statistics(list(project_count.values()))\n",
    "print(\"Number of projects with more than 50 commit messages: \" + str(sum(i > 100 for i in list(project_count.values()))))"
   ]
  },
  {
   "cell_type": "code",
   "execution_count": 11,
   "metadata": {},
   "outputs": [
    {
     "data": {
      "image/png": "[encoded data removed]",
      "text/plain": [
       "<Figure size 640x480 with 1 Axes>"
      ]
     },
     "metadata": {},
     "output_type": "display_data"
    },
    {
     "name": "stdout",
     "output_type": "stream",
     "text": [
      "Mind that some projects have more than 50 commits. Including them would make the plot unable to perceive.\n"
     ]
    }
   ],
   "source": [
    "commiter_hist = np.histogram(list(project_count.values()), bins=50, range=(0, 50))\n",
    "plt.stairs(commiter_hist[0], commiter_hist[1], fill=True)\n",
    "plt.title(\"Number of Commits per Project\")\n",
    "plt.xlabel(\"Number of commits\")\n",
    "plt.ylabel(\"Frequency\")\n",
    "plt.show()\n",
    "print(\"Mind that some projects have more than 50 commits. Including them would make the plot unable to perceive.\")"
   ]
  }
 ],
 "metadata": {
  "kernelspec": {
   "display_name": "Python 3",
   "language": "python",
   "name": "python3"
  },
  "language_info": {
   "codemirror_mode": {
    "name": "ipython",
    "version": 3
   },
   "file_extension": ".py",
   "mimetype": "text/x-python",
   "name": "python",
   "nbconvert_exporter": "python",
   "pygments_lexer": "ipython3",
   "version": "3.10.9"
  },
  "orig_nbformat": 4,
  "vscode": {
   "interpreter": {
    "hash": "b0fa6594d8f4cbf19f97940f81e996739fb7646882a419484c72d19e05852a7e"
   }
  }
 },
 "nbformat": 4,
 "nbformat_minor": 2
}
