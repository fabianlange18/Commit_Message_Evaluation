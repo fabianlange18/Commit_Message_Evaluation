{
 "cells": [
  {
   "attachments": {},
   "cell_type": "markdown",
   "metadata": {},
   "source": [
    "# Split the Projects Dataset"
   ]
  },
  {
   "attachments": {},
   "cell_type": "markdown",
   "metadata": {},
   "source": [
    "Goal: Split the Data with the 100 most frequent projects into a train (70 %), validate (15 %) and test set (15 %)."
   ]
  },
  {
   "cell_type": "markdown",
   "metadata": {},
   "source": [
    "#### Load Data"
   ]
  },
  {
   "cell_type": "code",
   "execution_count": 1,
   "metadata": {},
   "outputs": [
    {
     "data": {
      "text/html": [
       "<div>\n",
       "<style scoped>\n",
       "    .dataframe tbody tr th:only-of-type {\n",
       "        vertical-align: middle;\n",
       "    }\n",
       "\n",
       "    .dataframe tbody tr th {\n",
       "        vertical-align: top;\n",
       "    }\n",
       "\n",
       "    .dataframe thead th {\n",
       "        text-align: right;\n",
       "    }\n",
       "</style>\n",
       "<table border=\"1\" class=\"dataframe\">\n",
       "  <thead>\n",
       "    <tr style=\"text-align: right;\">\n",
       "      <th></th>\n",
       "      <th>message</th>\n",
       "      <th>author_email</th>\n",
       "      <th>project</th>\n",
       "    </tr>\n",
       "  </thead>\n",
       "  <tbody>\n",
       "    <tr>\n",
       "      <th>0</th>\n",
       "      <td>Ensure topic as bytes when zmq_filtering enabl...</td>\n",
       "      <td>pengyao@pengyao.org</td>\n",
       "      <td>saltstack_salt</td>\n",
       "    </tr>\n",
       "    <tr>\n",
       "      <th>1</th>\n",
       "      <td>Fix the process_test.test_kill failure in &lt;I&gt;</td>\n",
       "      <td>janderson@saltstack.com</td>\n",
       "      <td>saltstack_salt</td>\n",
       "    </tr>\n",
       "    <tr>\n",
       "      <th>2</th>\n",
       "      <td>Add state.pkg to highstate outputters</td>\n",
       "      <td>thatch45@gmail.com</td>\n",
       "      <td>saltstack_salt</td>\n",
       "    </tr>\n",
       "  </tbody>\n",
       "</table>\n",
       "</div>"
      ],
      "text/plain": [
       "                                             message             author_email  \\\n",
       "0  Ensure topic as bytes when zmq_filtering enabl...      pengyao@pengyao.org   \n",
       "1      Fix the process_test.test_kill failure in <I>  janderson@saltstack.com   \n",
       "2              Add state.pkg to highstate outputters       thatch45@gmail.com   \n",
       "\n",
       "          project  \n",
       "0  saltstack_salt  \n",
       "1  saltstack_salt  \n",
       "2  saltstack_salt  "
      ]
     },
     "execution_count": 1,
     "metadata": {},
     "output_type": "execute_result"
    }
   ],
   "source": [
    "import pandas as pd\n",
    "import numpy as np\n",
    "\n",
    "data = pd.read_pickle('../data/03b_Projects_Subset.pkl')\n",
    "data.head(3)"
   ]
  },
  {
   "cell_type": "code",
   "execution_count": 2,
   "metadata": {},
   "outputs": [
    {
     "data": {
      "text/plain": [
       "100"
      ]
     },
     "execution_count": 2,
     "metadata": {},
     "output_type": "execute_result"
    }
   ],
   "source": [
    "from collections import Counter\n",
    "\n",
    "project_counter = Counter(data['project'])\n",
    "len(project_counter)"
   ]
  },
  {
   "attachments": {},
   "cell_type": "markdown",
   "metadata": {},
   "source": [
    "There are 100 projects.\n",
    "\n",
    "All messages of one project should be in one subset to be able to cluster projects by their style."
   ]
  },
  {
   "cell_type": "code",
   "execution_count": 4,
   "metadata": {},
   "outputs": [
    {
     "name": "stdout",
     "output_type": "stream",
     "text": [
      "70 percent of the 100 projects: 70.0 projects\n",
      "15 percent of the 100 projects: 15.0 projects\n"
     ]
    }
   ],
   "source": [
    "print('70 percent of the {total_projects} projects: {fraction_projects} projects'.format(total_projects = len(project_counter), fraction_projects = len(project_counter) * 0.7))\n",
    "print('15 percent of the {total_projects} projects: {fraction_projects} projects'.format(total_projects = len(project_counter), fraction_projects = len(project_counter) * 0.15))"
   ]
  },
  {
   "attachments": {},
   "cell_type": "markdown",
   "metadata": {},
   "source": [
    "The following split is proposed:\n",
    "\n",
    "| | number of projects |\n",
    "| --- | --- |\n",
    "| Training | 70 |\n",
    "| Validate | 15 |\n",
    "| Test | 15 |"
   ]
  },
  {
   "attachments": {},
   "cell_type": "markdown",
   "metadata": {},
   "source": [
    "The allocation of projects to a subset should be random because some projects have more commit messages while others have fewer."
   ]
  },
  {
   "cell_type": "code",
   "execution_count": 5,
   "metadata": {},
   "outputs": [
    {
     "name": "stdout",
     "output_type": "stream",
     "text": [
      "[1 0 0 0 0 1 0 0 0 2 1 0 0 0 1 0 0 0 0 0 0 1 0 0 2 1 2 0 1 0 0 0 0 2 2 0 0\n",
      " 0 1 1 2 0 2 0 0 0 0 0 0 1 0 0 1 0 0 0 0 0 2 0 2 2 0 0 0 0 0 0 0 0 1 0 2 1\n",
      " 0 0 0 2 1 0 0 0 2 0 0 0 0 1 0 0 2 0 0 0 0 0 2 0 0 0]\n",
      "Counter({0: 70, 1: 15, 2: 15})\n"
     ]
    }
   ],
   "source": [
    "import numpy as np\n",
    "\n",
    "random_allocation = np.concatenate((np.full((70,), 0), np.full((15,), 1), np.full((15,), 2)))\n",
    "\n",
    "np.random.shuffle(random_allocation)\n",
    "\n",
    "print(random_allocation)\n",
    "print(Counter(random_allocation))"
   ]
  },
  {
   "attachments": {},
   "cell_type": "markdown",
   "metadata": {},
   "source": [
    "The data is split accordingly and each project gets a unique label."
   ]
  },
  {
   "cell_type": "code",
   "execution_count": 6,
   "metadata": {},
   "outputs": [],
   "source": [
    "import warnings\n",
    "warnings.filterwarnings('ignore')\n",
    "\n",
    "train_set = pd.DataFrame(columns=['message', 'author_email', 'project'])\n",
    "validate_set = pd.DataFrame(columns=['message', 'author_email', 'project'])\n",
    "test_set = pd.DataFrame(columns=['message', 'author_email', 'project'])\n",
    "\n",
    "for i, group_object in enumerate(data.groupby('project')):\n",
    "    group_object[1]['label'] = i\n",
    "    if random_allocation[i] == 0:\n",
    "        train_set = pd.concat([train_set, group_object[1]])\n",
    "    if random_allocation[i] == 1:\n",
    "        validate_set = pd.concat([validate_set, group_object[1]])\n",
    "    if random_allocation[i] == 2:\n",
    "        test_set = pd.concat([test_set, group_object[1]])\n",
    "\n",
    "train_set.reset_index(drop=True, inplace=True)\n",
    "validate_set.reset_index(drop=True, inplace=True)\n",
    "test_set.reset_index(drop=True, inplace=True)"
   ]
  },
  {
   "attachments": {},
   "cell_type": "markdown",
   "metadata": {},
   "source": [
    "### Check for Overlapping Authors"
   ]
  },
  {
   "cell_type": "code",
   "execution_count": 7,
   "metadata": {},
   "outputs": [
    {
     "name": "stdout",
     "output_type": "stream",
     "text": [
      "There are 208 authors that occur in both train and validate set.\n",
      "There are 391 authors that occur in both train and test set.\n",
      "There are 65 authors that occur in both validate and test set.\n"
     ]
    }
   ],
   "source": [
    "authors = []\n",
    "authors.append(list(train_set['author_email'].unique()))\n",
    "authors.append(list(validate_set['author_email'].unique()))\n",
    "authors.append(list(test_set['author_email'].unique()))\n",
    "\n",
    "train_val_overlap = len(set(authors[0]) & set(authors[1]))\n",
    "train_test_overlap = len(set(authors[0]) & set(authors[2]))\n",
    "val_test_overlap = len(set(authors[1]) & set(authors[2]))\n",
    "\n",
    "print(f\"There are {train_val_overlap} authors that occur in both train and validate set.\")\n",
    "print(f\"There are {train_test_overlap} authors that occur in both train and test set.\")\n",
    "print(f\"There are {val_test_overlap} authors that occur in both validate and test set.\")"
   ]
  },
  {
   "cell_type": "markdown",
   "metadata": {},
   "source": [
    "### Resulting Train Set"
   ]
  },
  {
   "cell_type": "code",
   "execution_count": 8,
   "metadata": {},
   "outputs": [
    {
     "name": "stdout",
     "output_type": "stream",
     "text": [
      "Number of different Authors in the train set: 18272\n",
      "Number of different Projects in the train set: 70\n",
      "Average amount of commit messages per project: 2636.94\n"
     ]
    },
    {
     "data": {
      "text/html": [
       "<div>\n",
       "<style scoped>\n",
       "    .dataframe tbody tr th:only-of-type {\n",
       "        vertical-align: middle;\n",
       "    }\n",
       "\n",
       "    .dataframe tbody tr th {\n",
       "        vertical-align: top;\n",
       "    }\n",
       "\n",
       "    .dataframe thead th {\n",
       "        text-align: right;\n",
       "    }\n",
       "</style>\n",
       "<table border=\"1\" class=\"dataframe\">\n",
       "  <thead>\n",
       "    <tr style=\"text-align: right;\">\n",
       "      <th></th>\n",
       "      <th>message</th>\n",
       "      <th>author_email</th>\n",
       "      <th>project</th>\n",
       "      <th>label</th>\n",
       "    </tr>\n",
       "  </thead>\n",
       "  <tbody>\n",
       "    <tr>\n",
       "      <th>0</th>\n",
       "      <td>Signup: Headstart: Add back the Headstart flow...</td>\n",
       "      <td>kwight@kwight.ca</td>\n",
       "      <td>Automattic_wp-calypso</td>\n",
       "      <td>1.0</td>\n",
       "    </tr>\n",
       "    <tr>\n",
       "      <th>1</th>\n",
       "      <td>Stats: Add delay to avoid stale `_dl` in `caly...</td>\n",
       "      <td>donpark@docuverse.com</td>\n",
       "      <td>Automattic_wp-calypso</td>\n",
       "      <td>1.0</td>\n",
       "    </tr>\n",
       "    <tr>\n",
       "      <th>2</th>\n",
       "      <td>wp: fix eslint warning.</td>\n",
       "      <td>rdsuarez@gmail.com</td>\n",
       "      <td>Automattic_wp-calypso</td>\n",
       "      <td>1.0</td>\n",
       "    </tr>\n",
       "    <tr>\n",
       "      <th>3</th>\n",
       "      <td>endpoint: post: rename `post` by `post_get`</td>\n",
       "      <td>rdsuarez@gmail.com</td>\n",
       "      <td>Automattic_wp-calypso</td>\n",
       "      <td>1.0</td>\n",
       "    </tr>\n",
       "    <tr>\n",
       "      <th>4</th>\n",
       "      <td>Analytics: Remove broken and unused `site_post...</td>\n",
       "      <td>kwight@kwight.ca</td>\n",
       "      <td>Automattic_wp-calypso</td>\n",
       "      <td>1.0</td>\n",
       "    </tr>\n",
       "    <tr>\n",
       "      <th>...</th>\n",
       "      <td>...</td>\n",
       "      <td>...</td>\n",
       "      <td>...</td>\n",
       "      <td>...</td>\n",
       "    </tr>\n",
       "    <tr>\n",
       "      <th>184581</th>\n",
       "      <td>[WFLY-&lt;I&gt;] Don't drop the log-store root model...</td>\n",
       "      <td>brian.stansberry@redhat.com</td>\n",
       "      <td>wildfly_wildfly</td>\n",
       "      <td>99.0</td>\n",
       "    </tr>\n",
       "    <tr>\n",
       "      <th>184582</th>\n",
       "      <td>callbackHandle  isn't being set anywhere.</td>\n",
       "      <td>jfclere@gmail.com</td>\n",
       "      <td>wildfly_wildfly</td>\n",
       "      <td>99.0</td>\n",
       "    </tr>\n",
       "    <tr>\n",
       "      <th>184583</th>\n",
       "      <td>Don't try to read an unstarted NetworkInterfac...</td>\n",
       "      <td>brian.stansberry@redhat.com</td>\n",
       "      <td>wildfly_wildfly</td>\n",
       "      <td>99.0</td>\n",
       "    </tr>\n",
       "    <tr>\n",
       "      <th>184584</th>\n",
       "      <td>[WFLY-&lt;I&gt;] Update the expected caller principa...</td>\n",
       "      <td>fjuma@redhat.com</td>\n",
       "      <td>wildfly_wildfly</td>\n",
       "      <td>99.0</td>\n",
       "    </tr>\n",
       "    <tr>\n",
       "      <th>184585</th>\n",
       "      <td>[WFLY-&lt;I&gt;] Remove from-roles-attribute in Ldap...</td>\n",
       "      <td>araskar@redhat.com</td>\n",
       "      <td>wildfly_wildfly</td>\n",
       "      <td>99.0</td>\n",
       "    </tr>\n",
       "  </tbody>\n",
       "</table>\n",
       "<p>184586 rows × 4 columns</p>\n",
       "</div>"
      ],
      "text/plain": [
       "                                                  message  \\\n",
       "0       Signup: Headstart: Add back the Headstart flow...   \n",
       "1       Stats: Add delay to avoid stale `_dl` in `caly...   \n",
       "2                                 wp: fix eslint warning.   \n",
       "3             endpoint: post: rename `post` by `post_get`   \n",
       "4       Analytics: Remove broken and unused `site_post...   \n",
       "...                                                   ...   \n",
       "184581  [WFLY-<I>] Don't drop the log-store root model...   \n",
       "184582          callbackHandle  isn't being set anywhere.   \n",
       "184583  Don't try to read an unstarted NetworkInterfac...   \n",
       "184584  [WFLY-<I>] Update the expected caller principa...   \n",
       "184585  [WFLY-<I>] Remove from-roles-attribute in Ldap...   \n",
       "\n",
       "                       author_email                project  label  \n",
       "0                  kwight@kwight.ca  Automattic_wp-calypso    1.0  \n",
       "1             donpark@docuverse.com  Automattic_wp-calypso    1.0  \n",
       "2                rdsuarez@gmail.com  Automattic_wp-calypso    1.0  \n",
       "3                rdsuarez@gmail.com  Automattic_wp-calypso    1.0  \n",
       "4                  kwight@kwight.ca  Automattic_wp-calypso    1.0  \n",
       "...                             ...                    ...    ...  \n",
       "184581  brian.stansberry@redhat.com        wildfly_wildfly   99.0  \n",
       "184582            jfclere@gmail.com        wildfly_wildfly   99.0  \n",
       "184583  brian.stansberry@redhat.com        wildfly_wildfly   99.0  \n",
       "184584             fjuma@redhat.com        wildfly_wildfly   99.0  \n",
       "184585           araskar@redhat.com        wildfly_wildfly   99.0  \n",
       "\n",
       "[184586 rows x 4 columns]"
      ]
     },
     "execution_count": 8,
     "metadata": {},
     "output_type": "execute_result"
    }
   ],
   "source": [
    "authors_count = len(train_set['author_email'].unique())\n",
    "projects_count = len(train_set['project'].unique())\n",
    "\n",
    "print('Number of different Authors in the train set: ' + str(authors_count))\n",
    "print('Number of different Projects in the train set: ' + str(projects_count))\n",
    "print('Average amount of commit messages per project: ' + str(round(len(train_set) / projects_count, 2)))\n",
    "train_set"
   ]
  },
  {
   "cell_type": "markdown",
   "metadata": {},
   "source": [
    "### Resulting Validate Set"
   ]
  },
  {
   "cell_type": "code",
   "execution_count": 9,
   "metadata": {},
   "outputs": [
    {
     "name": "stdout",
     "output_type": "stream",
     "text": [
      "Number of different Authors in the validate set: 4975\n",
      "Number of different Projects in the validate set: 15\n",
      "Average amount of commit messages per project: 2171.27\n"
     ]
    },
    {
     "data": {
      "text/html": [
       "<div>\n",
       "<style scoped>\n",
       "    .dataframe tbody tr th:only-of-type {\n",
       "        vertical-align: middle;\n",
       "    }\n",
       "\n",
       "    .dataframe tbody tr th {\n",
       "        vertical-align: top;\n",
       "    }\n",
       "\n",
       "    .dataframe thead th {\n",
       "        text-align: right;\n",
       "    }\n",
       "</style>\n",
       "<table border=\"1\" class=\"dataframe\">\n",
       "  <thead>\n",
       "    <tr style=\"text-align: right;\">\n",
       "      <th></th>\n",
       "      <th>message</th>\n",
       "      <th>author_email</th>\n",
       "      <th>project</th>\n",
       "      <th>label</th>\n",
       "    </tr>\n",
       "  </thead>\n",
       "  <tbody>\n",
       "    <tr>\n",
       "      <th>0</th>\n",
       "      <td>Handle interrupts in FaultTolerateAlluxioMaster</td>\n",
       "      <td>aaudibert10@gmail.com</td>\n",
       "      <td>Alluxio_alluxio</td>\n",
       "      <td>0.0</td>\n",
       "    </tr>\n",
       "    <tr>\n",
       "      <th>1</th>\n",
       "      <td>Change swift ufs to return empty group/owner i...</td>\n",
       "      <td>jia.calvin@gmail.com</td>\n",
       "      <td>Alluxio_alluxio</td>\n",
       "      <td>0.0</td>\n",
       "    </tr>\n",
       "    <tr>\n",
       "      <th>2</th>\n",
       "      <td>Don't discard the buffer unnecessarily in unde...</td>\n",
       "      <td>jia.calvin@gmail.com</td>\n",
       "      <td>Alluxio_alluxio</td>\n",
       "      <td>0.0</td>\n",
       "    </tr>\n",
       "    <tr>\n",
       "      <th>3</th>\n",
       "      <td>TACHYON-&lt;I&gt;: Check - Check Tachyon specfic ope...</td>\n",
       "      <td>sdp@apache.org</td>\n",
       "      <td>Alluxio_alluxio</td>\n",
       "      <td>0.0</td>\n",
       "    </tr>\n",
       "    <tr>\n",
       "      <th>4</th>\n",
       "      <td>[SMALLFIX] Simplified equals implementation of...</td>\n",
       "      <td>jan.hentschel@ultratendency.com</td>\n",
       "      <td>Alluxio_alluxio</td>\n",
       "      <td>0.0</td>\n",
       "    </tr>\n",
       "    <tr>\n",
       "      <th>...</th>\n",
       "      <td>...</td>\n",
       "      <td>...</td>\n",
       "      <td>...</td>\n",
       "      <td>...</td>\n",
       "    </tr>\n",
       "    <tr>\n",
       "      <th>32564</th>\n",
       "      <td>* How did this 'repo' get past the last massiv...</td>\n",
       "      <td>postmodern.mod3@gmail.com</td>\n",
       "      <td>ronin-ruby_ronin</td>\n",
       "      <td>87.0</td>\n",
       "    </tr>\n",
       "    <tr>\n",
       "      <th>32565</th>\n",
       "      <td>Added Script::ClassMethods#short_name.</td>\n",
       "      <td>postmodern.mod3@gmail.com</td>\n",
       "      <td>ronin-ruby_ronin</td>\n",
       "      <td>87.0</td>\n",
       "    </tr>\n",
       "    <tr>\n",
       "      <th>32566</th>\n",
       "      <td>Include UI::Output::Helpers into all Ronin Mod...</td>\n",
       "      <td>postmodern.mod3@gmail.com</td>\n",
       "      <td>ronin-ruby_ronin</td>\n",
       "      <td>87.0</td>\n",
       "    </tr>\n",
       "    <tr>\n",
       "      <th>32567</th>\n",
       "      <td>Call Database.upgrade from Database.setup.</td>\n",
       "      <td>postmodern.mod3@gmail.com</td>\n",
       "      <td>ronin-ruby_ronin</td>\n",
       "      <td>87.0</td>\n",
       "    </tr>\n",
       "    <tr>\n",
       "      <th>32568</th>\n",
       "      <td>Have Scanners.scanner define a convenience met...</td>\n",
       "      <td>postmodern.mod3@gmail.com</td>\n",
       "      <td>ronin-ruby_ronin</td>\n",
       "      <td>87.0</td>\n",
       "    </tr>\n",
       "  </tbody>\n",
       "</table>\n",
       "<p>32569 rows × 4 columns</p>\n",
       "</div>"
      ],
      "text/plain": [
       "                                                 message  \\\n",
       "0        Handle interrupts in FaultTolerateAlluxioMaster   \n",
       "1      Change swift ufs to return empty group/owner i...   \n",
       "2      Don't discard the buffer unnecessarily in unde...   \n",
       "3      TACHYON-<I>: Check - Check Tachyon specfic ope...   \n",
       "4      [SMALLFIX] Simplified equals implementation of...   \n",
       "...                                                  ...   \n",
       "32564  * How did this 'repo' get past the last massiv...   \n",
       "32565             Added Script::ClassMethods#short_name.   \n",
       "32566  Include UI::Output::Helpers into all Ronin Mod...   \n",
       "32567         Call Database.upgrade from Database.setup.   \n",
       "32568  Have Scanners.scanner define a convenience met...   \n",
       "\n",
       "                          author_email           project  label  \n",
       "0                aaudibert10@gmail.com   Alluxio_alluxio    0.0  \n",
       "1                 jia.calvin@gmail.com   Alluxio_alluxio    0.0  \n",
       "2                 jia.calvin@gmail.com   Alluxio_alluxio    0.0  \n",
       "3                       sdp@apache.org   Alluxio_alluxio    0.0  \n",
       "4      jan.hentschel@ultratendency.com   Alluxio_alluxio    0.0  \n",
       "...                                ...               ...    ...  \n",
       "32564        postmodern.mod3@gmail.com  ronin-ruby_ronin   87.0  \n",
       "32565        postmodern.mod3@gmail.com  ronin-ruby_ronin   87.0  \n",
       "32566        postmodern.mod3@gmail.com  ronin-ruby_ronin   87.0  \n",
       "32567        postmodern.mod3@gmail.com  ronin-ruby_ronin   87.0  \n",
       "32568        postmodern.mod3@gmail.com  ronin-ruby_ronin   87.0  \n",
       "\n",
       "[32569 rows x 4 columns]"
      ]
     },
     "execution_count": 9,
     "metadata": {},
     "output_type": "execute_result"
    }
   ],
   "source": [
    "authors_count = len(validate_set['author_email'].unique())\n",
    "projects_count = len(validate_set['project'].unique())\n",
    "\n",
    "print('Number of different Authors in the validate set: ' + str(authors_count))\n",
    "print('Number of different Projects in the validate set: ' + str(projects_count))\n",
    "print('Average amount of commit messages per project: ' + str(round(len(validate_set) / projects_count, 2)))\n",
    "validate_set"
   ]
  },
  {
   "cell_type": "markdown",
   "metadata": {},
   "source": [
    "### Resulting Test Set"
   ]
  },
  {
   "cell_type": "code",
   "execution_count": 10,
   "metadata": {},
   "outputs": [
    {
     "name": "stdout",
     "output_type": "stream",
     "text": [
      "Number of different Authors in the test set: 4321\n",
      "Number of different Projects in the test set: 15\n",
      "Average amount of commit messages per project: 3607.87\n"
     ]
    },
    {
     "data": {
      "text/html": [
       "<div>\n",
       "<style scoped>\n",
       "    .dataframe tbody tr th:only-of-type {\n",
       "        vertical-align: middle;\n",
       "    }\n",
       "\n",
       "    .dataframe tbody tr th {\n",
       "        vertical-align: top;\n",
       "    }\n",
       "\n",
       "    .dataframe thead th {\n",
       "        text-align: right;\n",
       "    }\n",
       "</style>\n",
       "<table border=\"1\" class=\"dataframe\">\n",
       "  <thead>\n",
       "    <tr style=\"text-align: right;\">\n",
       "      <th></th>\n",
       "      <th>message</th>\n",
       "      <th>author_email</th>\n",
       "      <th>project</th>\n",
       "      <th>label</th>\n",
       "    </tr>\n",
       "  </thead>\n",
       "  <tbody>\n",
       "    <tr>\n",
       "      <th>0</th>\n",
       "      <td>[INTERNAL] Windows Phone &lt;I&gt;: Table export\\n\\n...</td>\n",
       "      <td>tommy.vinh.lam@sap.com</td>\n",
       "      <td>SAP_openui5</td>\n",
       "      <td>9.0</td>\n",
       "    </tr>\n",
       "    <tr>\n",
       "      <th>1</th>\n",
       "      <td>[INTERNAL] sap.m.DateTimeInput: Islamic calend...</td>\n",
       "      <td>cahit.guerguec@sap.com</td>\n",
       "      <td>SAP_openui5</td>\n",
       "      <td>9.0</td>\n",
       "    </tr>\n",
       "    <tr>\n",
       "      <th>2</th>\n",
       "      <td>[FIX] sap.m.ViewSettingsDialog: Dialog appears...</td>\n",
       "      <td>alexander.ivanov01@sap.com</td>\n",
       "      <td>SAP_openui5</td>\n",
       "      <td>9.0</td>\n",
       "    </tr>\n",
       "    <tr>\n",
       "      <th>3</th>\n",
       "      <td>[INTERNAL] sap.m.ActionSheet: AfterClose event...</td>\n",
       "      <td>ivaylo.plashkov@sap.com</td>\n",
       "      <td>SAP_openui5</td>\n",
       "      <td>9.0</td>\n",
       "    </tr>\n",
       "    <tr>\n",
       "      <th>4</th>\n",
       "      <td>[INTERNAL][FIX] sap.ui.fl: Correct id of appli...</td>\n",
       "      <td>tuan.dat.ngo@sap.com</td>\n",
       "      <td>SAP_openui5</td>\n",
       "      <td>9.0</td>\n",
       "    </tr>\n",
       "    <tr>\n",
       "      <th>...</th>\n",
       "      <td>...</td>\n",
       "      <td>...</td>\n",
       "      <td>...</td>\n",
       "      <td>...</td>\n",
       "    </tr>\n",
       "    <tr>\n",
       "      <th>54113</th>\n",
       "      <td>Updates test S3 bucket name to match sweeper p...</td>\n",
       "      <td>gdavison@hashicorp.com</td>\n",
       "      <td>terraform-providers_terraform-provider-aws</td>\n",
       "      <td>96.0</td>\n",
       "    </tr>\n",
       "    <tr>\n",
       "      <th>54114</th>\n",
       "      <td>tests/r/secretsmanager_secret: Use consistent ...</td>\n",
       "      <td>dirk.avery@gmail.com</td>\n",
       "      <td>terraform-providers_terraform-provider-aws</td>\n",
       "      <td>96.0</td>\n",
       "    </tr>\n",
       "    <tr>\n",
       "      <th>54115</th>\n",
       "      <td>serverlessapprepo: Migrate to service, global ...</td>\n",
       "      <td>dirk.avery@gmail.com</td>\n",
       "      <td>terraform-providers_terraform-provider-aws</td>\n",
       "      <td>96.0</td>\n",
       "    </tr>\n",
       "    <tr>\n",
       "      <th>54116</th>\n",
       "      <td>Fix letter case on aws_dms_endpoint.mongodb_se...</td>\n",
       "      <td>vitor@vitorbaptista.com</td>\n",
       "      <td>terraform-providers_terraform-provider-aws</td>\n",
       "      <td>96.0</td>\n",
       "    </tr>\n",
       "    <tr>\n",
       "      <th>54117</th>\n",
       "      <td>tests/elb: update to aws_s3_bucket_acl</td>\n",
       "      <td>angie@hashicorp.com</td>\n",
       "      <td>terraform-providers_terraform-provider-aws</td>\n",
       "      <td>96.0</td>\n",
       "    </tr>\n",
       "  </tbody>\n",
       "</table>\n",
       "<p>54118 rows × 4 columns</p>\n",
       "</div>"
      ],
      "text/plain": [
       "                                                 message  \\\n",
       "0      [INTERNAL] Windows Phone <I>: Table export\\n\\n...   \n",
       "1      [INTERNAL] sap.m.DateTimeInput: Islamic calend...   \n",
       "2      [FIX] sap.m.ViewSettingsDialog: Dialog appears...   \n",
       "3      [INTERNAL] sap.m.ActionSheet: AfterClose event...   \n",
       "4      [INTERNAL][FIX] sap.ui.fl: Correct id of appli...   \n",
       "...                                                  ...   \n",
       "54113  Updates test S3 bucket name to match sweeper p...   \n",
       "54114  tests/r/secretsmanager_secret: Use consistent ...   \n",
       "54115  serverlessapprepo: Migrate to service, global ...   \n",
       "54116  Fix letter case on aws_dms_endpoint.mongodb_se...   \n",
       "54117             tests/elb: update to aws_s3_bucket_acl   \n",
       "\n",
       "                     author_email                                     project  \\\n",
       "0          tommy.vinh.lam@sap.com                                 SAP_openui5   \n",
       "1          cahit.guerguec@sap.com                                 SAP_openui5   \n",
       "2      alexander.ivanov01@sap.com                                 SAP_openui5   \n",
       "3         ivaylo.plashkov@sap.com                                 SAP_openui5   \n",
       "4            tuan.dat.ngo@sap.com                                 SAP_openui5   \n",
       "...                           ...                                         ...   \n",
       "54113      gdavison@hashicorp.com  terraform-providers_terraform-provider-aws   \n",
       "54114        dirk.avery@gmail.com  terraform-providers_terraform-provider-aws   \n",
       "54115        dirk.avery@gmail.com  terraform-providers_terraform-provider-aws   \n",
       "54116     vitor@vitorbaptista.com  terraform-providers_terraform-provider-aws   \n",
       "54117         angie@hashicorp.com  terraform-providers_terraform-provider-aws   \n",
       "\n",
       "       label  \n",
       "0        9.0  \n",
       "1        9.0  \n",
       "2        9.0  \n",
       "3        9.0  \n",
       "4        9.0  \n",
       "...      ...  \n",
       "54113   96.0  \n",
       "54114   96.0  \n",
       "54115   96.0  \n",
       "54116   96.0  \n",
       "54117   96.0  \n",
       "\n",
       "[54118 rows x 4 columns]"
      ]
     },
     "execution_count": 10,
     "metadata": {},
     "output_type": "execute_result"
    }
   ],
   "source": [
    "authors_count = len(test_set['author_email'].unique())\n",
    "projects_count = len(test_set['project'].unique())\n",
    "\n",
    "print('Number of different Authors in the test set: ' + str(authors_count))\n",
    "print('Number of different Projects in the test set: ' + str(projects_count))\n",
    "print('Average amount of commit messages per project: ' + str(round(len(test_set) / projects_count, 2)))\n",
    "test_set"
   ]
  },
  {
   "cell_type": "markdown",
   "metadata": {},
   "source": [
    "The number of average commit messages per dataframe cannot be totally balanced since there are some committers with a significantly higher amount of commit messages who are more likely to be allocated to the train set."
   ]
  },
  {
   "cell_type": "markdown",
   "metadata": {},
   "source": [
    "### Save all three Dataframes"
   ]
  },
  {
   "cell_type": "code",
   "execution_count": 12,
   "metadata": {},
   "outputs": [],
   "source": [
    "train_set.to_pickle('../data/04-1a_Projects_Train_Set.pkl')\n",
    "validate_set.to_pickle('../data/04-1b_Projects_Validate_Set.pkl')\n",
    "test_set.to_pickle('../data/04-1c_Projects_Test_Set.pkl')"
   ]
  }
 ],
 "metadata": {
  "kernelspec": {
   "display_name": "Python 3",
   "language": "python",
   "name": "python3"
  },
  "language_info": {
   "codemirror_mode": {
    "name": "ipython",
    "version": 3
   },
   "file_extension": ".py",
   "mimetype": "text/x-python",
   "name": "python",
   "nbconvert_exporter": "python",
   "pygments_lexer": "ipython3",
   "version": "3.8.9"
  },
  "orig_nbformat": 4,
  "vscode": {
   "interpreter": {
    "hash": "31f2aee4e71d21fbe5cf8b01ff0e069b9275f58929596ceb00d14d90e3e16cd6"
   }
  }
 },
 "nbformat": 4,
 "nbformat_minor": 2
}
