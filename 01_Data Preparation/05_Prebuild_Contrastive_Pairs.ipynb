{
 "cells": [
  {
   "attachments": {},
   "cell_type": "markdown",
   "metadata": {},
   "source": [
    "# Contrastive Learning Pairs\n",
    "\n",
    "This notebook has the code for prebuilding and saving pairs for contrastive learning. The explanation of how the pairs are taken is in the playground notebook of the contrastive learning folder.\n",
    "\n",
    "A single python function return positive and negative pairs for contrastive learning doing this can be found in src/contrastive_pairs.py"
   ]
  },
  {
   "cell_type": "code",
   "execution_count": 3,
   "metadata": {},
   "outputs": [],
   "source": [
    "import pandas as pd\n",
    "import pickle"
   ]
  },
  {
   "attachments": {},
   "cell_type": "markdown",
   "metadata": {},
   "source": [
    "## Training Data"
   ]
  },
  {
   "attachments": {},
   "cell_type": "markdown",
   "metadata": {},
   "source": [
    "### Load Data"
   ]
  },
  {
   "cell_type": "code",
   "execution_count": 2,
   "metadata": {},
   "outputs": [],
   "source": [
    "train_data = pd.read_pickle('../data/04a_Train_Set.pkl')"
   ]
  },
  {
   "attachments": {},
   "cell_type": "markdown",
   "metadata": {},
   "source": [
    "### Positive Pairs"
   ]
  },
  {
   "cell_type": "code",
   "execution_count": 3,
   "metadata": {},
   "outputs": [],
   "source": [
    "positive_training_pairs = []\n",
    "\n",
    "for group in train_data.groupby(\"author_email\"):\n",
    "   for i, message_1 in enumerate(group[1]['message']):\n",
    "       for message_2 in group[1]['message'].iloc[i+1:]:\n",
    "            positive_training_pairs.append([message_1, message_2, 1])"
   ]
  },
  {
   "attachments": {},
   "cell_type": "markdown",
   "metadata": {},
   "source": [
    "### Negative Pairs"
   ]
  },
  {
   "cell_type": "code",
   "execution_count": 4,
   "metadata": {},
   "outputs": [],
   "source": [
    "groups_calculated = []\n",
    "\n",
    "negative_training_pairs = []\n",
    "\n",
    "train_data_groups = train_data.groupby(\"author_email\")\n",
    "\n",
    "cut_amount = 369\n",
    "\n",
    "count = 0\n",
    "\n",
    "for group in train_data_groups:\n",
    "    groups_calculated.append(group[0])\n",
    "    negative_groups = [group if group[0] not in groups_calculated else None for group in train_data_groups]\n",
    "    negative_groups = list(filter(lambda item: item is not None, negative_groups))\n",
    "    for message_1 in group[1]['message'].sample(n=cut_amount):\n",
    "        for negative_group in negative_groups:\n",
    "            for message_2 in negative_group[1]['message'].sample(n=cut_amount):\n",
    "                negative_training_pairs.append([message_1, message_2, -1])"
   ]
  },
  {
   "attachments": {},
   "cell_type": "markdown",
   "metadata": {},
   "source": [
    "### Check sum"
   ]
  },
  {
   "cell_type": "code",
   "execution_count": 5,
   "metadata": {},
   "outputs": [
    {
     "name": "stdout",
     "output_type": "stream",
     "text": [
      "Number of positive pairs: 51268322\n",
      "Number of negative pairs: 51468858\n"
     ]
    }
   ],
   "source": [
    "print('Number of positive pairs: ' + str(len(positive_training_pairs)))\n",
    "print('Number of negative pairs: ' + str(len(negative_training_pairs)))"
   ]
  },
  {
   "attachments": {},
   "cell_type": "markdown",
   "metadata": {},
   "source": [
    "### Save"
   ]
  },
  {
   "cell_type": "code",
   "execution_count": 6,
   "metadata": {},
   "outputs": [],
   "source": [
    "with open('../data/06a_Contrastive_Train_Pairs.pkl', 'wb') as f:\n",
    "    positive_training_pairs.extend(negative_training_pairs)\n",
    "    pickle.dump(positive_training_pairs, f, protocol=pickle.HIGHEST_PROTOCOL)"
   ]
  },
  {
   "attachments": {},
   "cell_type": "markdown",
   "metadata": {},
   "source": [
    "## Validation Data"
   ]
  },
  {
   "attachments": {},
   "cell_type": "markdown",
   "metadata": {},
   "source": [
    "### Load Data"
   ]
  },
  {
   "cell_type": "code",
   "execution_count": null,
   "metadata": {},
   "outputs": [],
   "source": [
    "validate_data = pd.read_pickle('../data/04b_Validate_Set.pkl')"
   ]
  },
  {
   "attachments": {},
   "cell_type": "markdown",
   "metadata": {},
   "source": [
    "### Positive Pairs"
   ]
  },
  {
   "cell_type": "code",
   "execution_count": null,
   "metadata": {},
   "outputs": [],
   "source": [
    "positive_validate_pairs = []\n",
    "\n",
    "for group in validate_data.groupby(\"author_email\"):\n",
    "   for i, message_1 in enumerate(group[1]['message']):\n",
    "       for message_2 in group[1]['message'].iloc[i+1:]:\n",
    "            positive_validate_pairs.append([message_1, message_2, 1])"
   ]
  },
  {
   "attachments": {},
   "cell_type": "markdown",
   "metadata": {},
   "source": [
    "### Negative Pairs"
   ]
  },
  {
   "cell_type": "code",
   "execution_count": null,
   "metadata": {},
   "outputs": [],
   "source": [
    "groups_calculated = []\n",
    "\n",
    "negative_validate_pairs = []\n",
    "\n",
    "validate_data_groups = validate_data.groupby(\"author_email\")\n",
    "\n",
    "cut_amount = 650\n",
    "\n",
    "for group in validate_data_groups:\n",
    "    groups_calculated.append(group[0])\n",
    "    negative_groups = [group if group[0] not in groups_calculated else None for group in validate_data_groups]\n",
    "    negative_groups = list(filter(lambda item: item is not None, negative_groups))\n",
    "    for message_1 in group[1]['message'].sample(n=cut_amount):\n",
    "        for negative_group in negative_groups:\n",
    "            for message_2 in negative_group[1]['message'].sample(n=cut_amount):\n",
    "                negative_validate_pairs.append([message_1, message_2, -1])"
   ]
  },
  {
   "attachments": {},
   "cell_type": "markdown",
   "metadata": {},
   "source": [
    "### Check sum"
   ]
  },
  {
   "cell_type": "code",
   "execution_count": null,
   "metadata": {},
   "outputs": [
    {
     "name": "stdout",
     "output_type": "stream",
     "text": [
      "Number of positive pairs: 8863415\n",
      "Number of negative pairs: 8872500\n"
     ]
    }
   ],
   "source": [
    "print('Number of positive pairs: ' + str(len(positive_validate_pairs)))\n",
    "print('Number of negative pairs: ' + str(len(negative_validate_pairs)))"
   ]
  },
  {
   "attachments": {},
   "cell_type": "markdown",
   "metadata": {},
   "source": [
    "### Save"
   ]
  },
  {
   "cell_type": "code",
   "execution_count": null,
   "metadata": {},
   "outputs": [],
   "source": [
    "import pickle\n",
    "\n",
    "with open('../data/06b_Contrastive_Validate_Pairs.pkl', 'wb') as f:\n",
    "    positive_validate_pairs.extend(negative_validate_pairs)\n",
    "    pickle.dump(positive_validate_pairs, f, protocol=pickle.HIGHEST_PROTOCOL)"
   ]
  },
  {
   "attachments": {},
   "cell_type": "markdown",
   "metadata": {},
   "source": [
    "## Test Data"
   ]
  },
  {
   "attachments": {},
   "cell_type": "markdown",
   "metadata": {},
   "source": [
    "### Load Data"
   ]
  },
  {
   "cell_type": "code",
   "execution_count": null,
   "metadata": {},
   "outputs": [],
   "source": [
    "test_data = pd.read_pickle('../data/04c_Test_Set.pkl')"
   ]
  },
  {
   "attachments": {},
   "cell_type": "markdown",
   "metadata": {},
   "source": [
    "### Positive Pairs"
   ]
  },
  {
   "cell_type": "code",
   "execution_count": null,
   "metadata": {},
   "outputs": [],
   "source": [
    "positive_test_pairs = []\n",
    "\n",
    "for group in test_data.groupby(\"author_email\"):\n",
    "   for i, message_1 in enumerate(group[1]['message']):\n",
    "       for message_2 in group[1]['message'].iloc[i+1:]:\n",
    "            positive_test_pairs.append([message_1, message_2, 1])"
   ]
  },
  {
   "attachments": {},
   "cell_type": "markdown",
   "metadata": {},
   "source": [
    "### Negative Pairs"
   ]
  },
  {
   "cell_type": "code",
   "execution_count": null,
   "metadata": {},
   "outputs": [],
   "source": [
    "groups_calculated = []\n",
    "\n",
    "negative_test_pairs = []\n",
    "\n",
    "test_data_groups = test_data.groupby(\"author_email\")\n",
    "\n",
    "cut_amount = 647\n",
    "\n",
    "count = 0\n",
    "\n",
    "for group in test_data_groups:\n",
    "    groups_calculated.append(group[0])\n",
    "    negative_groups = [group if group[0] not in groups_calculated else None for group in test_data_groups]\n",
    "    negative_groups = list(filter(lambda item: item is not None, negative_groups))\n",
    "    for message_1 in group[1]['message'].sample(n=cut_amount):\n",
    "        for negative_group in negative_groups:\n",
    "            for message_2 in negative_group[1]['message'].sample(n=cut_amount):\n",
    "                negative_test_pairs.append([message_1, message_2, -1])"
   ]
  },
  {
   "attachments": {},
   "cell_type": "markdown",
   "metadata": {},
   "source": [
    "### Check sum"
   ]
  },
  {
   "cell_type": "code",
   "execution_count": null,
   "metadata": {},
   "outputs": [
    {
     "name": "stdout",
     "output_type": "stream",
     "text": [
      "Number of positive pairs: 8788005\n",
      "Number of negative pairs: 8790789\n"
     ]
    }
   ],
   "source": [
    "print('Number of positive pairs: ' + str(len(positive_test_pairs)))\n",
    "print('Number of negative pairs: ' + str(len(negative_test_pairs)))"
   ]
  },
  {
   "attachments": {},
   "cell_type": "markdown",
   "metadata": {},
   "source": [
    "### Save"
   ]
  },
  {
   "cell_type": "code",
   "execution_count": null,
   "metadata": {},
   "outputs": [],
   "source": [
    "import pickle\n",
    "\n",
    "with open('../data/06c_Contrastive_Test_Pairs.pkl', 'wb') as f:\n",
    "    positive_test_pairs.extend(negative_test_pairs)\n",
    "    pickle.dump(positive_test_pairs, f, protocol=pickle.HIGHEST_PROTOCOL)"
   ]
  }
 ],
 "metadata": {
  "kernelspec": {
   "display_name": "Python 3",
   "language": "python",
   "name": "python3"
  },
  "language_info": {
   "codemirror_mode": {
    "name": "ipython",
    "version": 3
   },
   "file_extension": ".py",
   "mimetype": "text/x-python",
   "name": "python",
   "nbconvert_exporter": "python",
   "pygments_lexer": "ipython3",
   "version": "3.10.9"
  },
  "orig_nbformat": 4,
  "vscode": {
   "interpreter": {
    "hash": "b0fa6594d8f4cbf19f97940f81e996739fb7646882a419484c72d19e05852a7e"
   }
  }
 },
 "nbformat": 4,
 "nbformat_minor": 2
}
