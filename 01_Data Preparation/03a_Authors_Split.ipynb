{
 "cells": [
  {
   "attachments": {},
   "cell_type": "markdown",
   "metadata": {},
   "source": [
    "# Split the Authors Dataset"
   ]
  },
  {
   "attachments": {},
   "cell_type": "markdown",
   "metadata": {},
   "source": [
    "Goal: Split the Data with the 100 most frequent authors into a train (70 %), validate (15 %) and test set (15 %)."
   ]
  },
  {
   "cell_type": "markdown",
   "metadata": {},
   "source": [
    "#### Load Data"
   ]
  },
  {
   "cell_type": "code",
   "execution_count": 2,
   "metadata": {},
   "outputs": [
    {
     "data": {
      "text/html": [
       "<div>\n",
       "<style scoped>\n",
       "    .dataframe tbody tr th:only-of-type {\n",
       "        vertical-align: middle;\n",
       "    }\n",
       "\n",
       "    .dataframe tbody tr th {\n",
       "        vertical-align: top;\n",
       "    }\n",
       "\n",
       "    .dataframe thead th {\n",
       "        text-align: right;\n",
       "    }\n",
       "</style>\n",
       "<table border=\"1\" class=\"dataframe\">\n",
       "  <thead>\n",
       "    <tr style=\"text-align: right;\">\n",
       "      <th></th>\n",
       "      <th>message</th>\n",
       "      <th>author_email</th>\n",
       "      <th>project</th>\n",
       "    </tr>\n",
       "  </thead>\n",
       "  <tbody>\n",
       "    <tr>\n",
       "      <th>0</th>\n",
       "      <td>Fixed an error happening when the memory stats...</td>\n",
       "      <td>michele.simionato@gmail.com</td>\n",
       "      <td>gem_oq-engine</td>\n",
       "    </tr>\n",
       "    <tr>\n",
       "      <th>1</th>\n",
       "      <td>Updated setup.py [skip CI]</td>\n",
       "      <td>michele.simionato@gmail.com</td>\n",
       "      <td>micheles_decorator</td>\n",
       "    </tr>\n",
       "    <tr>\n",
       "      <th>2</th>\n",
       "      <td>Fixed an exposure test [skip hazardlib]</td>\n",
       "      <td>michele.simionato@gmail.com</td>\n",
       "      <td>gem_oq-engine</td>\n",
       "    </tr>\n",
       "  </tbody>\n",
       "</table>\n",
       "</div>"
      ],
      "text/plain": [
       "                                             message  \\\n",
       "0  Fixed an error happening when the memory stats...   \n",
       "1                         Updated setup.py [skip CI]   \n",
       "2            Fixed an exposure test [skip hazardlib]   \n",
       "\n",
       "                  author_email             project  \n",
       "0  michele.simionato@gmail.com       gem_oq-engine  \n",
       "1  michele.simionato@gmail.com  micheles_decorator  \n",
       "2  michele.simionato@gmail.com       gem_oq-engine  "
      ]
     },
     "execution_count": 2,
     "metadata": {},
     "output_type": "execute_result"
    }
   ],
   "source": [
    "import pandas as pd\n",
    "import numpy as np\n",
    "\n",
    "data = pd.read_pickle('../data/03a_Authors_Subset.pkl')\n",
    "data.head(3)"
   ]
  },
  {
   "cell_type": "code",
   "execution_count": 3,
   "metadata": {},
   "outputs": [
    {
     "data": {
      "text/plain": [
       "100"
      ]
     },
     "execution_count": 3,
     "metadata": {},
     "output_type": "execute_result"
    }
   ],
   "source": [
    "from collections import Counter\n",
    "\n",
    "author_counter = Counter(data['author_email'])\n",
    "len(author_counter)"
   ]
  },
  {
   "attachments": {},
   "cell_type": "markdown",
   "metadata": {},
   "source": [
    "There are 100 authors.\n",
    "\n",
    "All messages of one author should be in one subset to be able to cluster authors by their style."
   ]
  },
  {
   "cell_type": "code",
   "execution_count": 4,
   "metadata": {},
   "outputs": [
    {
     "name": "stdout",
     "output_type": "stream",
     "text": [
      "70 percent of the 100 authors: 70.0 authors\n",
      "15 percent of the 100 authors: 15.0 authors\n"
     ]
    }
   ],
   "source": [
    "print('70 percent of the {total_authors} authors: {fraction_authors} authors'.format(total_authors = len(author_counter), fraction_authors = len(author_counter) * 0.7))\n",
    "print('15 percent of the {total_authors} authors: {fraction_authors} authors'.format(total_authors = len(author_counter), fraction_authors = len(author_counter) * 0.15))"
   ]
  },
  {
   "attachments": {},
   "cell_type": "markdown",
   "metadata": {},
   "source": [
    "The following split is proposed:\n",
    "\n",
    "| | number of authors |\n",
    "| --- | --- |\n",
    "| Training | 70 |\n",
    "| Validate | 15 |\n",
    "| Test | 15 |"
   ]
  },
  {
   "cell_type": "markdown",
   "metadata": {},
   "source": [
    "The allocation of authors to a subset should be random because some authors have more commit messages while others have fewer."
   ]
  },
  {
   "cell_type": "code",
   "execution_count": 5,
   "metadata": {},
   "outputs": [
    {
     "name": "stdout",
     "output_type": "stream",
     "text": [
      "[1 0 0 2 0 0 0 0 0 2 2 0 0 0 0 0 1 0 2 0 0 0 0 0 0 0 0 0 0 2 0 1 2 1 1 0 0\n",
      " 0 0 2 0 0 2 0 2 0 0 0 1 0 2 0 0 2 0 0 0 0 0 0 1 1 0 2 0 0 0 1 0 0 0 0 1 0\n",
      " 0 2 0 2 2 0 1 0 0 0 1 0 0 0 0 0 0 0 0 1 1 0 1 0 0 0]\n",
      "Counter({0: 70, 1: 15, 2: 15})\n"
     ]
    }
   ],
   "source": [
    "import numpy as np\n",
    "\n",
    "random_allocation = np.concatenate((np.full((70,), 0), np.full((15,), 1), np.full((15,), 2)))\n",
    "\n",
    "np.random.shuffle(random_allocation)\n",
    "\n",
    "print(random_allocation)\n",
    "print(Counter(random_allocation))"
   ]
  },
  {
   "cell_type": "markdown",
   "metadata": {},
   "source": [
    "The data is split accordingly and each committer gets a unique label."
   ]
  },
  {
   "cell_type": "code",
   "execution_count": 6,
   "metadata": {},
   "outputs": [],
   "source": [
    "import warnings\n",
    "warnings.filterwarnings('ignore')\n",
    "\n",
    "train_set = pd.DataFrame(columns=['message', 'author_email', 'project'])\n",
    "validate_set = pd.DataFrame(columns=['message', 'author_email', 'project'])\n",
    "test_set = pd.DataFrame(columns=['message', 'author_email', 'project'])\n",
    "\n",
    "for i, group_object in enumerate(data.groupby('author_email')):\n",
    "    group_object[1]['label'] = i\n",
    "    if random_allocation[i] == 0:\n",
    "        train_set = pd.concat([train_set, group_object[1]])\n",
    "    if random_allocation[i] == 1:\n",
    "        validate_set = pd.concat([validate_set, group_object[1]])\n",
    "    if random_allocation[i] == 2:\n",
    "        test_set = pd.concat([test_set, group_object[1]])\n",
    "\n",
    "train_set.reset_index(drop=True, inplace=True)\n",
    "validate_set.reset_index(drop=True, inplace=True)\n",
    "test_set.reset_index(drop=True, inplace=True)"
   ]
  },
  {
   "cell_type": "markdown",
   "metadata": {},
   "source": [
    "### Check for Overlapping Projects"
   ]
  },
  {
   "cell_type": "code",
   "execution_count": 7,
   "metadata": {},
   "outputs": [
    {
     "name": "stdout",
     "output_type": "stream",
     "text": [
      "There are 18 projects that occur in both train and validate set.\n",
      "There are 45 projects that occur in both train and test set.\n",
      "There are 0 projects that occur in both validate and test set.\n"
     ]
    }
   ],
   "source": [
    "projects = []\n",
    "projects.append(list(train_set['project'].unique()))\n",
    "projects.append(list(validate_set['project'].unique()))\n",
    "projects.append(list(test_set['project'].unique()))\n",
    "\n",
    "train_val_overlap = len(set(projects[0]) & set(projects[1]))\n",
    "train_test_overlap = len(set(projects[0]) & set(projects[2]))\n",
    "val_test_overlap = len(set(projects[1]) & set(projects[2]))\n",
    "\n",
    "print(f\"There are {train_val_overlap} projects that occur in both train and validate set.\")\n",
    "print(f\"There are {train_test_overlap} projects that occur in both train and test set.\")\n",
    "print(f\"There are {val_test_overlap} projects that occur in both validate and test set.\")"
   ]
  },
  {
   "cell_type": "markdown",
   "metadata": {},
   "source": [
    "### Resulting Train Set"
   ]
  },
  {
   "cell_type": "code",
   "execution_count": 8,
   "metadata": {},
   "outputs": [
    {
     "name": "stdout",
     "output_type": "stream",
     "text": [
      "Number of different Authors in the train set: 70\n",
      "Number of different Projects in the train set: 1286\n",
      "Average amount of commit messages per author: 1154.79\n"
     ]
    },
    {
     "data": {
      "text/html": [
       "<div>\n",
       "<style scoped>\n",
       "    .dataframe tbody tr th:only-of-type {\n",
       "        vertical-align: middle;\n",
       "    }\n",
       "\n",
       "    .dataframe tbody tr th {\n",
       "        vertical-align: top;\n",
       "    }\n",
       "\n",
       "    .dataframe thead th {\n",
       "        text-align: right;\n",
       "    }\n",
       "</style>\n",
       "<table border=\"1\" class=\"dataframe\">\n",
       "  <thead>\n",
       "    <tr style=\"text-align: right;\">\n",
       "      <th></th>\n",
       "      <th>message</th>\n",
       "      <th>author_email</th>\n",
       "      <th>project</th>\n",
       "      <th>label</th>\n",
       "    </tr>\n",
       "  </thead>\n",
       "  <tbody>\n",
       "    <tr>\n",
       "      <th>0</th>\n",
       "      <td>Removed value dimension restriction on Points</td>\n",
       "      <td>P.Rudiger@ed.ac.uk</td>\n",
       "      <td>pyviz_holoviews</td>\n",
       "      <td>1.0</td>\n",
       "    </tr>\n",
       "    <tr>\n",
       "      <th>1</th>\n",
       "      <td>Reverted change to sublabel positioning</td>\n",
       "      <td>P.Rudiger@ed.ac.uk</td>\n",
       "      <td>pyviz_holoviews</td>\n",
       "      <td>1.0</td>\n",
       "    </tr>\n",
       "    <tr>\n",
       "      <th>2</th>\n",
       "      <td>Increased default max_samples on decimate</td>\n",
       "      <td>P.Rudiger@ed.ac.uk</td>\n",
       "      <td>pyviz_holoviews</td>\n",
       "      <td>1.0</td>\n",
       "    </tr>\n",
       "    <tr>\n",
       "      <th>3</th>\n",
       "      <td>Small fix for stream sources on batched plots</td>\n",
       "      <td>P.Rudiger@ed.ac.uk</td>\n",
       "      <td>pyviz_holoviews</td>\n",
       "      <td>1.0</td>\n",
       "    </tr>\n",
       "    <tr>\n",
       "      <th>4</th>\n",
       "      <td>Allowed constructing empty MultiDimensionalMap...</td>\n",
       "      <td>P.Rudiger@ed.ac.uk</td>\n",
       "      <td>pyviz_holoviews</td>\n",
       "      <td>1.0</td>\n",
       "    </tr>\n",
       "    <tr>\n",
       "      <th>...</th>\n",
       "      <td>...</td>\n",
       "      <td>...</td>\n",
       "      <td>...</td>\n",
       "      <td>...</td>\n",
       "    </tr>\n",
       "    <tr>\n",
       "      <th>80830</th>\n",
       "      <td>Rename LiSEtest to SimTest</td>\n",
       "      <td>zacharyspector@gmail.com</td>\n",
       "      <td>LogicalDash_LiSE</td>\n",
       "      <td>99.0</td>\n",
       "    </tr>\n",
       "    <tr>\n",
       "      <th>80831</th>\n",
       "      <td>Turn character.StatMapping into a Signal</td>\n",
       "      <td>zacharyspector@gmail.com</td>\n",
       "      <td>LogicalDash_LiSE</td>\n",
       "      <td>99.0</td>\n",
       "    </tr>\n",
       "    <tr>\n",
       "      <th>80832</th>\n",
       "      <td>Decruft the old unused _no_use_canvas property...</td>\n",
       "      <td>zacharyspector@gmail.com</td>\n",
       "      <td>LogicalDash_LiSE</td>\n",
       "      <td>99.0</td>\n",
       "    </tr>\n",
       "    <tr>\n",
       "      <th>80833</th>\n",
       "      <td>logging for dummy\\n\\nTo more rapidly identify ...</td>\n",
       "      <td>zacharyspector@gmail.com</td>\n",
       "      <td>LogicalDash_LiSE</td>\n",
       "      <td>99.0</td>\n",
       "    </tr>\n",
       "    <tr>\n",
       "      <th>80834</th>\n",
       "      <td>Keep add_new_pawns from submitting a nodes_pat...</td>\n",
       "      <td>zacharyspector@gmail.com</td>\n",
       "      <td>LogicalDash_LiSE</td>\n",
       "      <td>99.0</td>\n",
       "    </tr>\n",
       "  </tbody>\n",
       "</table>\n",
       "<p>80835 rows × 4 columns</p>\n",
       "</div>"
      ],
      "text/plain": [
       "                                                 message  \\\n",
       "0          Removed value dimension restriction on Points   \n",
       "1                Reverted change to sublabel positioning   \n",
       "2              Increased default max_samples on decimate   \n",
       "3          Small fix for stream sources on batched plots   \n",
       "4      Allowed constructing empty MultiDimensionalMap...   \n",
       "...                                                  ...   \n",
       "80830                         Rename LiSEtest to SimTest   \n",
       "80831           Turn character.StatMapping into a Signal   \n",
       "80832  Decruft the old unused _no_use_canvas property...   \n",
       "80833  logging for dummy\\n\\nTo more rapidly identify ...   \n",
       "80834  Keep add_new_pawns from submitting a nodes_pat...   \n",
       "\n",
       "                   author_email           project  label  \n",
       "0            P.Rudiger@ed.ac.uk   pyviz_holoviews    1.0  \n",
       "1            P.Rudiger@ed.ac.uk   pyviz_holoviews    1.0  \n",
       "2            P.Rudiger@ed.ac.uk   pyviz_holoviews    1.0  \n",
       "3            P.Rudiger@ed.ac.uk   pyviz_holoviews    1.0  \n",
       "4            P.Rudiger@ed.ac.uk   pyviz_holoviews    1.0  \n",
       "...                         ...               ...    ...  \n",
       "80830  zacharyspector@gmail.com  LogicalDash_LiSE   99.0  \n",
       "80831  zacharyspector@gmail.com  LogicalDash_LiSE   99.0  \n",
       "80832  zacharyspector@gmail.com  LogicalDash_LiSE   99.0  \n",
       "80833  zacharyspector@gmail.com  LogicalDash_LiSE   99.0  \n",
       "80834  zacharyspector@gmail.com  LogicalDash_LiSE   99.0  \n",
       "\n",
       "[80835 rows x 4 columns]"
      ]
     },
     "execution_count": 8,
     "metadata": {},
     "output_type": "execute_result"
    }
   ],
   "source": [
    "authors_count = len(train_set['author_email'].unique())\n",
    "projects_count = len(train_set['project'].unique())\n",
    "\n",
    "print('Number of different Authors in the train set: ' + str(authors_count))\n",
    "print('Number of different Projects in the train set: ' + str(projects_count))\n",
    "print('Average amount of commit messages per author: ' + str(round(len(train_set) / authors_count, 2)))\n",
    "train_set"
   ]
  },
  {
   "cell_type": "markdown",
   "metadata": {},
   "source": [
    "### Resulting Validate Set"
   ]
  },
  {
   "cell_type": "code",
   "execution_count": 9,
   "metadata": {},
   "outputs": [
    {
     "name": "stdout",
     "output_type": "stream",
     "text": [
      "Number of different Authors in the validate set: 15\n",
      "Number of different Projects in the validate set: 117\n",
      "Average amount of commit messages per author: 1162.2\n"
     ]
    },
    {
     "data": {
      "text/html": [
       "<div>\n",
       "<style scoped>\n",
       "    .dataframe tbody tr th:only-of-type {\n",
       "        vertical-align: middle;\n",
       "    }\n",
       "\n",
       "    .dataframe tbody tr th {\n",
       "        vertical-align: top;\n",
       "    }\n",
       "\n",
       "    .dataframe thead th {\n",
       "        text-align: right;\n",
       "    }\n",
       "</style>\n",
       "<table border=\"1\" class=\"dataframe\">\n",
       "  <thead>\n",
       "    <tr style=\"text-align: right;\">\n",
       "      <th></th>\n",
       "      <th>message</th>\n",
       "      <th>author_email</th>\n",
       "      <th>project</th>\n",
       "      <th>label</th>\n",
       "    </tr>\n",
       "  </thead>\n",
       "  <tbody>\n",
       "    <tr>\n",
       "      <th>0</th>\n",
       "      <td>calcs/hazard/event_based/post_processing:\\n\\nM...</td>\n",
       "      <td>Lars.Butler@gmail.com</td>\n",
       "      <td>gem_oq-engine</td>\n",
       "      <td>0.0</td>\n",
       "    </tr>\n",
       "    <tr>\n",
       "      <th>1</th>\n",
       "      <td>added javadoc heading to hdf5 util class\\n\\n\\n...</td>\n",
       "      <td>Lars.Butler@gmail.com</td>\n",
       "      <td>gem_oq-engine</td>\n",
       "      <td>0.0</td>\n",
       "    </tr>\n",
       "    <tr>\n",
       "      <th>2</th>\n",
       "      <td>added missing imports in db_tests/__init__.py ...</td>\n",
       "      <td>Lars.Butler@gmail.com</td>\n",
       "      <td>gem_oq-engine</td>\n",
       "      <td>0.0</td>\n",
       "    </tr>\n",
       "    <tr>\n",
       "      <th>3</th>\n",
       "      <td>Fixed up a longer-running test, added slow attr</td>\n",
       "      <td>Lars.Butler@gmail.com</td>\n",
       "      <td>gem_oq-engine</td>\n",
       "      <td>0.0</td>\n",
       "    </tr>\n",
       "    <tr>\n",
       "      <th>4</th>\n",
       "      <td>calculators/hazard/event_based/core_next:\\n\\nR...</td>\n",
       "      <td>Lars.Butler@gmail.com</td>\n",
       "      <td>gem_oq-engine</td>\n",
       "      <td>0.0</td>\n",
       "    </tr>\n",
       "    <tr>\n",
       "      <th>...</th>\n",
       "      <td>...</td>\n",
       "      <td>...</td>\n",
       "      <td>...</td>\n",
       "      <td>...</td>\n",
       "    </tr>\n",
       "    <tr>\n",
       "      <th>17428</th>\n",
       "      <td>Apply uupdates to the dropfile routine to salt...</td>\n",
       "      <td>thatch45@gmail.com</td>\n",
       "      <td>saltstack_salt</td>\n",
       "      <td>96.0</td>\n",
       "    </tr>\n",
       "    <tr>\n",
       "      <th>17429</th>\n",
       "      <td>Remove esky errors because they only confuse %...</td>\n",
       "      <td>thatch45@gmail.com</td>\n",
       "      <td>saltstack_salt</td>\n",
       "      <td>96.0</td>\n",
       "    </tr>\n",
       "    <tr>\n",
       "      <th>17430</th>\n",
       "      <td>Add event firing to salt-ssh</td>\n",
       "      <td>thatch45@gmail.com</td>\n",
       "      <td>saltstack_salt</td>\n",
       "      <td>96.0</td>\n",
       "    </tr>\n",
       "    <tr>\n",
       "      <th>17431</th>\n",
       "      <td>Fix #&lt;I&gt;\\n\\nSorry about the long wait on this ...</td>\n",
       "      <td>thatch45@gmail.com</td>\n",
       "      <td>saltstack_salt</td>\n",
       "      <td>96.0</td>\n",
       "    </tr>\n",
       "    <tr>\n",
       "      <th>17432</th>\n",
       "      <td>fun is also a low chunk keyword, it needs to b...</td>\n",
       "      <td>thatch45@gmail.com</td>\n",
       "      <td>saltstack_salt</td>\n",
       "      <td>96.0</td>\n",
       "    </tr>\n",
       "  </tbody>\n",
       "</table>\n",
       "<p>17433 rows × 4 columns</p>\n",
       "</div>"
      ],
      "text/plain": [
       "                                                 message  \\\n",
       "0      calcs/hazard/event_based/post_processing:\\n\\nM...   \n",
       "1      added javadoc heading to hdf5 util class\\n\\n\\n...   \n",
       "2      added missing imports in db_tests/__init__.py ...   \n",
       "3        Fixed up a longer-running test, added slow attr   \n",
       "4      calculators/hazard/event_based/core_next:\\n\\nR...   \n",
       "...                                                  ...   \n",
       "17428  Apply uupdates to the dropfile routine to salt...   \n",
       "17429  Remove esky errors because they only confuse %...   \n",
       "17430                       Add event firing to salt-ssh   \n",
       "17431  Fix #<I>\\n\\nSorry about the long wait on this ...   \n",
       "17432  fun is also a low chunk keyword, it needs to b...   \n",
       "\n",
       "                author_email         project  label  \n",
       "0      Lars.Butler@gmail.com   gem_oq-engine    0.0  \n",
       "1      Lars.Butler@gmail.com   gem_oq-engine    0.0  \n",
       "2      Lars.Butler@gmail.com   gem_oq-engine    0.0  \n",
       "3      Lars.Butler@gmail.com   gem_oq-engine    0.0  \n",
       "4      Lars.Butler@gmail.com   gem_oq-engine    0.0  \n",
       "...                      ...             ...    ...  \n",
       "17428     thatch45@gmail.com  saltstack_salt   96.0  \n",
       "17429     thatch45@gmail.com  saltstack_salt   96.0  \n",
       "17430     thatch45@gmail.com  saltstack_salt   96.0  \n",
       "17431     thatch45@gmail.com  saltstack_salt   96.0  \n",
       "17432     thatch45@gmail.com  saltstack_salt   96.0  \n",
       "\n",
       "[17433 rows x 4 columns]"
      ]
     },
     "execution_count": 9,
     "metadata": {},
     "output_type": "execute_result"
    }
   ],
   "source": [
    "authors_count = len(validate_set['author_email'].unique())\n",
    "projects_count = len(validate_set['project'].unique())\n",
    "\n",
    "print('Number of different Authors in the validate set: ' + str(authors_count))\n",
    "print('Number of different Projects in the validate set: ' + str(projects_count))\n",
    "print('Average amount of commit messages per author: ' + str(round(len(validate_set) / authors_count, 2)))\n",
    "validate_set"
   ]
  },
  {
   "cell_type": "markdown",
   "metadata": {},
   "source": [
    "### Resulting Test Set"
   ]
  },
  {
   "cell_type": "code",
   "execution_count": 10,
   "metadata": {},
   "outputs": [
    {
     "name": "stdout",
     "output_type": "stream",
     "text": [
      "Number of different Authors in the test set: 15\n",
      "Number of different Projects in the test set: 279\n",
      "Average amount of commit messages per author: 969.07\n"
     ]
    },
    {
     "data": {
      "text/html": [
       "<div>\n",
       "<style scoped>\n",
       "    .dataframe tbody tr th:only-of-type {\n",
       "        vertical-align: middle;\n",
       "    }\n",
       "\n",
       "    .dataframe tbody tr th {\n",
       "        vertical-align: top;\n",
       "    }\n",
       "\n",
       "    .dataframe thead th {\n",
       "        text-align: right;\n",
       "    }\n",
       "</style>\n",
       "<table border=\"1\" class=\"dataframe\">\n",
       "  <thead>\n",
       "    <tr style=\"text-align: right;\">\n",
       "      <th></th>\n",
       "      <th>message</th>\n",
       "      <th>author_email</th>\n",
       "      <th>project</th>\n",
       "      <th>label</th>\n",
       "    </tr>\n",
       "  </thead>\n",
       "  <tbody>\n",
       "    <tr>\n",
       "      <th>0</th>\n",
       "      <td>[enrich][logs] Show datasource in loading iden...</td>\n",
       "      <td>acs@bitergia.com</td>\n",
       "      <td>chaoss_grimoirelab-elk</td>\n",
       "      <td>3.0</td>\n",
       "    </tr>\n",
       "    <tr>\n",
       "      <th>1</th>\n",
       "      <td>[enrich][bugzilla] Use items as the type for t...</td>\n",
       "      <td>acs@bitergia.com</td>\n",
       "      <td>chaoss_grimoirelab-elk</td>\n",
       "      <td>3.0</td>\n",
       "    </tr>\n",
       "    <tr>\n",
       "      <th>2</th>\n",
       "      <td>Removed not used code (old use of pullrequests...</td>\n",
       "      <td>acs@bitergia.com</td>\n",
       "      <td>chaoss_grimoirelab-elk</td>\n",
       "      <td>3.0</td>\n",
       "    </tr>\n",
       "    <tr>\n",
       "      <th>3</th>\n",
       "      <td>[release] Update version number to &lt;I&gt;</td>\n",
       "      <td>acs@bitergia.com</td>\n",
       "      <td>chaoss_grimoirelab-elk</td>\n",
       "      <td>3.0</td>\n",
       "    </tr>\n",
       "    <tr>\n",
       "      <th>4</th>\n",
       "      <td>[logs] Remove logs related to getting last upd...</td>\n",
       "      <td>acs@bitergia.com</td>\n",
       "      <td>chaoss_grimoirelab-elk</td>\n",
       "      <td>3.0</td>\n",
       "    </tr>\n",
       "    <tr>\n",
       "      <th>...</th>\n",
       "      <td>...</td>\n",
       "      <td>...</td>\n",
       "      <td>...</td>\n",
       "      <td>...</td>\n",
       "    </tr>\n",
       "    <tr>\n",
       "      <th>14531</th>\n",
       "      <td>Marking `Uuid::uuid5()` as pure: same input le...</td>\n",
       "      <td>ocramius@gmail.com</td>\n",
       "      <td>ramsey_uuid</td>\n",
       "      <td>78.0</td>\n",
       "    </tr>\n",
       "    <tr>\n",
       "      <th>14532</th>\n",
       "      <td>Removing temporary files on failed write opera...</td>\n",
       "      <td>ocramius@gmail.com</td>\n",
       "      <td>Ocramius_ProxyManager</td>\n",
       "      <td>78.0</td>\n",
       "    </tr>\n",
       "    <tr>\n",
       "      <th>14533</th>\n",
       "      <td>Expecting `inspectionId` in the `InspectionCon...</td>\n",
       "      <td>ocramius@gmail.com</td>\n",
       "      <td>Roave_RoaveDeveloperTools</td>\n",
       "      <td>78.0</td>\n",
       "    </tr>\n",
       "    <tr>\n",
       "      <th>14534</th>\n",
       "      <td>Marked return type of `\\set_exception_handler(...</td>\n",
       "      <td>ocramius@gmail.com</td>\n",
       "      <td>phpstan_phpstan</td>\n",
       "      <td>78.0</td>\n",
       "    </tr>\n",
       "    <tr>\n",
       "      <th>14535</th>\n",
       "      <td>#&lt;I&gt; - Removing check for `Closure::bind()` su...</td>\n",
       "      <td>ocramius@gmail.com</td>\n",
       "      <td>Ocramius_ProxyManager</td>\n",
       "      <td>78.0</td>\n",
       "    </tr>\n",
       "  </tbody>\n",
       "</table>\n",
       "<p>14536 rows × 4 columns</p>\n",
       "</div>"
      ],
      "text/plain": [
       "                                                 message        author_email  \\\n",
       "0      [enrich][logs] Show datasource in loading iden...    acs@bitergia.com   \n",
       "1      [enrich][bugzilla] Use items as the type for t...    acs@bitergia.com   \n",
       "2      Removed not used code (old use of pullrequests...    acs@bitergia.com   \n",
       "3                 [release] Update version number to <I>    acs@bitergia.com   \n",
       "4      [logs] Remove logs related to getting last upd...    acs@bitergia.com   \n",
       "...                                                  ...                 ...   \n",
       "14531  Marking `Uuid::uuid5()` as pure: same input le...  ocramius@gmail.com   \n",
       "14532  Removing temporary files on failed write opera...  ocramius@gmail.com   \n",
       "14533  Expecting `inspectionId` in the `InspectionCon...  ocramius@gmail.com   \n",
       "14534  Marked return type of `\\set_exception_handler(...  ocramius@gmail.com   \n",
       "14535  #<I> - Removing check for `Closure::bind()` su...  ocramius@gmail.com   \n",
       "\n",
       "                         project  label  \n",
       "0         chaoss_grimoirelab-elk    3.0  \n",
       "1         chaoss_grimoirelab-elk    3.0  \n",
       "2         chaoss_grimoirelab-elk    3.0  \n",
       "3         chaoss_grimoirelab-elk    3.0  \n",
       "4         chaoss_grimoirelab-elk    3.0  \n",
       "...                          ...    ...  \n",
       "14531                ramsey_uuid   78.0  \n",
       "14532      Ocramius_ProxyManager   78.0  \n",
       "14533  Roave_RoaveDeveloperTools   78.0  \n",
       "14534            phpstan_phpstan   78.0  \n",
       "14535      Ocramius_ProxyManager   78.0  \n",
       "\n",
       "[14536 rows x 4 columns]"
      ]
     },
     "execution_count": 10,
     "metadata": {},
     "output_type": "execute_result"
    }
   ],
   "source": [
    "authors_count = len(test_set['author_email'].unique())\n",
    "projects_count = len(test_set['project'].unique())\n",
    "\n",
    "print('Number of different Authors in the test set: ' + str(authors_count))\n",
    "print('Number of different Projects in the test set: ' + str(projects_count))\n",
    "print('Average amount of commit messages per author: ' + str(round(len(test_set) / authors_count, 2)))\n",
    "test_set"
   ]
  },
  {
   "cell_type": "markdown",
   "metadata": {},
   "source": [
    "The number of average commit messages per dataframe cannot be totally balanced since there are some committers with a significantly higher amount of commit messages who are more likely to be allocated to the train set."
   ]
  },
  {
   "cell_type": "markdown",
   "metadata": {},
   "source": [
    "### Save all three Dataframes"
   ]
  },
  {
   "cell_type": "code",
   "execution_count": 11,
   "metadata": {},
   "outputs": [],
   "source": [
    "train_set.to_pickle('../data/04-1a_Authors_Train_Set.pkl')\n",
    "validate_set.to_pickle('../data/04-1b_Authors_Validate_Set.pkl')\n",
    "test_set.to_pickle('../data/04-1c_Authors_Test_Set.pkl')"
   ]
  }
 ],
 "metadata": {
  "kernelspec": {
   "display_name": "Python 3",
   "language": "python",
   "name": "python3"
  },
  "language_info": {
   "codemirror_mode": {
    "name": "ipython",
    "version": 3
   },
   "file_extension": ".py",
   "mimetype": "text/x-python",
   "name": "python",
   "nbconvert_exporter": "python",
   "pygments_lexer": "ipython3",
   "version": "3.10.9"
  },
  "orig_nbformat": 4,
  "vscode": {
   "interpreter": {
    "hash": "b0fa6594d8f4cbf19f97940f81e996739fb7646882a419484c72d19e05852a7e"
   }
  }
 },
 "nbformat": 4,
 "nbformat_minor": 2
}
