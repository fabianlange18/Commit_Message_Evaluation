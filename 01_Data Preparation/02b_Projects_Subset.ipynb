{
 "cells": [
  {
   "attachments": {},
   "cell_type": "markdown",
   "metadata": {},
   "source": [
    "# Generate Most Frequent Projects Subset"
   ]
  },
  {
   "attachments": {},
   "cell_type": "markdown",
   "metadata": {},
   "source": [
    "Goal: Include all messages from the 100 projects that have the most commit messages."
   ]
  },
  {
   "cell_type": "markdown",
   "metadata": {},
   "source": [
    "#### Load Data"
   ]
  },
  {
   "cell_type": "code",
   "execution_count": 1,
   "metadata": {},
   "outputs": [
    {
     "data": {
      "text/html": [
       "<div>\n",
       "<style scoped>\n",
       "    .dataframe tbody tr th:only-of-type {\n",
       "        vertical-align: middle;\n",
       "    }\n",
       "\n",
       "    .dataframe tbody tr th {\n",
       "        vertical-align: top;\n",
       "    }\n",
       "\n",
       "    .dataframe thead th {\n",
       "        text-align: right;\n",
       "    }\n",
       "</style>\n",
       "<table border=\"1\" class=\"dataframe\">\n",
       "  <thead>\n",
       "    <tr style=\"text-align: right;\">\n",
       "      <th></th>\n",
       "      <th>message</th>\n",
       "      <th>author_email</th>\n",
       "      <th>project</th>\n",
       "    </tr>\n",
       "  </thead>\n",
       "  <tbody>\n",
       "    <tr>\n",
       "      <th>0</th>\n",
       "      <td>setup: Detect if wheel and twine installed</td>\n",
       "      <td>gcushen@users.noreply.github.com</td>\n",
       "      <td>gcushen_mezzanine-api</td>\n",
       "    </tr>\n",
       "    <tr>\n",
       "      <th>1</th>\n",
       "      <td>[Builder] Adding root page in any case</td>\n",
       "      <td>g.passault@gmail.com</td>\n",
       "      <td>Gregwar_Slidey</td>\n",
       "    </tr>\n",
       "    <tr>\n",
       "      <th>2</th>\n",
       "      <td>Added web.Urlencode method</td>\n",
       "      <td>hoisie@gmail.com</td>\n",
       "      <td>hoisie_web</td>\n",
       "    </tr>\n",
       "  </tbody>\n",
       "</table>\n",
       "</div>"
      ],
      "text/plain": [
       "                                      message  \\\n",
       "0  setup: Detect if wheel and twine installed   \n",
       "1      [Builder] Adding root page in any case   \n",
       "2                  Added web.Urlencode method   \n",
       "\n",
       "                       author_email                project  \n",
       "0  gcushen@users.noreply.github.com  gcushen_mezzanine-api  \n",
       "1              g.passault@gmail.com         Gregwar_Slidey  \n",
       "2                  hoisie@gmail.com             hoisie_web  "
      ]
     },
     "execution_count": 1,
     "metadata": {},
     "output_type": "execute_result"
    }
   ],
   "source": [
    "import pandas as pd\n",
    "\n",
    "data = pd.read_pickle(\"../data/02_All_Decreased_Filesize.pkl\")\n",
    "data.head(3)"
   ]
  },
  {
   "attachments": {},
   "cell_type": "markdown",
   "metadata": {},
   "source": [
    "#### Take the subset\n",
    "\n",
    "For the final model, the 100 projects with the highest amount of commit messages are used."
   ]
  },
  {
   "cell_type": "code",
   "execution_count": 2,
   "metadata": {},
   "outputs": [],
   "source": [
    "from collections import Counter\n",
    "\n",
    "project_count = Counter(data[\"project\"])\n",
    "included_projects_counter = project_count.most_common(100)"
   ]
  },
  {
   "cell_type": "code",
   "execution_count": 3,
   "metadata": {},
   "outputs": [
    {
     "data": {
      "text/plain": [
       "[('saltstack_salt', 17501),\n",
       " ('moodle_moodle', 16754),\n",
       " ('rails_rails', 11565),\n",
       " ('gem_oq-engine', 8228),\n",
       " ('cakephp_cakephp', 5636),\n",
       " ('lxc_lxd', 5584),\n",
       " ('juju_juju', 5313),\n",
       " ('kubernetes_kubernetes', 5193),\n",
       " ('ccxt_ccxt', 5050),\n",
       " ('laravel_framework', 4829),\n",
       " ('puppetlabs_puppet', 4518),\n",
       " ('chef_chef', 4494),\n",
       " ('SeleniumHQ_selenium', 4113),\n",
       " ('symfony_symfony', 4083),\n",
       " ('spyder-ide_spyder', 4038),\n",
       " ('keybase_client', 3605),\n",
       " ('TryGhost_Ghost', 3225),\n",
       " ('koala-framework_koala-framework', 3112),\n",
       " ('moby_moby', 3070),\n",
       " ('matomo-org_matomo', 2908),\n",
       " ('bolt_bolt', 2889),\n",
       " ('google_closure-compiler', 2846),\n",
       " ('contao_contao', 2816),\n",
       " ('Automattic_wp-calypso', 2751),\n",
       " ('terraform-providers_terraform-provider-aws', 2740),\n",
       " ('concrete5_concrete5', 2670),\n",
       " ('jenkinsci_jenkins', 2656),\n",
       " ('openlayers_openlayers', 2655),\n",
       " ('vitessio_vitess', 2541),\n",
       " ('fastlane_fastlane', 2476),\n",
       " ('VoltDB_voltdb', 2403),\n",
       " ('pyviz_holoviews', 2382),\n",
       " ('influxdata_influxdb', 2379),\n",
       " ('silverstripe_silverstripe-framework', 2363),\n",
       " ('buildbot_buildbot', 2288),\n",
       " ('angr_angr', 2279),\n",
       " ('Katello_katello', 2262),\n",
       " ('pypa_setuptools', 2220),\n",
       " ('hashicorp_terraform', 2211),\n",
       " ('fisharebest_webtrees', 2165),\n",
       " ('Koenkk_zigbee-shepherd-converters', 2139),\n",
       " ('hazelcast_hazelcast', 2135),\n",
       " ('cilium_cilium', 2112),\n",
       " ('fog_fog', 2070),\n",
       " ('SAP_openui5', 2047),\n",
       " ('pandas-dev_pandas', 2046),\n",
       " ('orientechnologies_orientdb', 2010),\n",
       " ('silverorange_swat', 1999),\n",
       " ('codemirror_CodeMirror', 1998),\n",
       " ('hashicorp_vagrant', 1968),\n",
       " ('joomlatools_joomlatools-framework', 1958),\n",
       " ('openshift_origin', 1907),\n",
       " ('h2oai_h2o-3', 1901),\n",
       " ('ezsystems_ezpublish-kernel', 1873),\n",
       " ('emberjs_ember.js', 1865),\n",
       " ('eclipse_orion.client', 1850),\n",
       " ('tsuru_tsuru', 1830),\n",
       " ('apache_airflow', 1814),\n",
       " ('jhipster_generator-jhipster', 1810),\n",
       " ('real-logic_aeron', 1808),\n",
       " ('sorgerlab_indra', 1785),\n",
       " ('illuminate_database', 1730),\n",
       " ('hashicorp_nomad', 1724),\n",
       " ('Alluxio_alluxio', 1721),\n",
       " ('adobe_brackets', 1698),\n",
       " ('claroline_Distribution', 1676),\n",
       " ('structr_structr', 1670),\n",
       " ('ethereum_go-ethereum', 1659),\n",
       " ('etcd-io_etcd', 1652),\n",
       " ('lightningnetwork_lnd', 1647),\n",
       " ('bcbio_bcbio-nextgen', 1622),\n",
       " ('apache_flink', 1614),\n",
       " ('cloudfoundry_bosh', 1599),\n",
       " ('jquery_jquery', 1592),\n",
       " ('meew0_discordrb', 1590),\n",
       " ('languagetool-org_languagetool', 1535),\n",
       " ('pods-framework_pods', 1508),\n",
       " ('cargomedia_cm', 1499),\n",
       " ('hashicorp_packer', 1487),\n",
       " ('google_closure-library', 1485),\n",
       " ('gwpy_gwpy', 1458),\n",
       " ('sosreport_sos', 1454),\n",
       " ('grafana_grafana', 1439),\n",
       " ('codeigniter4_CodeIgniter4', 1430),\n",
       " ('Rapptz_discord.py', 1423),\n",
       " ('h2oai_h2o-2', 1411),\n",
       " ('SonarSource_sonarqube', 1408),\n",
       " ('ipfs_go-ipfs', 1362),\n",
       " ('pachyderm_pachyderm', 1360),\n",
       " ('ronin-ruby_ronin', 1338),\n",
       " ('wildfly_wildfly', 1325),\n",
       " ('prestodb_presto', 1320),\n",
       " ('OXID-eSales_oxideshop_ce', 1316),\n",
       " ('LogicalDash_LiSE', 1306),\n",
       " ('netty_netty', 1280),\n",
       " ('materialsproject_pymatgen', 1264),\n",
       " ('Graylog2_graylog2-server', 1261),\n",
       " ('DLR-RM_RAFCON', 1241),\n",
       " ('pytroll_satpy', 1241),\n",
       " ('bokeh_bokeh', 1231)]"
      ]
     },
     "execution_count": 3,
     "metadata": {},
     "output_type": "execute_result"
    }
   ],
   "source": [
    "project_count.most_common(100)"
   ]
  },
  {
   "cell_type": "markdown",
   "metadata": {},
   "source": [
    "#### Transform to a list"
   ]
  },
  {
   "cell_type": "code",
   "execution_count": 4,
   "metadata": {},
   "outputs": [
    {
     "data": {
      "text/plain": [
       "['saltstack_salt',\n",
       " 'moodle_moodle',\n",
       " 'rails_rails',\n",
       " 'gem_oq-engine',\n",
       " 'cakephp_cakephp',\n",
       " 'lxc_lxd',\n",
       " 'juju_juju',\n",
       " 'kubernetes_kubernetes',\n",
       " 'ccxt_ccxt',\n",
       " 'laravel_framework',\n",
       " 'puppetlabs_puppet',\n",
       " 'chef_chef',\n",
       " 'SeleniumHQ_selenium',\n",
       " 'symfony_symfony',\n",
       " 'spyder-ide_spyder',\n",
       " 'keybase_client',\n",
       " 'TryGhost_Ghost',\n",
       " 'koala-framework_koala-framework',\n",
       " 'moby_moby',\n",
       " 'matomo-org_matomo',\n",
       " 'bolt_bolt',\n",
       " 'google_closure-compiler',\n",
       " 'contao_contao',\n",
       " 'Automattic_wp-calypso',\n",
       " 'terraform-providers_terraform-provider-aws',\n",
       " 'concrete5_concrete5',\n",
       " 'jenkinsci_jenkins',\n",
       " 'openlayers_openlayers',\n",
       " 'vitessio_vitess',\n",
       " 'fastlane_fastlane',\n",
       " 'VoltDB_voltdb',\n",
       " 'pyviz_holoviews',\n",
       " 'influxdata_influxdb',\n",
       " 'silverstripe_silverstripe-framework',\n",
       " 'buildbot_buildbot',\n",
       " 'angr_angr',\n",
       " 'Katello_katello',\n",
       " 'pypa_setuptools',\n",
       " 'hashicorp_terraform',\n",
       " 'fisharebest_webtrees',\n",
       " 'Koenkk_zigbee-shepherd-converters',\n",
       " 'hazelcast_hazelcast',\n",
       " 'cilium_cilium',\n",
       " 'fog_fog',\n",
       " 'SAP_openui5',\n",
       " 'pandas-dev_pandas',\n",
       " 'orientechnologies_orientdb',\n",
       " 'silverorange_swat',\n",
       " 'codemirror_CodeMirror',\n",
       " 'hashicorp_vagrant',\n",
       " 'joomlatools_joomlatools-framework',\n",
       " 'openshift_origin',\n",
       " 'h2oai_h2o-3',\n",
       " 'ezsystems_ezpublish-kernel',\n",
       " 'emberjs_ember.js',\n",
       " 'eclipse_orion.client',\n",
       " 'tsuru_tsuru',\n",
       " 'apache_airflow',\n",
       " 'jhipster_generator-jhipster',\n",
       " 'real-logic_aeron',\n",
       " 'sorgerlab_indra',\n",
       " 'illuminate_database',\n",
       " 'hashicorp_nomad',\n",
       " 'Alluxio_alluxio',\n",
       " 'adobe_brackets',\n",
       " 'claroline_Distribution',\n",
       " 'structr_structr',\n",
       " 'ethereum_go-ethereum',\n",
       " 'etcd-io_etcd',\n",
       " 'lightningnetwork_lnd',\n",
       " 'bcbio_bcbio-nextgen',\n",
       " 'apache_flink',\n",
       " 'cloudfoundry_bosh',\n",
       " 'jquery_jquery',\n",
       " 'meew0_discordrb',\n",
       " 'languagetool-org_languagetool',\n",
       " 'pods-framework_pods',\n",
       " 'cargomedia_cm',\n",
       " 'hashicorp_packer',\n",
       " 'google_closure-library',\n",
       " 'gwpy_gwpy',\n",
       " 'sosreport_sos',\n",
       " 'grafana_grafana',\n",
       " 'codeigniter4_CodeIgniter4',\n",
       " 'Rapptz_discord.py',\n",
       " 'h2oai_h2o-2',\n",
       " 'SonarSource_sonarqube',\n",
       " 'ipfs_go-ipfs',\n",
       " 'pachyderm_pachyderm',\n",
       " 'ronin-ruby_ronin',\n",
       " 'wildfly_wildfly',\n",
       " 'prestodb_presto',\n",
       " 'OXID-eSales_oxideshop_ce',\n",
       " 'LogicalDash_LiSE',\n",
       " 'netty_netty',\n",
       " 'materialsproject_pymatgen',\n",
       " 'Graylog2_graylog2-server',\n",
       " 'DLR-RM_RAFCON',\n",
       " 'pytroll_satpy',\n",
       " 'bokeh_bokeh']"
      ]
     },
     "execution_count": 4,
     "metadata": {},
     "output_type": "execute_result"
    }
   ],
   "source": [
    "included_projects = [project[0] for project in included_projects_counter]\n",
    "included_projects"
   ]
  },
  {
   "cell_type": "markdown",
   "metadata": {},
   "source": [
    "#### Filter the dataframe"
   ]
  },
  {
   "cell_type": "code",
   "execution_count": 5,
   "metadata": {},
   "outputs": [],
   "source": [
    "subset = data.where(data['project'] == included_projects[0])\n",
    "\n",
    "for project in included_projects[1:]:\n",
    "    subset = pd.concat([subset, data.where(data['project'] == project)])"
   ]
  },
  {
   "cell_type": "code",
   "execution_count": 6,
   "metadata": {},
   "outputs": [
    {
     "data": {
      "text/html": [
       "<div>\n",
       "<style scoped>\n",
       "    .dataframe tbody tr th:only-of-type {\n",
       "        vertical-align: middle;\n",
       "    }\n",
       "\n",
       "    .dataframe tbody tr th {\n",
       "        vertical-align: top;\n",
       "    }\n",
       "\n",
       "    .dataframe thead th {\n",
       "        text-align: right;\n",
       "    }\n",
       "</style>\n",
       "<table border=\"1\" class=\"dataframe\">\n",
       "  <thead>\n",
       "    <tr style=\"text-align: right;\">\n",
       "      <th></th>\n",
       "      <th>message</th>\n",
       "      <th>author_email</th>\n",
       "      <th>project</th>\n",
       "    </tr>\n",
       "  </thead>\n",
       "  <tbody>\n",
       "    <tr>\n",
       "      <th>0</th>\n",
       "      <td>Ensure topic as bytes when zmq_filtering enabl...</td>\n",
       "      <td>pengyao@pengyao.org</td>\n",
       "      <td>saltstack_salt</td>\n",
       "    </tr>\n",
       "    <tr>\n",
       "      <th>1</th>\n",
       "      <td>Fix the process_test.test_kill failure in &lt;I&gt;</td>\n",
       "      <td>janderson@saltstack.com</td>\n",
       "      <td>saltstack_salt</td>\n",
       "    </tr>\n",
       "    <tr>\n",
       "      <th>2</th>\n",
       "      <td>Add state.pkg to highstate outputters</td>\n",
       "      <td>thatch45@gmail.com</td>\n",
       "      <td>saltstack_salt</td>\n",
       "    </tr>\n",
       "    <tr>\n",
       "      <th>3</th>\n",
       "      <td>Fix mis-naming from pylint cleanup</td>\n",
       "      <td>jacksontj.89@gmail.com</td>\n",
       "      <td>saltstack_salt</td>\n",
       "    </tr>\n",
       "    <tr>\n",
       "      <th>4</th>\n",
       "      <td>restartcheck: update function doc\\n\\nThe doc c...</td>\n",
       "      <td>adrian.ratiu@ni.com</td>\n",
       "      <td>saltstack_salt</td>\n",
       "    </tr>\n",
       "    <tr>\n",
       "      <th>...</th>\n",
       "      <td>...</td>\n",
       "      <td>...</td>\n",
       "      <td>...</td>\n",
       "    </tr>\n",
       "    <tr>\n",
       "      <th>271268</th>\n",
       "      <td>fix test against inline resources for autoload...</td>\n",
       "      <td>bryanv@continuum.io</td>\n",
       "      <td>bokeh_bokeh</td>\n",
       "    </tr>\n",
       "    <tr>\n",
       "      <th>271269</th>\n",
       "      <td>FIX: forgot to save files last time</td>\n",
       "      <td>humongo.shi@gmail.com</td>\n",
       "      <td>bokeh_bokeh</td>\n",
       "    </tr>\n",
       "    <tr>\n",
       "      <th>271270</th>\n",
       "      <td>add test for histogram ill-defined data</td>\n",
       "      <td>almar.klein@gmail.com</td>\n",
       "      <td>bokeh_bokeh</td>\n",
       "    </tr>\n",
       "    <tr>\n",
       "      <th>271271</th>\n",
       "      <td>Added section reference to DEFAULT_HELP_URL</td>\n",
       "      <td>adam.subanloewen@gmail.com</td>\n",
       "      <td>bokeh_bokeh</td>\n",
       "    </tr>\n",
       "    <tr>\n",
       "      <th>271272</th>\n",
       "      <td>Used add_plot session method instead of the ol...</td>\n",
       "      <td>damianavila@gmail.com</td>\n",
       "      <td>bokeh_bokeh</td>\n",
       "    </tr>\n",
       "  </tbody>\n",
       "</table>\n",
       "<p>271273 rows × 3 columns</p>\n",
       "</div>"
      ],
      "text/plain": [
       "                                                  message  \\\n",
       "0       Ensure topic as bytes when zmq_filtering enabl...   \n",
       "1           Fix the process_test.test_kill failure in <I>   \n",
       "2                   Add state.pkg to highstate outputters   \n",
       "3                      Fix mis-naming from pylint cleanup   \n",
       "4       restartcheck: update function doc\\n\\nThe doc c...   \n",
       "...                                                   ...   \n",
       "271268  fix test against inline resources for autoload...   \n",
       "271269                FIX: forgot to save files last time   \n",
       "271270            add test for histogram ill-defined data   \n",
       "271271        Added section reference to DEFAULT_HELP_URL   \n",
       "271272  Used add_plot session method instead of the ol...   \n",
       "\n",
       "                      author_email         project  \n",
       "0              pengyao@pengyao.org  saltstack_salt  \n",
       "1          janderson@saltstack.com  saltstack_salt  \n",
       "2               thatch45@gmail.com  saltstack_salt  \n",
       "3           jacksontj.89@gmail.com  saltstack_salt  \n",
       "4              adrian.ratiu@ni.com  saltstack_salt  \n",
       "...                            ...             ...  \n",
       "271268         bryanv@continuum.io     bokeh_bokeh  \n",
       "271269       humongo.shi@gmail.com     bokeh_bokeh  \n",
       "271270       almar.klein@gmail.com     bokeh_bokeh  \n",
       "271271  adam.subanloewen@gmail.com     bokeh_bokeh  \n",
       "271272       damianavila@gmail.com     bokeh_bokeh  \n",
       "\n",
       "[271273 rows x 3 columns]"
      ]
     },
     "execution_count": 6,
     "metadata": {},
     "output_type": "execute_result"
    }
   ],
   "source": [
    "subset = subset.dropna()\n",
    "subset.reset_index(drop=True, inplace=True)\n",
    "subset"
   ]
  },
  {
   "cell_type": "markdown",
   "metadata": {},
   "source": [
    "#### Check whether the sum is correct"
   ]
  },
  {
   "cell_type": "code",
   "execution_count": 7,
   "metadata": {},
   "outputs": [
    {
     "data": {
      "text/plain": [
       "271312"
      ]
     },
     "execution_count": 7,
     "metadata": {},
     "output_type": "execute_result"
    }
   ],
   "source": [
    "sum([count for _, count in included_projects_counter])"
   ]
  },
  {
   "cell_type": "markdown",
   "metadata": {},
   "source": [
    "The sum is correct.\n",
    "\n",
    "#### Save dataset"
   ]
  },
  {
   "cell_type": "code",
   "execution_count": 8,
   "metadata": {},
   "outputs": [],
   "source": [
    "subset.to_pickle('../data/03b_Projects_Subset.pkl')"
   ]
  }
 ],
 "metadata": {
  "kernelspec": {
   "display_name": "Python 3.8.9 64-bit",
   "language": "python",
   "name": "python3"
  },
  "language_info": {
   "codemirror_mode": {
    "name": "ipython",
    "version": 3
   },
   "file_extension": ".py",
   "mimetype": "text/x-python",
   "name": "python",
   "nbconvert_exporter": "python",
   "pygments_lexer": "ipython3",
   "version": "3.8.9"
  },
  "orig_nbformat": 4,
  "vscode": {
   "interpreter": {
    "hash": "31f2aee4e71d21fbe5cf8b01ff0e069b9275f58929596ceb00d14d90e3e16cd6"
   }
  }
 },
 "nbformat": 4,
 "nbformat_minor": 2
}
