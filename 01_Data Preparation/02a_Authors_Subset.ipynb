{
 "cells": [
  {
   "cell_type": "markdown",
   "metadata": {},
   "source": [
    "# Generate Most Frequent Committers Subset"
   ]
  },
  {
   "attachments": {},
   "cell_type": "markdown",
   "metadata": {},
   "source": [
    "Goal: Include all messages from the 100 committers who have the most commit messages."
   ]
  },
  {
   "cell_type": "markdown",
   "metadata": {},
   "source": [
    "#### Load Data"
   ]
  },
  {
   "cell_type": "code",
   "execution_count": 1,
   "metadata": {},
   "outputs": [
    {
     "data": {
      "text/html": [
       "<div>\n",
       "<style scoped>\n",
       "    .dataframe tbody tr th:only-of-type {\n",
       "        vertical-align: middle;\n",
       "    }\n",
       "\n",
       "    .dataframe tbody tr th {\n",
       "        vertical-align: top;\n",
       "    }\n",
       "\n",
       "    .dataframe thead th {\n",
       "        text-align: right;\n",
       "    }\n",
       "</style>\n",
       "<table border=\"1\" class=\"dataframe\">\n",
       "  <thead>\n",
       "    <tr style=\"text-align: right;\">\n",
       "      <th></th>\n",
       "      <th>message</th>\n",
       "      <th>author_email</th>\n",
       "      <th>project</th>\n",
       "    </tr>\n",
       "  </thead>\n",
       "  <tbody>\n",
       "    <tr>\n",
       "      <th>0</th>\n",
       "      <td>setup: Detect if wheel and twine installed</td>\n",
       "      <td>gcushen@users.noreply.github.com</td>\n",
       "      <td>gcushen_mezzanine-api</td>\n",
       "    </tr>\n",
       "    <tr>\n",
       "      <th>1</th>\n",
       "      <td>[Builder] Adding root page in any case</td>\n",
       "      <td>g.passault@gmail.com</td>\n",
       "      <td>Gregwar_Slidey</td>\n",
       "    </tr>\n",
       "    <tr>\n",
       "      <th>2</th>\n",
       "      <td>Added web.Urlencode method</td>\n",
       "      <td>hoisie@gmail.com</td>\n",
       "      <td>hoisie_web</td>\n",
       "    </tr>\n",
       "  </tbody>\n",
       "</table>\n",
       "</div>"
      ],
      "text/plain": [
       "                                      message  \\\n",
       "0  setup: Detect if wheel and twine installed   \n",
       "1      [Builder] Adding root page in any case   \n",
       "2                  Added web.Urlencode method   \n",
       "\n",
       "                       author_email                project  \n",
       "0  gcushen@users.noreply.github.com  gcushen_mezzanine-api  \n",
       "1              g.passault@gmail.com         Gregwar_Slidey  \n",
       "2                  hoisie@gmail.com             hoisie_web  "
      ]
     },
     "execution_count": 1,
     "metadata": {},
     "output_type": "execute_result"
    }
   ],
   "source": [
    "import pandas as pd\n",
    "\n",
    "data = pd.read_pickle(\"../data/02_All_Decreased_Filesize.pkl\")\n",
    "data.head(3)"
   ]
  },
  {
   "attachments": {},
   "cell_type": "markdown",
   "metadata": {},
   "source": [
    "#### Take the subset\n",
    "\n",
    "For the final model, the 100 committers with the highest amount of commit messages are used."
   ]
  },
  {
   "cell_type": "code",
   "execution_count": 2,
   "metadata": {},
   "outputs": [],
   "source": [
    "from collections import Counter\n",
    "\n",
    "author_count = Counter(data[\"author_email\"])\n",
    "included_authors_counter = author_count.most_common(100)"
   ]
  },
  {
   "cell_type": "code",
   "execution_count": 3,
   "metadata": {},
   "outputs": [
    {
     "data": {
      "text/plain": [
       "[('michele.simionato@gmail.com', 4991),\n",
       " ('thomas.parrott@canonical.com', 3058),\n",
       " ('crynobone@gmail.com', 3054),\n",
       " ('igor.kroitor@gmail.com', 2916),\n",
       " ('jaraco@jaraco.com', 2899),\n",
       " ('postmodern.mod3@gmail.com', 2669),\n",
       " ('github@contao.org', 2285),\n",
       " ('mark@mark-story.com', 2082),\n",
       " ('thatch45@gmail.com', 1976),\n",
       " ('ccordoba12@gmail.com', 1932),\n",
       " ('pedro@algarvio.me', 1907),\n",
       " ('mjpt777@gmail.com', 1817),\n",
       " ('mitchell.hashimoto@gmail.com', 1751),\n",
       " ('moodler', 1688),\n",
       " ('ns@vivid-planet.com', 1576),\n",
       " ('marijnh@gmail.com', 1500),\n",
       " ('aaron.patterson@gmail.com', 1450),\n",
       " ('blactbt@live.de', 1379),\n",
       " ('ocramius@gmail.com', 1362),\n",
       " ('P.Rudiger@ed.ac.uk', 1356),\n",
       " ('duncan.macleod@ligo.org', 1278),\n",
       " ('fabien.potencier@gmail.com', 1243),\n",
       " ('fisharebest@gmail.com', 1219),\n",
       " ('Lars.Butler@gmail.com', 1215),\n",
       " ('matijs@matijs.net', 1207),\n",
       " ('none@none', 1176),\n",
       " ('skodak', 1155),\n",
       " ('andreas@one.com', 1152),\n",
       " ('palehose@gmail.com', 1138),\n",
       " ('jmettraux@gmail.com', 1125),\n",
       " ('anacrolix@gmail.com', 1119),\n",
       " ('mike@silverorange.com', 1110),\n",
       " ('p@shedcollective.org', 1103),\n",
       " ('tj@vision-media.ca', 1099),\n",
       " ('hajimehoshi@gmail.com', 1093),\n",
       " ('ronnie@dio.jp', 1078),\n",
       " ('jerome@leclan.ch', 1077),\n",
       " ('zacharyspector@gmail.com', 1038),\n",
       " ('j.boggiano@seld.be', 1035),\n",
       " ('avwu@qq.com', 1011),\n",
       " ('ingo@silverstripe.com', 1006),\n",
       " ('stgraber@ubuntu.com', 1000),\n",
       " ('c.schiffler@cyberspectrum.de', 953),\n",
       " ('stronk7', 950),\n",
       " ('chapmanb@50mail.com', 937),\n",
       " ('dan.kubb@gmail.com', 927),\n",
       " ('fish@cs.ucsb.edu', 917),\n",
       " ('taylorotwell@gmail.com', 916),\n",
       " ('strib@alum.mit.edu', 893),\n",
       " ('rapptz@gmail.com', 891),\n",
       " ('jlstevens@ed.ac.uk', 890),\n",
       " ('ben.bog@gmail.com', 884),\n",
       " ('judecn@gmail.com', 864),\n",
       " ('koenkanters94@gmail.com', 857),\n",
       " ('laolu32@gmail.com', 852),\n",
       " ('mvdan@mvdan.cc', 852),\n",
       " ('adrian.webb@coraltech.net', 841),\n",
       " ('johan@timble.net', 838),\n",
       " ('arno.candel@gmail.com', 824),\n",
       " ('gawain.lynch@gmail.com', 818),\n",
       " ('git@nadar.io', 788),\n",
       " ('arnaud.buchholz@free.fr', 785),\n",
       " ('naber@danielnaber.de', 785),\n",
       " ('jacobsa@google.com', 782),\n",
       " ('michele@locati.it', 772),\n",
       " ('dominic.tarr@gmail.com', 772),\n",
       " ('godfat@godfat.org', 771),\n",
       " ('barancev@gmail.com', 765),\n",
       " ('ben.gyori@gmail.com', 765),\n",
       " ('peter@soulgalore.com', 762),\n",
       " ('nicole@saltstack.com', 759),\n",
       " ('joachim@107701.no-reply.drupal.org', 759),\n",
       " ('aimeos@aimeos.org', 753),\n",
       " ('me@kennethreitz.org', 750),\n",
       " ('sol@hiqdev.com', 738),\n",
       " ('fabien@allou.is', 734),\n",
       " ('colin.duquesnoy@gmail.com', 730),\n",
       " ('adam@wellcommerce.org', 718),\n",
       " ('coleifer@gmail.com', 716),\n",
       " ('fss@corp.globo.com', 711),\n",
       " ('edi.modric@gmail.com', 711),\n",
       " ('satoru.satoh@gmail.com', 706),\n",
       " ('lol@scottkclark.com', 703),\n",
       " ('marijn@sensimedia.nl', 696),\n",
       " ('ben@langfeld.me', 695),\n",
       " ('razvan.stoenescu@gmail.com', 695),\n",
       " ('matthieu.aubry@gmail.com', 690),\n",
       " ('pmurach@gmail.com', 687),\n",
       " ('nathan@tootallnate.net', 683),\n",
       " ('geemus@gmail.com', 679),\n",
       " ('franz.steinmetz@dlr.de', 668),\n",
       " ('acs@bitergia.com', 660),\n",
       " ('marijn@haverbeke.nl', 659),\n",
       " ('durran@gmail.com', 657),\n",
       " ('kohsuke@71c3de6d-444a-0410-be80-ed276b4c234a', 653),\n",
       " ('code@saul.pw', 650),\n",
       " ('simon.m.stewart@gmail.com', 645),\n",
       " ('me@omranic.com', 644),\n",
       " ('nunemaker@gmail.com', 641),\n",
       " ('medyk@medikoo.com', 638)]"
      ]
     },
     "execution_count": 3,
     "metadata": {},
     "output_type": "execute_result"
    }
   ],
   "source": [
    "author_count.most_common(100)"
   ]
  },
  {
   "cell_type": "markdown",
   "metadata": {},
   "source": [
    "#### Transform to a list"
   ]
  },
  {
   "cell_type": "code",
   "execution_count": 4,
   "metadata": {},
   "outputs": [
    {
     "data": {
      "text/plain": [
       "['michele.simionato@gmail.com',\n",
       " 'thomas.parrott@canonical.com',\n",
       " 'crynobone@gmail.com',\n",
       " 'igor.kroitor@gmail.com',\n",
       " 'jaraco@jaraco.com',\n",
       " 'postmodern.mod3@gmail.com',\n",
       " 'github@contao.org',\n",
       " 'mark@mark-story.com',\n",
       " 'thatch45@gmail.com',\n",
       " 'ccordoba12@gmail.com',\n",
       " 'pedro@algarvio.me',\n",
       " 'mjpt777@gmail.com',\n",
       " 'mitchell.hashimoto@gmail.com',\n",
       " 'moodler',\n",
       " 'ns@vivid-planet.com',\n",
       " 'marijnh@gmail.com',\n",
       " 'aaron.patterson@gmail.com',\n",
       " 'blactbt@live.de',\n",
       " 'ocramius@gmail.com',\n",
       " 'P.Rudiger@ed.ac.uk',\n",
       " 'duncan.macleod@ligo.org',\n",
       " 'fabien.potencier@gmail.com',\n",
       " 'fisharebest@gmail.com',\n",
       " 'Lars.Butler@gmail.com',\n",
       " 'matijs@matijs.net',\n",
       " 'none@none',\n",
       " 'skodak',\n",
       " 'andreas@one.com',\n",
       " 'palehose@gmail.com',\n",
       " 'jmettraux@gmail.com',\n",
       " 'anacrolix@gmail.com',\n",
       " 'mike@silverorange.com',\n",
       " 'p@shedcollective.org',\n",
       " 'tj@vision-media.ca',\n",
       " 'hajimehoshi@gmail.com',\n",
       " 'ronnie@dio.jp',\n",
       " 'jerome@leclan.ch',\n",
       " 'zacharyspector@gmail.com',\n",
       " 'j.boggiano@seld.be',\n",
       " 'avwu@qq.com',\n",
       " 'ingo@silverstripe.com',\n",
       " 'stgraber@ubuntu.com',\n",
       " 'c.schiffler@cyberspectrum.de',\n",
       " 'stronk7',\n",
       " 'chapmanb@50mail.com',\n",
       " 'dan.kubb@gmail.com',\n",
       " 'fish@cs.ucsb.edu',\n",
       " 'taylorotwell@gmail.com',\n",
       " 'strib@alum.mit.edu',\n",
       " 'rapptz@gmail.com',\n",
       " 'jlstevens@ed.ac.uk',\n",
       " 'ben.bog@gmail.com',\n",
       " 'judecn@gmail.com',\n",
       " 'koenkanters94@gmail.com',\n",
       " 'laolu32@gmail.com',\n",
       " 'mvdan@mvdan.cc',\n",
       " 'adrian.webb@coraltech.net',\n",
       " 'johan@timble.net',\n",
       " 'arno.candel@gmail.com',\n",
       " 'gawain.lynch@gmail.com',\n",
       " 'git@nadar.io',\n",
       " 'arnaud.buchholz@free.fr',\n",
       " 'naber@danielnaber.de',\n",
       " 'jacobsa@google.com',\n",
       " 'michele@locati.it',\n",
       " 'dominic.tarr@gmail.com',\n",
       " 'godfat@godfat.org',\n",
       " 'barancev@gmail.com',\n",
       " 'ben.gyori@gmail.com',\n",
       " 'peter@soulgalore.com',\n",
       " 'nicole@saltstack.com',\n",
       " 'joachim@107701.no-reply.drupal.org',\n",
       " 'aimeos@aimeos.org',\n",
       " 'me@kennethreitz.org',\n",
       " 'sol@hiqdev.com',\n",
       " 'fabien@allou.is',\n",
       " 'colin.duquesnoy@gmail.com',\n",
       " 'adam@wellcommerce.org',\n",
       " 'coleifer@gmail.com',\n",
       " 'fss@corp.globo.com',\n",
       " 'edi.modric@gmail.com',\n",
       " 'satoru.satoh@gmail.com',\n",
       " 'lol@scottkclark.com',\n",
       " 'marijn@sensimedia.nl',\n",
       " 'ben@langfeld.me',\n",
       " 'razvan.stoenescu@gmail.com',\n",
       " 'matthieu.aubry@gmail.com',\n",
       " 'pmurach@gmail.com',\n",
       " 'nathan@tootallnate.net',\n",
       " 'geemus@gmail.com',\n",
       " 'franz.steinmetz@dlr.de',\n",
       " 'acs@bitergia.com',\n",
       " 'marijn@haverbeke.nl',\n",
       " 'durran@gmail.com',\n",
       " 'kohsuke@71c3de6d-444a-0410-be80-ed276b4c234a',\n",
       " 'code@saul.pw',\n",
       " 'simon.m.stewart@gmail.com',\n",
       " 'me@omranic.com',\n",
       " 'nunemaker@gmail.com',\n",
       " 'medyk@medikoo.com']"
      ]
     },
     "execution_count": 4,
     "metadata": {},
     "output_type": "execute_result"
    }
   ],
   "source": [
    "included_author_emails = [author[0] for author in included_authors_counter]\n",
    "included_author_emails"
   ]
  },
  {
   "cell_type": "markdown",
   "metadata": {},
   "source": [
    "#### Filter the dataframe"
   ]
  },
  {
   "cell_type": "code",
   "execution_count": 9,
   "metadata": {},
   "outputs": [],
   "source": [
    "subset = data.where(data['author_email'] == included_author_emails[0])\n",
    "\n",
    "for author_email in included_author_emails[1:]:\n",
    "    subset = pd.concat([subset, data.where(data['author_email'] == author_email)])"
   ]
  },
  {
   "cell_type": "code",
   "execution_count": 10,
   "metadata": {},
   "outputs": [
    {
     "data": {
      "text/html": [
       "<div>\n",
       "<style scoped>\n",
       "    .dataframe tbody tr th:only-of-type {\n",
       "        vertical-align: middle;\n",
       "    }\n",
       "\n",
       "    .dataframe tbody tr th {\n",
       "        vertical-align: top;\n",
       "    }\n",
       "\n",
       "    .dataframe thead th {\n",
       "        text-align: right;\n",
       "    }\n",
       "</style>\n",
       "<table border=\"1\" class=\"dataframe\">\n",
       "  <thead>\n",
       "    <tr style=\"text-align: right;\">\n",
       "      <th></th>\n",
       "      <th>message</th>\n",
       "      <th>author_email</th>\n",
       "      <th>project</th>\n",
       "    </tr>\n",
       "  </thead>\n",
       "  <tbody>\n",
       "    <tr>\n",
       "      <th>0</th>\n",
       "      <td>Fixed an error happening when the memory stats...</td>\n",
       "      <td>michele.simionato@gmail.com</td>\n",
       "      <td>gem_oq-engine</td>\n",
       "    </tr>\n",
       "    <tr>\n",
       "      <th>1</th>\n",
       "      <td>Updated setup.py [skip CI]</td>\n",
       "      <td>michele.simionato@gmail.com</td>\n",
       "      <td>micheles_decorator</td>\n",
       "    </tr>\n",
       "    <tr>\n",
       "      <th>2</th>\n",
       "      <td>Fixed an exposure test [skip hazardlib]</td>\n",
       "      <td>michele.simionato@gmail.com</td>\n",
       "      <td>gem_oq-engine</td>\n",
       "    </tr>\n",
       "    <tr>\n",
       "      <th>3</th>\n",
       "      <td>Added a correction factor of &lt;I&gt; to point sour...</td>\n",
       "      <td>michele.simionato@gmail.com</td>\n",
       "      <td>gem_oq-engine</td>\n",
       "    </tr>\n",
       "    <tr>\n",
       "      <th>4</th>\n",
       "      <td>Added a comment\\n\\n\\nFormer-commit-id: 1dcd&lt;I&gt;...</td>\n",
       "      <td>michele.simionato@gmail.com</td>\n",
       "      <td>gem_oq-engine</td>\n",
       "    </tr>\n",
       "    <tr>\n",
       "      <th>...</th>\n",
       "      <td>...</td>\n",
       "      <td>...</td>\n",
       "      <td>...</td>\n",
       "    </tr>\n",
       "    <tr>\n",
       "      <th>112799</th>\n",
       "      <td>Prevent crash of test in not supported envs</td>\n",
       "      <td>medyk@medikoo.com</td>\n",
       "      <td>medikoo_dom-ext</td>\n",
       "    </tr>\n",
       "    <tr>\n",
       "      <th>112800</th>\n",
       "      <td>Fix definitions orders\\n\\nUneven states of Sym...</td>\n",
       "      <td>medyk@medikoo.com</td>\n",
       "      <td>medikoo_es6-symbol</td>\n",
       "    </tr>\n",
       "    <tr>\n",
       "      <th>112801</th>\n",
       "      <td>Ensure to not leave orphaned async call</td>\n",
       "      <td>medyk@medikoo.com</td>\n",
       "      <td>serverless_serverless</td>\n",
       "    </tr>\n",
       "    <tr>\n",
       "      <th>112802</th>\n",
       "      <td>refactor(CLI): Do not notify of update when ne...</td>\n",
       "      <td>medyk@medikoo.com</td>\n",
       "      <td>serverless_serverless</td>\n",
       "    </tr>\n",
       "    <tr>\n",
       "      <th>112803</th>\n",
       "      <td>feat(CLI): Modern verbose logs for `deploy fun...</td>\n",
       "      <td>medyk@medikoo.com</td>\n",
       "      <td>serverless_serverless</td>\n",
       "    </tr>\n",
       "  </tbody>\n",
       "</table>\n",
       "<p>112804 rows × 3 columns</p>\n",
       "</div>"
      ],
      "text/plain": [
       "                                                  message  \\\n",
       "0       Fixed an error happening when the memory stats...   \n",
       "1                              Updated setup.py [skip CI]   \n",
       "2                 Fixed an exposure test [skip hazardlib]   \n",
       "3       Added a correction factor of <I> to point sour...   \n",
       "4       Added a comment\\n\\n\\nFormer-commit-id: 1dcd<I>...   \n",
       "...                                                   ...   \n",
       "112799        Prevent crash of test in not supported envs   \n",
       "112800  Fix definitions orders\\n\\nUneven states of Sym...   \n",
       "112801            Ensure to not leave orphaned async call   \n",
       "112802  refactor(CLI): Do not notify of update when ne...   \n",
       "112803  feat(CLI): Modern verbose logs for `deploy fun...   \n",
       "\n",
       "                       author_email                project  \n",
       "0       michele.simionato@gmail.com          gem_oq-engine  \n",
       "1       michele.simionato@gmail.com     micheles_decorator  \n",
       "2       michele.simionato@gmail.com          gem_oq-engine  \n",
       "3       michele.simionato@gmail.com          gem_oq-engine  \n",
       "4       michele.simionato@gmail.com          gem_oq-engine  \n",
       "...                             ...                    ...  \n",
       "112799            medyk@medikoo.com        medikoo_dom-ext  \n",
       "112800            medyk@medikoo.com     medikoo_es6-symbol  \n",
       "112801            medyk@medikoo.com  serverless_serverless  \n",
       "112802            medyk@medikoo.com  serverless_serverless  \n",
       "112803            medyk@medikoo.com  serverless_serverless  \n",
       "\n",
       "[112804 rows x 3 columns]"
      ]
     },
     "execution_count": 10,
     "metadata": {},
     "output_type": "execute_result"
    }
   ],
   "source": [
    "subset = subset.dropna()\n",
    "subset.reset_index(drop=True, inplace=True)\n",
    "subset"
   ]
  },
  {
   "cell_type": "markdown",
   "metadata": {},
   "source": [
    "#### Check whether the sum is correct"
   ]
  },
  {
   "cell_type": "code",
   "execution_count": 11,
   "metadata": {},
   "outputs": [
    {
     "data": {
      "text/plain": [
       "112804"
      ]
     },
     "execution_count": 11,
     "metadata": {},
     "output_type": "execute_result"
    }
   ],
   "source": [
    "sum([count for _, count in included_authors_counter])"
   ]
  },
  {
   "cell_type": "markdown",
   "metadata": {},
   "source": [
    "The sum is correct.\n",
    "\n",
    "#### Save dataset"
   ]
  },
  {
   "cell_type": "code",
   "execution_count": 12,
   "metadata": {},
   "outputs": [],
   "source": [
    "subset.to_pickle('../data/03a_Authors_Subset.pkl')"
   ]
  }
 ],
 "metadata": {
  "kernelspec": {
   "display_name": "Python 3.8.9 64-bit",
   "language": "python",
   "name": "python3"
  },
  "language_info": {
   "codemirror_mode": {
    "name": "ipython",
    "version": 3
   },
   "file_extension": ".py",
   "mimetype": "text/x-python",
   "name": "python",
   "nbconvert_exporter": "python",
   "pygments_lexer": "ipython3",
   "version": "3.8.9"
  },
  "orig_nbformat": 4,
  "vscode": {
   "interpreter": {
    "hash": "31f2aee4e71d21fbe5cf8b01ff0e069b9275f58929596ceb00d14d90e3e16cd6"
   }
  }
 },
 "nbformat": 4,
 "nbformat_minor": 2
}
