{
 "cells": [
  {
   "cell_type": "markdown",
   "metadata": {},
   "source": [
    "# Develop a Prototype Featureset as Style Embedding"
   ]
  },
  {
   "cell_type": "markdown",
   "metadata": {},
   "source": [
    "Goal: Model the style of committers by creating a self-built style embedding including features like length, polarity, and others that were explored earlier."
   ]
  },
  {
   "cell_type": "markdown",
   "metadata": {},
   "source": [
    "#### Load Data"
   ]
  },
  {
   "cell_type": "code",
   "execution_count": 37,
   "metadata": {},
   "outputs": [
    {
     "data": {
      "text/html": [
       "<div>\n",
       "<style scoped>\n",
       "    .dataframe tbody tr th:only-of-type {\n",
       "        vertical-align: middle;\n",
       "    }\n",
       "\n",
       "    .dataframe tbody tr th {\n",
       "        vertical-align: top;\n",
       "    }\n",
       "\n",
       "    .dataframe thead th {\n",
       "        text-align: right;\n",
       "    }\n",
       "</style>\n",
       "<table border=\"1\" class=\"dataframe\">\n",
       "  <thead>\n",
       "    <tr style=\"text-align: right;\">\n",
       "      <th></th>\n",
       "      <th>hash</th>\n",
       "      <th>diff</th>\n",
       "      <th>message</th>\n",
       "      <th>author_email</th>\n",
       "      <th>author_name</th>\n",
       "      <th>committer_email</th>\n",
       "      <th>committer_name</th>\n",
       "      <th>project</th>\n",
       "      <th>split</th>\n",
       "    </tr>\n",
       "  </thead>\n",
       "  <tbody>\n",
       "    <tr>\n",
       "      <th>0</th>\n",
       "      <td>1de640cc59b4b3030447d567b3c99c50777bd760</td>\n",
       "      <td>a/setup.py b/setup.py\\nindex &lt;HASH&gt;..&lt;HASH&gt; 1...</td>\n",
       "      <td>setup: Detect if wheel and twine installed</td>\n",
       "      <td>gcushen@users.noreply.github.com</td>\n",
       "      <td>George Cushen</td>\n",
       "      <td>gcushen@users.noreply.github.com</td>\n",
       "      <td>George Cushen</td>\n",
       "      <td>gcushen_mezzanine-api</td>\n",
       "      <td>train</td>\n",
       "    </tr>\n",
       "    <tr>\n",
       "      <th>1</th>\n",
       "      <td>c1cce6fe5e49df5546c30a662fd141d41f4fc389</td>\n",
       "      <td>a/Builder.php b/Builder.php\\nindex &lt;HASH&gt;..&lt;H...</td>\n",
       "      <td>[Builder] Adding root page in any case</td>\n",
       "      <td>g.passault@gmail.com</td>\n",
       "      <td>Gregwar</td>\n",
       "      <td>g.passault@gmail.com</td>\n",
       "      <td>Gregwar</td>\n",
       "      <td>Gregwar_Slidey</td>\n",
       "      <td>train</td>\n",
       "    </tr>\n",
       "    <tr>\n",
       "      <th>2</th>\n",
       "      <td>2f7d97d15ea41f4112e74429617c5daad740d7cc</td>\n",
       "      <td>a/web.go b/web.go\\nindex &lt;HASH&gt;..&lt;HASH&gt; 10064...</td>\n",
       "      <td>Added web.Urlencode method</td>\n",
       "      <td>hoisie@gmail.com</td>\n",
       "      <td>Michael Hoisie</td>\n",
       "      <td>hoisie@gmail.com</td>\n",
       "      <td>Michael Hoisie</td>\n",
       "      <td>hoisie_web</td>\n",
       "      <td>train</td>\n",
       "    </tr>\n",
       "  </tbody>\n",
       "</table>\n",
       "</div>"
      ],
      "text/plain": [
       "                                       hash  \\\n",
       "0  1de640cc59b4b3030447d567b3c99c50777bd760   \n",
       "1  c1cce6fe5e49df5546c30a662fd141d41f4fc389   \n",
       "2  2f7d97d15ea41f4112e74429617c5daad740d7cc   \n",
       "\n",
       "                                                diff  \\\n",
       "0   a/setup.py b/setup.py\\nindex <HASH>..<HASH> 1...   \n",
       "1   a/Builder.php b/Builder.php\\nindex <HASH>..<H...   \n",
       "2   a/web.go b/web.go\\nindex <HASH>..<HASH> 10064...   \n",
       "\n",
       "                                      message  \\\n",
       "0  setup: Detect if wheel and twine installed   \n",
       "1      [Builder] Adding root page in any case   \n",
       "2                  Added web.Urlencode method   \n",
       "\n",
       "                       author_email     author_name  \\\n",
       "0  gcushen@users.noreply.github.com   George Cushen   \n",
       "1              g.passault@gmail.com         Gregwar   \n",
       "2                  hoisie@gmail.com  Michael Hoisie   \n",
       "\n",
       "                    committer_email  committer_name                project  \\\n",
       "0  gcushen@users.noreply.github.com   George Cushen  gcushen_mezzanine-api   \n",
       "1              g.passault@gmail.com         Gregwar         Gregwar_Slidey   \n",
       "2                  hoisie@gmail.com  Michael Hoisie             hoisie_web   \n",
       "\n",
       "   split  \n",
       "0  train  \n",
       "1  train  \n",
       "2  train  "
      ]
     },
     "execution_count": 37,
     "metadata": {},
     "output_type": "execute_result"
    }
   ],
   "source": [
    "import pandas as pd\n",
    "\n",
    "data = pd.read_pickle('Frequent_Committer_Subset')\n",
    "data.head(3)"
   ]
  }
 ],
 "metadata": {
  "kernelspec": {
   "display_name": "Python 3.8.9 64-bit",
   "language": "python",
   "name": "python3"
  },
  "language_info": {
   "codemirror_mode": {
    "name": "ipython",
    "version": 3
   },
   "file_extension": ".py",
   "mimetype": "text/x-python",
   "name": "python",
   "nbconvert_exporter": "python",
   "pygments_lexer": "ipython3",
   "version": "3.8.9"
  },
  "orig_nbformat": 4,
  "vscode": {
   "interpreter": {
    "hash": "31f2aee4e71d21fbe5cf8b01ff0e069b9275f58929596ceb00d14d90e3e16cd6"
   }
  }
 },
 "nbformat": 4,
 "nbformat_minor": 2
}
