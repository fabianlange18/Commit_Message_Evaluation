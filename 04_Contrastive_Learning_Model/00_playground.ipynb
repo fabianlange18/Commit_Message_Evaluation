{
 "cells": [
  {
   "attachments": {},
   "cell_type": "markdown",
   "metadata": {},
   "source": [
    "##### Playground for Developing the Contrastive Learning Model"
   ]
  },
  {
   "attachments": {},
   "cell_type": "markdown",
   "metadata": {},
   "source": [
    "# Setting up dataloaders\n",
    "\n",
    "The different possible combinations have to be taken into account. A contrastive learning model can be trained with positive only or positive and negative pairs. The pairs must provide annotation."
   ]
  },
  {
   "cell_type": "code",
   "execution_count": 1,
   "metadata": {},
   "outputs": [],
   "source": [
    "import pandas as pd\n",
    "import torch\n",
    "\n",
    "train_data = pd.read_pickle('../data/04-0a_Train_Set.pkl')"
   ]
  },
  {
   "cell_type": "code",
   "execution_count": 2,
   "metadata": {},
   "outputs": [
    {
     "data": {
      "text/html": [
       "<div>\n",
       "<style scoped>\n",
       "    .dataframe tbody tr th:only-of-type {\n",
       "        vertical-align: middle;\n",
       "    }\n",
       "\n",
       "    .dataframe tbody tr th {\n",
       "        vertical-align: top;\n",
       "    }\n",
       "\n",
       "    .dataframe thead th {\n",
       "        text-align: right;\n",
       "    }\n",
       "</style>\n",
       "<table border=\"1\" class=\"dataframe\">\n",
       "  <thead>\n",
       "    <tr style=\"text-align: right;\">\n",
       "      <th></th>\n",
       "      <th>message</th>\n",
       "      <th>author_email</th>\n",
       "      <th>project</th>\n",
       "      <th>label</th>\n",
       "    </tr>\n",
       "  </thead>\n",
       "  <tbody>\n",
       "    <tr>\n",
       "      <th>0</th>\n",
       "      <td>calcs/hazard/event_based/post_processing:\\n\\nM...</td>\n",
       "      <td>Lars.Butler@gmail.com</td>\n",
       "      <td>gem_oq-engine</td>\n",
       "      <td>0.0</td>\n",
       "    </tr>\n",
       "    <tr>\n",
       "      <th>1</th>\n",
       "      <td>added javadoc heading to hdf5 util class\\n\\n\\n...</td>\n",
       "      <td>Lars.Butler@gmail.com</td>\n",
       "      <td>gem_oq-engine</td>\n",
       "      <td>0.0</td>\n",
       "    </tr>\n",
       "    <tr>\n",
       "      <th>2</th>\n",
       "      <td>added missing imports in db_tests/__init__.py ...</td>\n",
       "      <td>Lars.Butler@gmail.com</td>\n",
       "      <td>gem_oq-engine</td>\n",
       "      <td>0.0</td>\n",
       "    </tr>\n",
       "    <tr>\n",
       "      <th>3</th>\n",
       "      <td>Fixed up a longer-running test, added slow attr</td>\n",
       "      <td>Lars.Butler@gmail.com</td>\n",
       "      <td>gem_oq-engine</td>\n",
       "      <td>0.0</td>\n",
       "    </tr>\n",
       "    <tr>\n",
       "      <th>4</th>\n",
       "      <td>calculators/hazard/event_based/core_next:\\n\\nR...</td>\n",
       "      <td>Lars.Butler@gmail.com</td>\n",
       "      <td>gem_oq-engine</td>\n",
       "      <td>0.0</td>\n",
       "    </tr>\n",
       "    <tr>\n",
       "      <th>...</th>\n",
       "      <td>...</td>\n",
       "      <td>...</td>\n",
       "      <td>...</td>\n",
       "      <td>...</td>\n",
       "    </tr>\n",
       "    <tr>\n",
       "      <th>47433</th>\n",
       "      <td>Fixed \"is a\" op with Ident</td>\n",
       "      <td>tj@vision-media.ca</td>\n",
       "      <td>stylus_stylus</td>\n",
       "      <td>40.0</td>\n",
       "    </tr>\n",
       "    <tr>\n",
       "      <th>47434</th>\n",
       "      <td>removed old dynamic helper logic from the view...</td>\n",
       "      <td>tj@vision-media.ca</td>\n",
       "      <td>expressjs_express</td>\n",
       "      <td>40.0</td>\n",
       "    </tr>\n",
       "    <tr>\n",
       "      <th>47435</th>\n",
       "      <td>fixed property error due to parser not being p...</td>\n",
       "      <td>tj@vision-media.ca</td>\n",
       "      <td>stylus_stylus</td>\n",
       "      <td>40.0</td>\n",
       "    </tr>\n",
       "    <tr>\n",
       "      <th>47436</th>\n",
       "      <td>Fixed connect middleware for &lt;I&gt;.x</td>\n",
       "      <td>tj@vision-media.ca</td>\n",
       "      <td>stylus_stylus</td>\n",
       "      <td>40.0</td>\n",
       "    </tr>\n",
       "    <tr>\n",
       "      <th>47437</th>\n",
       "      <td>make Suite#eachTest() private</td>\n",
       "      <td>tj@vision-media.ca</td>\n",
       "      <td>mochajs_mocha</td>\n",
       "      <td>40.0</td>\n",
       "    </tr>\n",
       "  </tbody>\n",
       "</table>\n",
       "<p>47438 rows × 4 columns</p>\n",
       "</div>"
      ],
      "text/plain": [
       "                                                 message  \\\n",
       "0      calcs/hazard/event_based/post_processing:\\n\\nM...   \n",
       "1      added javadoc heading to hdf5 util class\\n\\n\\n...   \n",
       "2      added missing imports in db_tests/__init__.py ...   \n",
       "3        Fixed up a longer-running test, added slow attr   \n",
       "4      calculators/hazard/event_based/core_next:\\n\\nR...   \n",
       "...                                                  ...   \n",
       "47433                         Fixed \"is a\" op with Ident   \n",
       "47434  removed old dynamic helper logic from the view...   \n",
       "47435  fixed property error due to parser not being p...   \n",
       "47436                 Fixed connect middleware for <I>.x   \n",
       "47437                      make Suite#eachTest() private   \n",
       "\n",
       "                author_email            project  label  \n",
       "0      Lars.Butler@gmail.com      gem_oq-engine    0.0  \n",
       "1      Lars.Butler@gmail.com      gem_oq-engine    0.0  \n",
       "2      Lars.Butler@gmail.com      gem_oq-engine    0.0  \n",
       "3      Lars.Butler@gmail.com      gem_oq-engine    0.0  \n",
       "4      Lars.Butler@gmail.com      gem_oq-engine    0.0  \n",
       "...                      ...                ...    ...  \n",
       "47433     tj@vision-media.ca      stylus_stylus   40.0  \n",
       "47434     tj@vision-media.ca  expressjs_express   40.0  \n",
       "47435     tj@vision-media.ca      stylus_stylus   40.0  \n",
       "47436     tj@vision-media.ca      stylus_stylus   40.0  \n",
       "47437     tj@vision-media.ca      mochajs_mocha   40.0  \n",
       "\n",
       "[47438 rows x 4 columns]"
      ]
     },
     "execution_count": 2,
     "metadata": {},
     "output_type": "execute_result"
    }
   ],
   "source": [
    "train_data"
   ]
  },
  {
   "attachments": {},
   "cell_type": "markdown",
   "metadata": {},
   "source": [
    "### Positive Pairs\n",
    "\n",
    "The code below takes two messages from the same author following each other in the dataset only once to build a dataloader."
   ]
  },
  {
   "cell_type": "code",
   "execution_count": 3,
   "metadata": {},
   "outputs": [],
   "source": [
    "import math\n",
    "\n",
    "group_sizes = []\n",
    "training_pairs = []\n",
    "\n",
    "for group in train_data.groupby(\"author_email\"):\n",
    "    group_sizes.append(len(group[1]))\n",
    "    pair = []\n",
    "    for i, message in enumerate(group[1]['message']):\n",
    "        pair.append(message)\n",
    "        if i % 2 == 1:\n",
    "            training_pairs.append(pair)\n",
    "            pair = []\n",
    "\n",
    "positive_training_pairs_count = 0\n",
    "dist_training_pairs = []\n",
    "\n",
    "for size in group_sizes:\n",
    "    positive_training_pairs_count += math.comb(size, 2)\n",
    "    dist_training_pairs.append(math.comb(size, 2))"
   ]
  },
  {
   "attachments": {},
   "cell_type": "markdown",
   "metadata": {},
   "source": [
    "If every message from one author would be combined with every other message of the same author, the resulting number of training pairs would be:"
   ]
  },
  {
   "cell_type": "code",
   "execution_count": 4,
   "metadata": {},
   "outputs": [
    {
     "data": {
      "text/plain": [
       "51268322"
      ]
     },
     "execution_count": 4,
     "metadata": {},
     "output_type": "execute_result"
    }
   ],
   "source": [
    "positive_training_pairs_count"
   ]
  },
  {
   "attachments": {},
   "cell_type": "markdown",
   "metadata": {},
   "source": [
    "The distribution would look like this:"
   ]
  },
  {
   "cell_type": "code",
   "execution_count": 5,
   "metadata": {},
   "outputs": [
    {
     "data": {
      "image/png": "[encoded data removed]",
      "text/plain": [
       "<Figure size 640x480 with 1 Axes>"
      ]
     },
     "metadata": {},
     "output_type": "display_data"
    }
   ],
   "source": [
    "import matplotlib.pyplot as plt\n",
    "import numpy as np\n",
    "\n",
    "plt.plot(np.arange(28), np.sort(dist_training_pairs))\n",
    "plt.show()"
   ]
  },
  {
   "attachments": {},
   "cell_type": "markdown",
   "metadata": {},
   "source": [
    "Combining every message from one author with every other message from the same author can be achieved with this code:"
   ]
  },
  {
   "cell_type": "code",
   "execution_count": null,
   "metadata": {},
   "outputs": [],
   "source": [
    "positive_training_pairs = []\n",
    "\n",
    "for group in train_data.groupby(\"author_email\"):\n",
    "   for i, message_1 in enumerate(group[1]['message']):\n",
    "       for message_2 in group[1]['message'].iloc[i+1:]:\n",
    "           positive_training_pairs.append([message_1, message_2, 1])"
   ]
  },
  {
   "attachments": {},
   "cell_type": "markdown",
   "metadata": {},
   "source": [
    "### Negative Pairs"
   ]
  },
  {
   "attachments": {},
   "cell_type": "markdown",
   "metadata": {},
   "source": [
    "All possible negative pairs could be sampled by combining each message of one author with all messages from all other authors. The amount of possible negative pairs is calculated below:"
   ]
  },
  {
   "cell_type": "code",
   "execution_count": 22,
   "metadata": {},
   "outputs": [],
   "source": [
    "negative_training_pairs_count = 0\n",
    "\n",
    "train_data_groups = train_data.groupby(\"author_email\")\n",
    "\n",
    "dataset_size = len(train_data)\n",
    "\n",
    "all_groups = [group for group in train_data_groups]\n",
    "groups_calculated = []\n",
    "\n",
    "for i, group in enumerate(train_data_groups):\n",
    "    groups_calculated.append(group[0])\n",
    "    for j, _ in enumerate(group[1]['message']):\n",
    "        # don't take the groups anymore, that are already taken into consideration once by the first for loop\n",
    "        negative_training_pairs_count += dataset_size - sum([len(train_data_groups.indices[group]) for group in groups_calculated])\n"
   ]
  },
  {
   "cell_type": "code",
   "execution_count": 23,
   "metadata": {},
   "outputs": [
    {
     "data": {
      "text/plain": [
       "1073889881"
      ]
     },
     "execution_count": 23,
     "metadata": {},
     "output_type": "execute_result"
    }
   ],
   "source": [
    "negative_training_pairs_count"
   ]
  },
  {
   "attachments": {},
   "cell_type": "markdown",
   "metadata": {},
   "source": [
    "Using all possible negative pairs would lead to a highly imbalanced training set since there are way less positive pairs. The number of negative pairs needs to be scaled down by a factor of:"
   ]
  },
  {
   "cell_type": "code",
   "execution_count": 24,
   "metadata": {},
   "outputs": [
    {
     "data": {
      "text/plain": [
       "20.946460486848"
      ]
     },
     "execution_count": 24,
     "metadata": {},
     "output_type": "execute_result"
    }
   ],
   "source": [
    "scale_factor = negative_training_pairs_count / positive_training_pairs_count\n",
    "scale_factor"
   ]
  },
  {
   "attachments": {},
   "cell_type": "markdown",
   "metadata": {},
   "source": [
    "However, we cannot directly use this factor because of the different sizes of each group (per author)."
   ]
  },
  {
   "attachments": {},
   "cell_type": "markdown",
   "metadata": {},
   "source": [
    "We could try to cut the data, but then we need to do it equally for each group. Therefore, we check the minimum amount of messages per author and see, if there would still be enough negative training pairs."
   ]
  },
  {
   "cell_type": "code",
   "execution_count": 25,
   "metadata": {},
   "outputs": [
    {
     "data": {
      "text/plain": [
       "1035"
      ]
     },
     "execution_count": 25,
     "metadata": {},
     "output_type": "execute_result"
    }
   ],
   "source": [
    "min_group_size = math.inf\n",
    "\n",
    "for i, group in enumerate(train_data_groups):\n",
    "    min_group_size = min(min_group_size, len(train_data_groups.indices[group[0]]))\n",
    "\n",
    "min_group_size"
   ]
  },
  {
   "cell_type": "code",
   "execution_count": 26,
   "metadata": {},
   "outputs": [
    {
     "data": {
      "text/plain": [
       "404923050"
      ]
     },
     "execution_count": 26,
     "metadata": {},
     "output_type": "execute_result"
    }
   ],
   "source": [
    "negative_training_pairs_count = 0\n",
    "\n",
    "groups_calculated = []\n",
    "\n",
    "for i, group in enumerate(train_data_groups):\n",
    "    groups_calculated.append(group[0])\n",
    "    for j, _ in enumerate(group[1]['message'].iloc[:min_group_size]):\n",
    "        # take the minimum group size for each group that was not yet taken into account by the first loop\n",
    "        negative_training_pairs_count += sum([min_group_size if group[0] not in groups_calculated else 0 for group in all_groups])\n",
    "\n",
    "negative_training_pairs_count"
   ]
  },
  {
   "attachments": {},
   "cell_type": "markdown",
   "metadata": {},
   "source": [
    "There are still enough messages. That means that we can just cut the amount of messages per author by a certain number and take all possible negative pairs with the remaining data."
   ]
  },
  {
   "cell_type": "code",
   "execution_count": 58,
   "metadata": {},
   "outputs": [
    {
     "data": {
      "text/plain": [
       "51748200"
      ]
     },
     "execution_count": 58,
     "metadata": {},
     "output_type": "execute_result"
    }
   ],
   "source": [
    "negative_training_pairs_count = 0\n",
    "\n",
    "cut_amount = 370\n",
    "\n",
    "groups_calculated = []\n",
    "\n",
    "for i, group in enumerate(train_data_groups):\n",
    "    groups_calculated.append(group[0])\n",
    "    for j, _ in enumerate(group[1]['message'].iloc[:cut_amount]):\n",
    "        # take the minimum group size for each group that was not yet taken into account by the first loop\n",
    "        negative_training_pairs_count += sum([cut_amount if group[0] not in groups_calculated else 0 for group in all_groups])\n",
    "\n",
    "negative_training_pairs_count"
   ]
  },
  {
   "cell_type": "code",
   "execution_count": 59,
   "metadata": {},
   "outputs": [
    {
     "data": {
      "text/plain": [
       "1.0093601269025345"
      ]
     },
     "execution_count": 59,
     "metadata": {},
     "output_type": "execute_result"
    }
   ],
   "source": [
    "scale_factor = negative_training_pairs_count / positive_training_pairs_count\n",
    "scale_factor"
   ]
  },
  {
   "attachments": {},
   "cell_type": "markdown",
   "metadata": {},
   "source": [
    "40 messages per author are required to build negative pairs that match the positive pairs in amount. Those can be taken randomly to minimize biases."
   ]
  },
  {
   "cell_type": "code",
   "execution_count": 63,
   "metadata": {},
   "outputs": [],
   "source": [
    "groups_calculated = []\n",
    "\n",
    "negative_training_pairs = []\n",
    "\n",
    "count = 0\n",
    "\n",
    "for i, group in enumerate(train_data_groups):\n",
    "    groups_calculated.append(group[0])\n",
    "    negative_groups = [group if group[0] not in groups_calculated else None for group in all_groups]\n",
    "    negative_groups = list(filter(lambda item: item is not None, negative_groups))\n",
    "    for j, message_1 in enumerate(group[1]['message'].sample(n=cut_amount)):\n",
    "        for negative_group in negative_groups:\n",
    "            for message_2 in negative_group[1]['message'].sample(n=cut_amount):\n",
    "                count += 1\n",
    "                negative_training_pairs.append([message_1, message_2, -1])"
   ]
  },
  {
   "cell_type": "code",
   "execution_count": 75,
   "metadata": {},
   "outputs": [
    {
     "data": {
      "text/plain": [
       "51748200"
      ]
     },
     "execution_count": 75,
     "metadata": {},
     "output_type": "execute_result"
    }
   ],
   "source": [
    "count"
   ]
  },
  {
   "attachments": {},
   "cell_type": "markdown",
   "metadata": {},
   "source": [
    "The same scaling is done for validate and test set in the data preparation script."
   ]
  },
  {
   "attachments": {},
   "cell_type": "markdown",
   "metadata": {},
   "source": [
    "### Trying a Model with the Sentence-Transformers framework"
   ]
  },
  {
   "cell_type": "code",
   "execution_count": null,
   "metadata": {},
   "outputs": [],
   "source": [
    "# Source: https://huggingface.co/sentence-transformers/all-MiniLM-L6-v2\n",
    "\n",
    "MODEL = 'sentence-transformers/all-MiniLM-L6-v2'"
   ]
  },
  {
   "cell_type": "code",
   "execution_count": null,
   "metadata": {},
   "outputs": [],
   "source": [
    "from sentence_transformers import SentenceTransformer\n",
    "\n",
    "sentences = [\"This is a sentence\", \"This is another sentence\"]\n",
    "\n",
    "model = SentenceTransformer(MODEL)\n",
    "embedding = model.encode(sentences, convert_to_numpy=False)\n",
    "embeddings = torch.stack(embedding)"
   ]
  },
  {
   "cell_type": "code",
   "execution_count": null,
   "metadata": {},
   "outputs": [],
   "source": [
    "embeddings"
   ]
  },
  {
   "cell_type": "code",
   "execution_count": null,
   "metadata": {},
   "outputs": [],
   "source": [
    "print(model)"
   ]
  },
  {
   "attachments": {},
   "cell_type": "markdown",
   "metadata": {},
   "source": [
    "### Do the Tokenization Yourself\n",
    "\n",
    "This requires to not use the sentence-transformer framework."
   ]
  },
  {
   "cell_type": "code",
   "execution_count": null,
   "metadata": {},
   "outputs": [],
   "source": [
    "# Tutorial on Using the model without sentence transformers\n",
    "# https://huggingface.co/sentence-transformers/all-MiniLM-L6-v2\n",
    "\n",
    "from transformers import AutoTokenizer\n",
    "\n",
    "tokenizer = AutoTokenizer.from_pretrained(MODEL)\n",
    "\n",
    "def tokenize_function(examples):\n",
    "    return tokenizer(examples, padding=True, truncation=True, return_tensors='pt')"
   ]
  },
  {
   "cell_type": "code",
   "execution_count": null,
   "metadata": {},
   "outputs": [],
   "source": [
    "from transformers import AutoModel\n",
    "\n",
    "model = AutoModel.from_pretrained(MODEL)"
   ]
  },
  {
   "cell_type": "code",
   "execution_count": null,
   "metadata": {},
   "outputs": [],
   "source": [
    "encoding = tokenize_function(sentences)\n",
    "\n",
    "embedding = model(**encoding)"
   ]
  },
  {
   "cell_type": "code",
   "execution_count": null,
   "metadata": {},
   "outputs": [],
   "source": [
    "embedding"
   ]
  },
  {
   "cell_type": "code",
   "execution_count": null,
   "metadata": {},
   "outputs": [],
   "source": [
    "# Mean Pooling - Take attention mask into account for correct averaging\n",
    "def mean_pooling(model_output, attention_mask):\n",
    "    token_embeddings = model_output[0] # First element of model_output contains all token embeddings\n",
    "    input_mask_expanded = attention_mask.unsqueeze(-1).expand(token_embeddings.size()).float()\n",
    "    return torch.sum(token_embeddings * input_mask_expanded, 1) / torch.clamp(input_mask_expanded.sum(1), min=1e-9)\n",
    "\n",
    "\n",
    "# Perform pooling\n",
    "sentence_embeddings = mean_pooling(embedding, encoding['attention_mask'])\n",
    "\n",
    "# Normalize embeddings\n",
    "sentence_embeddings = torch.nn.functional.normalize(sentence_embeddings, p=2, dim=1)\n",
    "\n",
    "print(\"Sentence embeddings:\")\n",
    "print(sentence_embeddings)"
   ]
  },
  {
   "attachments": {},
   "cell_type": "markdown",
   "metadata": {},
   "source": [
    "While the embeddings stay the same no matter whether the sentence-transformers library is used or not, in the second version without sentence-transformers there is the grad_fn=\\<DivBackward0\\> ending."
   ]
  },
  {
   "attachments": {},
   "cell_type": "markdown",
   "metadata": {},
   "source": [
    "# Cosine Distance Experiments"
   ]
  },
  {
   "attachments": {},
   "cell_type": "markdown",
   "metadata": {},
   "source": [
    "Here you can experiment what target value you need for what input tensors to find the right loss setup for training your model."
   ]
  },
  {
   "cell_type": "code",
   "execution_count": null,
   "metadata": {},
   "outputs": [],
   "source": [
    "loss_fn = torch.nn.CosineEmbeddingLoss()\n",
    "\n",
    "x1 = torch.tensor([1, 0])\n",
    "x2 = torch.tensor([0, 1])\n",
    "# 1 if positive pair and -1 if negative pair\n",
    "target = torch.tensor(-1)\n",
    "\n",
    "loss_fn(x1, x2, target)"
   ]
  },
  {
   "attachments": {},
   "cell_type": "markdown",
   "metadata": {},
   "source": [
    "The loss should be minimized. Two completely different input tensors should have a loss of 1 if the corresponding training pair belongs together (=positive pair) and a loss of 0 if not (=negative pair)."
   ]
  },
  {
   "cell_type": "code",
   "execution_count": null,
   "metadata": {},
   "outputs": [],
   "source": [
    "loss_fn = torch.nn.CosineEmbeddingLoss(margin=0.9)\n",
    "\n",
    "x1 = torch.tensor([1, 1])\n",
    "x2 = torch.tensor([0, 1])\n",
    "# 1 if positive pair and -1 if negative pair\n",
    "target = torch.tensor(-1)\n",
    "\n",
    "loss_fn(x1, x2, target)"
   ]
  },
  {
   "attachments": {},
   "cell_type": "markdown",
   "metadata": {},
   "source": [
    "A margin can be applied: It works only on the negative training pairs and reduces the loss by the margin amount."
   ]
  },
  {
   "attachments": {},
   "cell_type": "markdown",
   "metadata": {},
   "source": [
    "# Use GPU on Mac M1"
   ]
  },
  {
   "attachments": {},
   "cell_type": "markdown",
   "metadata": {},
   "source": [
    "https://towardsdatascience.com/installing-pytorch-on-apple-m1-chip-with-gpu-acceleration-3351dc44d67c"
   ]
  },
  {
   "cell_type": "code",
   "execution_count": null,
   "metadata": {},
   "outputs": [],
   "source": [
    "import torch\n",
    "# this ensures that the current MacOS version is at least 12.3+\n",
    "print(torch.backends.mps.is_available())\n",
    "# this ensures that the current current PyTorch installation was built with MPS activated.\n",
    "print(torch.backends.mps.is_built())"
   ]
  },
  {
   "attachments": {},
   "cell_type": "markdown",
   "metadata": {},
   "source": [
    "# Using the HuggingFace Dataloader"
   ]
  },
  {
   "attachments": {},
   "cell_type": "markdown",
   "metadata": {},
   "source": [
    "Do the tokenization before the model in a huggingface dataloader:\n",
    "https://huggingface.co/docs/datasets/loading"
   ]
  },
  {
   "cell_type": "code",
   "execution_count": 1,
   "metadata": {},
   "outputs": [],
   "source": [
    "import pandas as pd\n",
    "import random"
   ]
  },
  {
   "cell_type": "code",
   "execution_count": 9,
   "metadata": {},
   "outputs": [],
   "source": [
    "train_data = pd.read_pickle('../data/04-0a_Train_Set.pkl')\n",
    "validate_data = pd.read_pickle('../data/04-0b_Validate_Set.pkl')\n",
    "test_data = pd.read_pickle('../data/04-0c_Test_Set.pkl')\n",
    "\n",
    "messages_1 = []\n",
    "messages_2 = []\n",
    "target = []\n",
    "\n",
    "for i, group in enumerate(train_data.groupby(\"author_email\")):\n",
    "    pair = []\n",
    "    for i, message in enumerate(group[1]['message']):\n",
    "        if i % 2 == 0:\n",
    "            messages_1.append(message)\n",
    "            target.append(1 if random.choice([True, False]) else -1)\n",
    "            training_pairs.append(pair)\n",
    "            pair = []\n",
    "        else:\n",
    "            messages_2.append(message)\n",
    "\n",
    "\n",
    "# Do this when taking a subset to ensure that shuffling happens before taking subsets\n",
    "random.shuffle(training_pairs)"
   ]
  },
  {
   "cell_type": "code",
   "execution_count": 17,
   "metadata": {},
   "outputs": [
    {
     "data": {
      "text/plain": [
       "23712"
      ]
     },
     "execution_count": 17,
     "metadata": {},
     "output_type": "execute_result"
    }
   ],
   "source": [
    "len(messages_2)"
   ]
  },
  {
   "cell_type": "code",
   "execution_count": 19,
   "metadata": {},
   "outputs": [],
   "source": [
    "from datasets import Dataset\n",
    "\n",
    "dataset = Dataset.from_dict({'message_1': messages_1[:23712], 'messages_2': messages_2, 'target': target[:23712]})"
   ]
  },
  {
   "cell_type": "code",
   "execution_count": 44,
   "metadata": {},
   "outputs": [],
   "source": [
    "from datasets import Dataset\n",
    "from datasets.dataset_dict import DatasetDict\n",
    "\n",
    "d = {\n",
    "    'train': Dataset.from_dict({'messages_1': messages_1[:23712], 'messages_2': messages_2, 'target': target[:23712]}),\n",
    "    'test': Dataset.from_dict({'messages_1': messages_1[:23712], 'messages_2': messages_2, 'target': target[:23712]})\n",
    "}\n",
    "\n",
    "dataset_dict = DatasetDict(d)"
   ]
  },
  {
   "cell_type": "code",
   "execution_count": 45,
   "metadata": {},
   "outputs": [
    {
     "data": {
      "application/json": {
       "ascii": false,
       "bar_format": null,
       "colour": null,
       "elapsed": 0.02153301239013672,
       "initial": 0,
       "n": 0,
       "ncols": null,
       "nrows": null,
       "postfix": null,
       "prefix": "",
       "rate": null,
       "total": 24,
       "unit": "ba",
       "unit_divisor": 1000,
       "unit_scale": false
      },
      "application/vnd.jupyter.widget-view+json": {
       "model_id": "22c6821135f2407f9803e986b27841f6",
       "version_major": 2,
       "version_minor": 0
      },
      "text/plain": [
       "  0%|          | 0/24 [00:00<?, ?ba/s]"
      ]
     },
     "metadata": {},
     "output_type": "display_data"
    },
    {
     "data": {
      "application/json": {
       "ascii": false,
       "bar_format": null,
       "colour": null,
       "elapsed": 0.02068614959716797,
       "initial": 0,
       "n": 0,
       "ncols": null,
       "nrows": null,
       "postfix": null,
       "prefix": "",
       "rate": null,
       "total": 24,
       "unit": "ba",
       "unit_divisor": 1000,
       "unit_scale": false
      },
      "application/vnd.jupyter.widget-view+json": {
       "model_id": "cd65a23cc89545ef86901af9ba1be1e8",
       "version_major": 2,
       "version_minor": 0
      },
      "text/plain": [
       "  0%|          | 0/24 [00:00<?, ?ba/s]"
      ]
     },
     "metadata": {},
     "output_type": "display_data"
    },
    {
     "data": {
      "application/json": {
       "ascii": false,
       "bar_format": null,
       "colour": null,
       "elapsed": 0.021167993545532227,
       "initial": 0,
       "n": 0,
       "ncols": null,
       "nrows": null,
       "postfix": null,
       "prefix": "",
       "rate": null,
       "total": 24,
       "unit": "ba",
       "unit_divisor": 1000,
       "unit_scale": false
      },
      "application/vnd.jupyter.widget-view+json": {
       "model_id": "4cb40e9e927d46299800eaa5d3e8492c",
       "version_major": 2,
       "version_minor": 0
      },
      "text/plain": [
       "  0%|          | 0/24 [00:00<?, ?ba/s]"
      ]
     },
     "metadata": {},
     "output_type": "display_data"
    },
    {
     "data": {
      "application/json": {
       "ascii": false,
       "bar_format": null,
       "colour": null,
       "elapsed": 0.02102494239807129,
       "initial": 0,
       "n": 0,
       "ncols": null,
       "nrows": null,
       "postfix": null,
       "prefix": "",
       "rate": null,
       "total": 24,
       "unit": "ba",
       "unit_divisor": 1000,
       "unit_scale": false
      },
      "application/vnd.jupyter.widget-view+json": {
       "model_id": "fa132af7d5254e4ab8c2ff2cab721a7a",
       "version_major": 2,
       "version_minor": 0
      },
      "text/plain": [
       "  0%|          | 0/24 [00:00<?, ?ba/s]"
      ]
     },
     "metadata": {},
     "output_type": "display_data"
    }
   ],
   "source": [
    "from transformers import AutoTokenizer\n",
    "\n",
    "MODEL = 'bert-base-cased'\n",
    "\n",
    "tokenizer = AutoTokenizer.from_pretrained(MODEL)\n",
    "\n",
    "def tokenize_function(examples):\n",
    "    all_features = {}\n",
    "    features_1 = tokenizer(examples['messages_1'], padding='max_length', truncation=True)\n",
    "    features_2 = tokenizer(examples['messages_2'], padding='max_length', truncation=True)\n",
    "    all_features['input_ids_1']      = features_1['input_ids']\n",
    "    all_features['token_type_ids_1'] = features_1['token_type_ids']\n",
    "    all_features['attention_mask_1'] = features_1['attention_mask']\n",
    "    all_features['input_ids_2']      = features_2['input_ids']\n",
    "    all_features['token_type_ids_2'] = features_2['token_type_ids']\n",
    "    all_features['attention_mask_2'] = features_2['attention_mask']\n",
    "    return all_features\n",
    "\n",
    "tokenized_datasets = dataset_dict.map(tokenize_function, batched=True)\n",
    "tokenized_datasets = tokenized_datasets.map(tokenize_function, batched=True)"
   ]
  },
  {
   "cell_type": "code",
   "execution_count": 46,
   "metadata": {},
   "outputs": [
    {
     "data": {
      "text/plain": [
       "DatasetDict({\n",
       "    train: Dataset({\n",
       "        features: ['messages_1', 'messages_2', 'target', 'input_ids_1', 'token_type_ids_1', 'attention_mask_1', 'input_ids_2', 'token_type_ids_2', 'attention_mask_2'],\n",
       "        num_rows: 23712\n",
       "    })\n",
       "    test: Dataset({\n",
       "        features: ['messages_1', 'messages_2', 'target', 'input_ids_1', 'token_type_ids_1', 'attention_mask_1', 'input_ids_2', 'token_type_ids_2', 'attention_mask_2'],\n",
       "        num_rows: 23712\n",
       "    })\n",
       "})"
      ]
     },
     "execution_count": 46,
     "metadata": {},
     "output_type": "execute_result"
    }
   ],
   "source": [
    "tokenized_datasets"
   ]
  },
  {
   "attachments": {},
   "cell_type": "markdown",
   "metadata": {},
   "source": [
    "### Get a Model that is not Pretrained"
   ]
  },
  {
   "cell_type": "code",
   "execution_count": 1,
   "metadata": {},
   "outputs": [],
   "source": [
    "from transformers import AutoConfig\n",
    "\n",
    "model = AutoConfig.from_pretrained('sentence-transformers/all-MiniLM-L6-v2')"
   ]
  }
 ],
 "metadata": {
  "kernelspec": {
   "display_name": "Python 3",
   "language": "python",
   "name": "python3"
  },
  "language_info": {
   "codemirror_mode": {
    "name": "ipython",
    "version": 3
   },
   "file_extension": ".py",
   "mimetype": "text/x-python",
   "name": "python",
   "nbconvert_exporter": "python",
   "pygments_lexer": "ipython3",
   "version": "3.8.9"
  },
  "orig_nbformat": 4,
  "vscode": {
   "interpreter": {
    "hash": "31f2aee4e71d21fbe5cf8b01ff0e069b9275f58929596ceb00d14d90e3e16cd6"
   }
  }
 },
 "nbformat": 4,
 "nbformat_minor": 2
}
