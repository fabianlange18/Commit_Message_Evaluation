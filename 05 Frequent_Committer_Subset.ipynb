{
 "cells": [
  {
   "cell_type": "markdown",
   "metadata": {},
   "source": [
    "# Generate Most Frequent Committers Subset"
   ]
  },
  {
   "cell_type": "markdown",
   "metadata": {},
   "source": [
    "Goal: Include all messages from committers who have more than 1000 commits."
   ]
  },
  {
   "cell_type": "markdown",
   "metadata": {},
   "source": [
    "#### Load Data"
   ]
  },
  {
   "cell_type": "code",
   "execution_count": 2,
   "metadata": {},
   "outputs": [
    {
     "data": {
      "text/html": [
       "<div>\n",
       "<style scoped>\n",
       "    .dataframe tbody tr th:only-of-type {\n",
       "        vertical-align: middle;\n",
       "    }\n",
       "\n",
       "    .dataframe tbody tr th {\n",
       "        vertical-align: top;\n",
       "    }\n",
       "\n",
       "    .dataframe thead th {\n",
       "        text-align: right;\n",
       "    }\n",
       "</style>\n",
       "<table border=\"1\" class=\"dataframe\">\n",
       "  <thead>\n",
       "    <tr style=\"text-align: right;\">\n",
       "      <th></th>\n",
       "      <th>hash</th>\n",
       "      <th>diff</th>\n",
       "      <th>message</th>\n",
       "      <th>author_email</th>\n",
       "      <th>author_name</th>\n",
       "      <th>committer_email</th>\n",
       "      <th>committer_name</th>\n",
       "      <th>project</th>\n",
       "      <th>split</th>\n",
       "    </tr>\n",
       "  </thead>\n",
       "  <tbody>\n",
       "    <tr>\n",
       "      <th>0</th>\n",
       "      <td>1de640cc59b4b3030447d567b3c99c50777bd760</td>\n",
       "      <td>a/setup.py b/setup.py\\nindex &lt;HASH&gt;..&lt;HASH&gt; 1...</td>\n",
       "      <td>setup: Detect if wheel and twine installed</td>\n",
       "      <td>gcushen@users.noreply.github.com</td>\n",
       "      <td>George Cushen</td>\n",
       "      <td>gcushen@users.noreply.github.com</td>\n",
       "      <td>George Cushen</td>\n",
       "      <td>gcushen_mezzanine-api</td>\n",
       "      <td>train</td>\n",
       "    </tr>\n",
       "    <tr>\n",
       "      <th>1</th>\n",
       "      <td>c1cce6fe5e49df5546c30a662fd141d41f4fc389</td>\n",
       "      <td>a/Builder.php b/Builder.php\\nindex &lt;HASH&gt;..&lt;H...</td>\n",
       "      <td>[Builder] Adding root page in any case</td>\n",
       "      <td>g.passault@gmail.com</td>\n",
       "      <td>Gregwar</td>\n",
       "      <td>g.passault@gmail.com</td>\n",
       "      <td>Gregwar</td>\n",
       "      <td>Gregwar_Slidey</td>\n",
       "      <td>train</td>\n",
       "    </tr>\n",
       "    <tr>\n",
       "      <th>2</th>\n",
       "      <td>2f7d97d15ea41f4112e74429617c5daad740d7cc</td>\n",
       "      <td>a/web.go b/web.go\\nindex &lt;HASH&gt;..&lt;HASH&gt; 10064...</td>\n",
       "      <td>Added web.Urlencode method</td>\n",
       "      <td>hoisie@gmail.com</td>\n",
       "      <td>Michael Hoisie</td>\n",
       "      <td>hoisie@gmail.com</td>\n",
       "      <td>Michael Hoisie</td>\n",
       "      <td>hoisie_web</td>\n",
       "      <td>train</td>\n",
       "    </tr>\n",
       "  </tbody>\n",
       "</table>\n",
       "</div>"
      ],
      "text/plain": [
       "                                       hash  \\\n",
       "0  1de640cc59b4b3030447d567b3c99c50777bd760   \n",
       "1  c1cce6fe5e49df5546c30a662fd141d41f4fc389   \n",
       "2  2f7d97d15ea41f4112e74429617c5daad740d7cc   \n",
       "\n",
       "                                                diff  \\\n",
       "0   a/setup.py b/setup.py\\nindex <HASH>..<HASH> 1...   \n",
       "1   a/Builder.php b/Builder.php\\nindex <HASH>..<H...   \n",
       "2   a/web.go b/web.go\\nindex <HASH>..<HASH> 10064...   \n",
       "\n",
       "                                      message  \\\n",
       "0  setup: Detect if wheel and twine installed   \n",
       "1      [Builder] Adding root page in any case   \n",
       "2                  Added web.Urlencode method   \n",
       "\n",
       "                       author_email     author_name  \\\n",
       "0  gcushen@users.noreply.github.com   George Cushen   \n",
       "1              g.passault@gmail.com         Gregwar   \n",
       "2                  hoisie@gmail.com  Michael Hoisie   \n",
       "\n",
       "                    committer_email  committer_name                project  \\\n",
       "0  gcushen@users.noreply.github.com   George Cushen  gcushen_mezzanine-api   \n",
       "1              g.passault@gmail.com         Gregwar         Gregwar_Slidey   \n",
       "2                  hoisie@gmail.com  Michael Hoisie             hoisie_web   \n",
       "\n",
       "   split  \n",
       "0  train  \n",
       "1  train  \n",
       "2  train  "
      ]
     },
     "execution_count": 2,
     "metadata": {},
     "output_type": "execute_result"
    }
   ],
   "source": [
    "import pandas as pd\n",
    "\n",
    "data = pd.read_csv(\"data/01_Original.csv\")\n",
    "data.head(3)"
   ]
  },
  {
   "cell_type": "code",
   "execution_count": 3,
   "metadata": {},
   "outputs": [],
   "source": [
    "data = data.drop(['hash', 'diff', 'author_email', 'author_name', 'committer_name', 'split'], axis=1)"
   ]
  },
  {
   "cell_type": "markdown",
   "metadata": {},
   "source": [
    "#### Take the subset\n",
    "\n",
    "The Dataset Exploration showed that there are exactly 50 committers who have more than 1000 commits.\n",
    "\n",
    "However, the email address noreply@github.com will be excluded since it brings no information on the committer."
   ]
  },
  {
   "cell_type": "code",
   "execution_count": 4,
   "metadata": {},
   "outputs": [],
   "source": [
    "from collections import Counter\n",
    "\n",
    "committer_count = Counter(data[\"committer_email\"])\n",
    "included_committers_counter = committer_count.most_common(50)[1:]"
   ]
  },
  {
   "cell_type": "markdown",
   "metadata": {},
   "source": [
    "#### Transform to a list"
   ]
  },
  {
   "cell_type": "code",
   "execution_count": 5,
   "metadata": {},
   "outputs": [],
   "source": [
    "included_committer_emails = []\n",
    "\n",
    "for tuple in included_committers_counter:\n",
    "    included_committer_emails.append(tuple[0])"
   ]
  },
  {
   "cell_type": "markdown",
   "metadata": {},
   "source": [
    "#### Filter the dataframe"
   ]
  },
  {
   "cell_type": "code",
   "execution_count": 6,
   "metadata": {},
   "outputs": [],
   "source": [
    "subset = data.where(data['committer_email'] == included_committer_emails[0])\n",
    "\n",
    "for committer_email in included_committer_emails[1:]:\n",
    "    subset = pd.concat([subset, data.where(data['committer_email'] == committer_email)])"
   ]
  },
  {
   "cell_type": "code",
   "execution_count": 10,
   "metadata": {},
   "outputs": [
    {
     "data": {
      "text/html": [
       "<div>\n",
       "<style scoped>\n",
       "    .dataframe tbody tr th:only-of-type {\n",
       "        vertical-align: middle;\n",
       "    }\n",
       "\n",
       "    .dataframe tbody tr th {\n",
       "        vertical-align: top;\n",
       "    }\n",
       "\n",
       "    .dataframe thead th {\n",
       "        text-align: right;\n",
       "    }\n",
       "</style>\n",
       "<table border=\"1\" class=\"dataframe\">\n",
       "  <thead>\n",
       "    <tr style=\"text-align: right;\">\n",
       "      <th></th>\n",
       "      <th>message</th>\n",
       "      <th>committer_email</th>\n",
       "      <th>project</th>\n",
       "    </tr>\n",
       "  </thead>\n",
       "  <tbody>\n",
       "    <tr>\n",
       "      <th>0</th>\n",
       "      <td>Fixed an error happening when the memory stats...</td>\n",
       "      <td>michele.simionato@gmail.com</td>\n",
       "      <td>gem_oq-engine</td>\n",
       "    </tr>\n",
       "    <tr>\n",
       "      <th>1</th>\n",
       "      <td>Updated setup.py [skip CI]</td>\n",
       "      <td>michele.simionato@gmail.com</td>\n",
       "      <td>micheles_decorator</td>\n",
       "    </tr>\n",
       "    <tr>\n",
       "      <th>2</th>\n",
       "      <td>Fixed an exposure test [skip hazardlib]</td>\n",
       "      <td>michele.simionato@gmail.com</td>\n",
       "      <td>gem_oq-engine</td>\n",
       "    </tr>\n",
       "    <tr>\n",
       "      <th>3</th>\n",
       "      <td>Added a correction factor of &lt;I&gt; to point sour...</td>\n",
       "      <td>michele.simionato@gmail.com</td>\n",
       "      <td>gem_oq-engine</td>\n",
       "    </tr>\n",
       "    <tr>\n",
       "      <th>4</th>\n",
       "      <td>Added a comment\\n\\n\\nFormer-commit-id: 1dcd&lt;I&gt;...</td>\n",
       "      <td>michele.simionato@gmail.com</td>\n",
       "      <td>gem_oq-engine</td>\n",
       "    </tr>\n",
       "    <tr>\n",
       "      <th>...</th>\n",
       "      <td>...</td>\n",
       "      <td>...</td>\n",
       "      <td>...</td>\n",
       "    </tr>\n",
       "    <tr>\n",
       "      <th>78140</th>\n",
       "      <td>refactor: remove x-whistle-https-request</td>\n",
       "      <td>avwu@qq.com</td>\n",
       "      <td>avwo_whistle</td>\n",
       "    </tr>\n",
       "    <tr>\n",
       "      <th>78141</th>\n",
       "      <td>refactor: hasProtocol</td>\n",
       "      <td>avwu@qq.com</td>\n",
       "      <td>avwo_whistle</td>\n",
       "    </tr>\n",
       "    <tr>\n",
       "      <th>78142</th>\n",
       "      <td>refactor: Add img.onerror</td>\n",
       "      <td>avwu@qq.com</td>\n",
       "      <td>avwo_whistle</td>\n",
       "    </tr>\n",
       "    <tr>\n",
       "      <th>78143</th>\n",
       "      <td>reqWrite, resWrite</td>\n",
       "      <td>avwu@qq.com</td>\n",
       "      <td>avwo_whistle</td>\n",
       "    </tr>\n",
       "    <tr>\n",
       "      <th>78144</th>\n",
       "      <td>feat: supports response `&lt;I&gt; Partial Content` ...</td>\n",
       "      <td>avwu@qq.com</td>\n",
       "      <td>avwo_whistle</td>\n",
       "    </tr>\n",
       "  </tbody>\n",
       "</table>\n",
       "<p>78145 rows × 3 columns</p>\n",
       "</div>"
      ],
      "text/plain": [
       "                                                 message  \\\n",
       "0      Fixed an error happening when the memory stats...   \n",
       "1                             Updated setup.py [skip CI]   \n",
       "2                Fixed an exposure test [skip hazardlib]   \n",
       "3      Added a correction factor of <I> to point sour...   \n",
       "4      Added a comment\\n\\n\\nFormer-commit-id: 1dcd<I>...   \n",
       "...                                                  ...   \n",
       "78140           refactor: remove x-whistle-https-request   \n",
       "78141                              refactor: hasProtocol   \n",
       "78142                          refactor: Add img.onerror   \n",
       "78143                                 reqWrite, resWrite   \n",
       "78144  feat: supports response `<I> Partial Content` ...   \n",
       "\n",
       "                   committer_email             project  \n",
       "0      michele.simionato@gmail.com       gem_oq-engine  \n",
       "1      michele.simionato@gmail.com  micheles_decorator  \n",
       "2      michele.simionato@gmail.com       gem_oq-engine  \n",
       "3      michele.simionato@gmail.com       gem_oq-engine  \n",
       "4      michele.simionato@gmail.com       gem_oq-engine  \n",
       "...                            ...                 ...  \n",
       "78140                  avwu@qq.com        avwo_whistle  \n",
       "78141                  avwu@qq.com        avwo_whistle  \n",
       "78142                  avwu@qq.com        avwo_whistle  \n",
       "78143                  avwu@qq.com        avwo_whistle  \n",
       "78144                  avwu@qq.com        avwo_whistle  \n",
       "\n",
       "[78145 rows x 3 columns]"
      ]
     },
     "execution_count": 10,
     "metadata": {},
     "output_type": "execute_result"
    }
   ],
   "source": [
    "subset = subset.dropna()\n",
    "subset.reset_index(drop=True, inplace=True)\n",
    "subset"
   ]
  },
  {
   "cell_type": "markdown",
   "metadata": {},
   "source": [
    "#### Check whether the sum is correct"
   ]
  },
  {
   "cell_type": "code",
   "execution_count": 11,
   "metadata": {},
   "outputs": [
    {
     "data": {
      "text/plain": [
       "78145"
      ]
     },
     "execution_count": 11,
     "metadata": {},
     "output_type": "execute_result"
    }
   ],
   "source": [
    "sum([count for _, count in included_committers_counter])"
   ]
  },
  {
   "cell_type": "markdown",
   "metadata": {},
   "source": [
    "The sum is correct.\n",
    "\n",
    "#### Save dataset"
   ]
  },
  {
   "cell_type": "code",
   "execution_count": 14,
   "metadata": {},
   "outputs": [],
   "source": [
    "subset.to_pickle('data/03_Subset_Frequent_Committers.pkl')\n",
    "subset.to_csv('data/03_Subset_Frequent_Committers.csv')"
   ]
  }
 ],
 "metadata": {
  "kernelspec": {
   "display_name": "Python 3.8.9 64-bit",
   "language": "python",
   "name": "python3"
  },
  "language_info": {
   "codemirror_mode": {
    "name": "ipython",
    "version": 3
   },
   "file_extension": ".py",
   "mimetype": "text/x-python",
   "name": "python",
   "nbconvert_exporter": "python",
   "pygments_lexer": "ipython3",
   "version": "3.8.9"
  },
  "orig_nbformat": 4,
  "vscode": {
   "interpreter": {
    "hash": "31f2aee4e71d21fbe5cf8b01ff0e069b9275f58929596ceb00d14d90e3e16cd6"
   }
  }
 },
 "nbformat": 4,
 "nbformat_minor": 2
}
