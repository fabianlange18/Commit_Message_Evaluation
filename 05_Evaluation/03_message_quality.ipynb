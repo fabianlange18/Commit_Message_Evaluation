{
 "cells": [
  {
   "attachments": {},
   "cell_type": "markdown",
   "metadata": {},
   "source": [
    "# Research Question 3\n",
    "\n",
    "## Can we assess the quality of generated commit messages by comparing their style?\n",
    "\n",
    "Strategy: Evaluate each given cluster (kmeans for the number of styles from 2) on quality by a Quality Model.  \n",
    "\n",
    "Print statistics for each (mean, std, min, max, quantiles) to check whether the style embedding provides information on quality."
   ]
  },
  {
   "attachments": {},
   "cell_type": "markdown",
   "metadata": {},
   "source": [
    "https://arxiv.org/pdf/2006.00843.pdf"
   ]
  },
  {
   "cell_type": "code",
   "execution_count": 22,
   "metadata": {},
   "outputs": [],
   "source": [
    "import torch\n",
    "import numpy as np\n",
    "import pandas as pd\n",
    "from tqdm import tqdm\n",
    "from sklearn.metrics.pairwise import euclidean_distances\n",
    "\n",
    "import warnings\n",
    "warnings.filterwarnings('ignore')\n",
    "\n",
    "import sys\n",
    "sys.path.append(\"..\")\n",
    "from util.style_model import StyleModel"
   ]
  },
  {
   "cell_type": "code",
   "execution_count": 7,
   "metadata": {},
   "outputs": [],
   "source": [
    "test_data = pd.read_pickle('../data/04c_Test_Set.pkl')"
   ]
  },
  {
   "cell_type": "code",
   "execution_count": 8,
   "metadata": {},
   "outputs": [
    {
     "data": {
      "text/plain": [
       "<All keys matched successfully>"
      ]
     },
     "execution_count": 8,
     "metadata": {},
     "output_type": "execute_result"
    }
   ],
   "source": [
    "model = StyleModel()\n",
    "model.load_state_dict(torch.load('../model/StyleModel.pt'))"
   ]
  },
  {
   "cell_type": "code",
   "execution_count": 9,
   "metadata": {},
   "outputs": [
    {
     "name": "stderr",
     "output_type": "stream",
     "text": [
      "100%|██████████| 10684/10684 [02:50<00:00, 62.69it/s]\n"
     ]
    }
   ],
   "source": [
    "messages = test_data[\"message\"].tolist()\n",
    "\n",
    "vectors = []\n",
    "\n",
    "for message in tqdm(messages):\n",
    "    vectors.append(model(message).squeeze().detach().numpy())\n",
    "\n",
    "vectors = np.array(vectors)"
   ]
  },
  {
   "cell_type": "code",
   "execution_count": 11,
   "metadata": {},
   "outputs": [],
   "source": [
    "authors_centroids = {}\n",
    "\n",
    "for group in test_data.groupby('author_email'):\n",
    "    author_embeddings = np.array(vectors[group[1].index])\n",
    "    authors_centroids[group[0]] = np.mean(author_embeddings, axis = 0)"
   ]
  },
  {
   "cell_type": "code",
   "execution_count": 12,
   "metadata": {},
   "outputs": [],
   "source": [
    "centroids_array = [value for value in authors_centroids.values()]"
   ]
  },
  {
   "cell_type": "code",
   "execution_count": 66,
   "metadata": {},
   "outputs": [],
   "source": [
    "good_message_embedding = model(\"MINOR Removed unused jQuery.dialog creation in CMSMain.AddFor.js, which causes mem leaks (now uses dedicated pages/add UI) \").detach().numpy()\n",
    "bad_message_embedding = model(\"Update files\").detach().numpy()\n",
    "worst_message_embedding = model(\"12345\").detach().numpy()"
   ]
  },
  {
   "cell_type": "code",
   "execution_count": 67,
   "metadata": {},
   "outputs": [
    {
     "data": {
      "text/html": [
       "<style type=\"text/css\">\n",
       "#T_cb369_row0_col0 {\n",
       "  background-color: #88abfd;\n",
       "  color: #000000;\n",
       "}\n",
       "#T_cb369_row0_col1 {\n",
       "  background-color: #e9d5cb;\n",
       "  color: #000000;\n",
       "}\n",
       "#T_cb369_row0_col2, #T_cb369_row3_col2 {\n",
       "  background-color: #c73635;\n",
       "  color: #f1f1f1;\n",
       "}\n",
       "#T_cb369_row1_col0 {\n",
       "  background-color: #97b8ff;\n",
       "  color: #000000;\n",
       "}\n",
       "#T_cb369_row1_col1 {\n",
       "  background-color: #ecd3c5;\n",
       "  color: #000000;\n",
       "}\n",
       "#T_cb369_row1_col2 {\n",
       "  background-color: #c43032;\n",
       "  color: #f1f1f1;\n",
       "}\n",
       "#T_cb369_row2_col0 {\n",
       "  background-color: #a2c1ff;\n",
       "  color: #000000;\n",
       "}\n",
       "#T_cb369_row2_col1 {\n",
       "  background-color: #b9d0f9;\n",
       "  color: #000000;\n",
       "}\n",
       "#T_cb369_row2_col2 {\n",
       "  background-color: #ec8165;\n",
       "  color: #f1f1f1;\n",
       "}\n",
       "#T_cb369_row3_col0 {\n",
       "  background-color: #94b6ff;\n",
       "  color: #000000;\n",
       "}\n",
       "#T_cb369_row3_col1 {\n",
       "  background-color: #edd1c2;\n",
       "  color: #000000;\n",
       "}\n",
       "#T_cb369_row4_col0 {\n",
       "  background-color: #9bbcff;\n",
       "  color: #000000;\n",
       "}\n",
       "#T_cb369_row4_col1 {\n",
       "  background-color: #e1dad6;\n",
       "  color: #000000;\n",
       "}\n",
       "#T_cb369_row4_col2 {\n",
       "  background-color: #d1493f;\n",
       "  color: #f1f1f1;\n",
       "}\n",
       "#T_cb369_row5_col0 {\n",
       "  background-color: #4961d2;\n",
       "  color: #f1f1f1;\n",
       "}\n",
       "#T_cb369_row5_col1 {\n",
       "  background-color: #ebd3c6;\n",
       "  color: #000000;\n",
       "}\n",
       "#T_cb369_row5_col2 {\n",
       "  background-color: #ca3b37;\n",
       "  color: #f1f1f1;\n",
       "}\n",
       "#T_cb369_row6_col0 {\n",
       "  background-color: #3b4cc0;\n",
       "  color: #f1f1f1;\n",
       "}\n",
       "#T_cb369_row6_col1 {\n",
       "  background-color: #f5c2aa;\n",
       "  color: #000000;\n",
       "}\n",
       "#T_cb369_row6_col2 {\n",
       "  background-color: #b40426;\n",
       "  color: #f1f1f1;\n",
       "}\n",
       "</style>\n",
       "<table id=\"T_cb369\">\n",
       "  <thead>\n",
       "    <tr>\n",
       "      <th class=\"blank level0\" >&nbsp;</th>\n",
       "      <th id=\"T_cb369_level0_col0\" class=\"col_heading level0 col0\" >Good Message: \"MINOR Removed unused ...\"</th>\n",
       "      <th id=\"T_cb369_level0_col1\" class=\"col_heading level0 col1\" >Bad Message: \"Update files\"</th>\n",
       "      <th id=\"T_cb369_level0_col2\" class=\"col_heading level0 col2\" >Worst Message: \"12345\"</th>\n",
       "    </tr>\n",
       "  </thead>\n",
       "  <tbody>\n",
       "    <tr>\n",
       "      <th id=\"T_cb369_level0_row0\" class=\"row_heading level0 row0\" >Author 1</th>\n",
       "      <td id=\"T_cb369_row0_col0\" class=\"data row0 col0\" >0.887</td>\n",
       "      <td id=\"T_cb369_row0_col1\" class=\"data row0 col1\" >1.138</td>\n",
       "      <td id=\"T_cb369_row0_col2\" class=\"data row0 col2\" >1.457</td>\n",
       "    </tr>\n",
       "    <tr>\n",
       "      <th id=\"T_cb369_level0_row1\" class=\"row_heading level0 row1\" >Author 2</th>\n",
       "      <td id=\"T_cb369_row1_col0\" class=\"data row1 col0\" >0.921</td>\n",
       "      <td id=\"T_cb369_row1_col1\" class=\"data row1 col1\" >1.151</td>\n",
       "      <td id=\"T_cb369_row1_col2\" class=\"data row1 col2\" >1.464</td>\n",
       "    </tr>\n",
       "    <tr>\n",
       "      <th id=\"T_cb369_level0_row2\" class=\"row_heading level0 row2\" >Author 3</th>\n",
       "      <td id=\"T_cb369_row2_col0\" class=\"data row2 col0\" >0.944</td>\n",
       "      <td id=\"T_cb369_row2_col1\" class=\"data row2 col1\" >1.000</td>\n",
       "      <td id=\"T_cb369_row2_col2\" class=\"data row2 col2\" >1.347</td>\n",
       "    </tr>\n",
       "    <tr>\n",
       "      <th id=\"T_cb369_level0_row3\" class=\"row_heading level0 row3\" >Author 4</th>\n",
       "      <td id=\"T_cb369_row3_col0\" class=\"data row3 col0\" >0.915</td>\n",
       "      <td id=\"T_cb369_row3_col1\" class=\"data row3 col1\" >1.155</td>\n",
       "      <td id=\"T_cb369_row3_col2\" class=\"data row3 col2\" >1.459</td>\n",
       "    </tr>\n",
       "    <tr>\n",
       "      <th id=\"T_cb369_level0_row4\" class=\"row_heading level0 row4\" >Author 5</th>\n",
       "      <td id=\"T_cb369_row4_col0\" class=\"data row4 col0\" >0.929</td>\n",
       "      <td id=\"T_cb369_row4_col1\" class=\"data row4 col1\" >1.112</td>\n",
       "      <td id=\"T_cb369_row4_col2\" class=\"data row4 col2\" >1.433</td>\n",
       "    </tr>\n",
       "    <tr>\n",
       "      <th id=\"T_cb369_level0_row5\" class=\"row_heading level0 row5\" >Author 6</th>\n",
       "      <td id=\"T_cb369_row5_col0\" class=\"data row5 col0\" >0.734</td>\n",
       "      <td id=\"T_cb369_row5_col1\" class=\"data row5 col1\" >1.147</td>\n",
       "      <td id=\"T_cb369_row5_col2\" class=\"data row5 col2\" >1.452</td>\n",
       "    </tr>\n",
       "    <tr>\n",
       "      <th id=\"T_cb369_level0_row6\" class=\"row_heading level0 row6\" >Author 7</th>\n",
       "      <td id=\"T_cb369_row6_col0\" class=\"data row6 col0\" >0.695</td>\n",
       "      <td id=\"T_cb369_row6_col1\" class=\"data row6 col1\" >1.203</td>\n",
       "      <td id=\"T_cb369_row6_col2\" class=\"data row6 col2\" >1.501</td>\n",
       "    </tr>\n",
       "  </tbody>\n",
       "</table>\n"
      ],
      "text/plain": [
       "<pandas.io.formats.style.Styler at 0x2a511da50>"
      ]
     },
     "execution_count": 67,
     "metadata": {},
     "output_type": "execute_result"
    }
   ],
   "source": [
    "distances = pd.DataFrame()\n",
    "\n",
    "distances[\"Good Message: \\\"MINOR Removed unused ...\\\"\"] = pd.DataFrame(euclidean_distances(centroids_array, good_message_embedding))\n",
    "distances[\"Bad Message: \\\"Update files\\\"\"] = pd.DataFrame(euclidean_distances(centroids_array, bad_message_embedding))\n",
    "distances[\"Worst Message: \\\"12345\\\"\"] = pd.DataFrame(euclidean_distances(centroids_array, worst_message_embedding))\n",
    "\n",
    "distances.index = ['Author 1', 'Author 2', 'Author 3', 'Author 4', 'Author 5', 'Author 6', 'Author 7']\n",
    "\n",
    "distances.style.background_gradient(cmap='coolwarm', axis=None).set_precision(3)"
   ]
  }
 ],
 "metadata": {
  "kernelspec": {
   "display_name": "Python 3",
   "language": "python",
   "name": "python3"
  },
  "language_info": {
   "codemirror_mode": {
    "name": "ipython",
    "version": 3
   },
   "file_extension": ".py",
   "mimetype": "text/x-python",
   "name": "python",
   "nbconvert_exporter": "python",
   "pygments_lexer": "ipython3",
   "version": "3.10.9"
  },
  "orig_nbformat": 4,
  "vscode": {
   "interpreter": {
    "hash": "b0fa6594d8f4cbf19f97940f81e996739fb7646882a419484c72d19e05852a7e"
   }
  }
 },
 "nbformat": 4,
 "nbformat_minor": 2
}
