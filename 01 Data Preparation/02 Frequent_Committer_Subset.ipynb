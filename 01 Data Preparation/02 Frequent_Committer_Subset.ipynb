{
 "cells": [
  {
   "cell_type": "markdown",
   "metadata": {},
   "source": [
    "# Generate Most Frequent Committers Subset"
   ]
  },
  {
   "cell_type": "markdown",
   "metadata": {},
   "source": [
    "Goal: Include all messages from committers who have more than 1000 commits."
   ]
  },
  {
   "cell_type": "markdown",
   "metadata": {},
   "source": [
    "#### Load Data"
   ]
  },
  {
   "cell_type": "code",
   "execution_count": 1,
   "metadata": {},
   "outputs": [
    {
     "data": {
      "text/html": [
       "<div>\n",
       "<style scoped>\n",
       "    .dataframe tbody tr th:only-of-type {\n",
       "        vertical-align: middle;\n",
       "    }\n",
       "\n",
       "    .dataframe tbody tr th {\n",
       "        vertical-align: top;\n",
       "    }\n",
       "\n",
       "    .dataframe thead th {\n",
       "        text-align: right;\n",
       "    }\n",
       "</style>\n",
       "<table border=\"1\" class=\"dataframe\">\n",
       "  <thead>\n",
       "    <tr style=\"text-align: right;\">\n",
       "      <th></th>\n",
       "      <th>hash</th>\n",
       "      <th>diff</th>\n",
       "      <th>message</th>\n",
       "      <th>author_email</th>\n",
       "      <th>author_name</th>\n",
       "      <th>committer_email</th>\n",
       "      <th>committer_name</th>\n",
       "      <th>project</th>\n",
       "      <th>split</th>\n",
       "    </tr>\n",
       "  </thead>\n",
       "  <tbody>\n",
       "    <tr>\n",
       "      <th>0</th>\n",
       "      <td>1de640cc59b4b3030447d567b3c99c50777bd760</td>\n",
       "      <td>a/setup.py b/setup.py\\nindex &lt;HASH&gt;..&lt;HASH&gt; 1...</td>\n",
       "      <td>setup: Detect if wheel and twine installed</td>\n",
       "      <td>gcushen@users.noreply.github.com</td>\n",
       "      <td>George Cushen</td>\n",
       "      <td>gcushen@users.noreply.github.com</td>\n",
       "      <td>George Cushen</td>\n",
       "      <td>gcushen_mezzanine-api</td>\n",
       "      <td>train</td>\n",
       "    </tr>\n",
       "    <tr>\n",
       "      <th>1</th>\n",
       "      <td>c1cce6fe5e49df5546c30a662fd141d41f4fc389</td>\n",
       "      <td>a/Builder.php b/Builder.php\\nindex &lt;HASH&gt;..&lt;H...</td>\n",
       "      <td>[Builder] Adding root page in any case</td>\n",
       "      <td>g.passault@gmail.com</td>\n",
       "      <td>Gregwar</td>\n",
       "      <td>g.passault@gmail.com</td>\n",
       "      <td>Gregwar</td>\n",
       "      <td>Gregwar_Slidey</td>\n",
       "      <td>train</td>\n",
       "    </tr>\n",
       "    <tr>\n",
       "      <th>2</th>\n",
       "      <td>2f7d97d15ea41f4112e74429617c5daad740d7cc</td>\n",
       "      <td>a/web.go b/web.go\\nindex &lt;HASH&gt;..&lt;HASH&gt; 10064...</td>\n",
       "      <td>Added web.Urlencode method</td>\n",
       "      <td>hoisie@gmail.com</td>\n",
       "      <td>Michael Hoisie</td>\n",
       "      <td>hoisie@gmail.com</td>\n",
       "      <td>Michael Hoisie</td>\n",
       "      <td>hoisie_web</td>\n",
       "      <td>train</td>\n",
       "    </tr>\n",
       "  </tbody>\n",
       "</table>\n",
       "</div>"
      ],
      "text/plain": [
       "                                       hash  \\\n",
       "0  1de640cc59b4b3030447d567b3c99c50777bd760   \n",
       "1  c1cce6fe5e49df5546c30a662fd141d41f4fc389   \n",
       "2  2f7d97d15ea41f4112e74429617c5daad740d7cc   \n",
       "\n",
       "                                                diff  \\\n",
       "0   a/setup.py b/setup.py\\nindex <HASH>..<HASH> 1...   \n",
       "1   a/Builder.php b/Builder.php\\nindex <HASH>..<H...   \n",
       "2   a/web.go b/web.go\\nindex <HASH>..<HASH> 10064...   \n",
       "\n",
       "                                      message  \\\n",
       "0  setup: Detect if wheel and twine installed   \n",
       "1      [Builder] Adding root page in any case   \n",
       "2                  Added web.Urlencode method   \n",
       "\n",
       "                       author_email     author_name  \\\n",
       "0  gcushen@users.noreply.github.com   George Cushen   \n",
       "1              g.passault@gmail.com         Gregwar   \n",
       "2                  hoisie@gmail.com  Michael Hoisie   \n",
       "\n",
       "                    committer_email  committer_name                project  \\\n",
       "0  gcushen@users.noreply.github.com   George Cushen  gcushen_mezzanine-api   \n",
       "1              g.passault@gmail.com         Gregwar         Gregwar_Slidey   \n",
       "2                  hoisie@gmail.com  Michael Hoisie             hoisie_web   \n",
       "\n",
       "   split  \n",
       "0  train  \n",
       "1  train  \n",
       "2  train  "
      ]
     },
     "execution_count": 1,
     "metadata": {},
     "output_type": "execute_result"
    }
   ],
   "source": [
    "import pandas as pd\n",
    "\n",
    "data = pd.read_csv(\"../data/01_Original.csv\")\n",
    "data.head(3)"
   ]
  },
  {
   "cell_type": "code",
   "execution_count": 2,
   "metadata": {},
   "outputs": [],
   "source": [
    "data.drop(['hash', 'diff', 'committer_email', 'author_name', 'committer_name', 'split'], axis=1, inplace=True)"
   ]
  },
  {
   "cell_type": "markdown",
   "metadata": {},
   "source": [
    "#### Take the subset\n",
    "\n",
    "The Dataset Exploration showed that there are exactly 42 committers who have more than 1000 commits taken by author_email."
   ]
  },
  {
   "cell_type": "code",
   "execution_count": 11,
   "metadata": {},
   "outputs": [],
   "source": [
    "from collections import Counter\n",
    "\n",
    "author_count = Counter(data[\"author_email\"])\n",
    "included_authors_counter = author_count.most_common(42)"
   ]
  },
  {
   "cell_type": "code",
   "execution_count": 4,
   "metadata": {},
   "outputs": [
    {
     "data": {
      "text/plain": [
       "[('michele.simionato@gmail.com', 4991),\n",
       " ('thomas.parrott@canonical.com', 3058),\n",
       " ('crynobone@gmail.com', 3054),\n",
       " ('igor.kroitor@gmail.com', 2916),\n",
       " ('jaraco@jaraco.com', 2899),\n",
       " ('postmodern.mod3@gmail.com', 2669),\n",
       " ('github@contao.org', 2285),\n",
       " ('mark@mark-story.com', 2082),\n",
       " ('thatch45@gmail.com', 1976),\n",
       " ('ccordoba12@gmail.com', 1932),\n",
       " ('pedro@algarvio.me', 1907),\n",
       " ('mjpt777@gmail.com', 1817),\n",
       " ('mitchell.hashimoto@gmail.com', 1751),\n",
       " ('moodler', 1688),\n",
       " ('ns@vivid-planet.com', 1576),\n",
       " ('marijnh@gmail.com', 1500),\n",
       " ('aaron.patterson@gmail.com', 1450),\n",
       " ('blactbt@live.de', 1379),\n",
       " ('ocramius@gmail.com', 1362),\n",
       " ('P.Rudiger@ed.ac.uk', 1356),\n",
       " ('duncan.macleod@ligo.org', 1278),\n",
       " ('fabien.potencier@gmail.com', 1243),\n",
       " ('fisharebest@gmail.com', 1219),\n",
       " ('Lars.Butler@gmail.com', 1215),\n",
       " ('matijs@matijs.net', 1207),\n",
       " ('none@none', 1176),\n",
       " ('skodak', 1155),\n",
       " ('andreas@one.com', 1152),\n",
       " ('palehose@gmail.com', 1138),\n",
       " ('jmettraux@gmail.com', 1125),\n",
       " ('anacrolix@gmail.com', 1119),\n",
       " ('mike@silverorange.com', 1110),\n",
       " ('p@shedcollective.org', 1103),\n",
       " ('tj@vision-media.ca', 1099),\n",
       " ('hajimehoshi@gmail.com', 1093),\n",
       " ('ronnie@dio.jp', 1078),\n",
       " ('jerome@leclan.ch', 1077),\n",
       " ('zacharyspector@gmail.com', 1038),\n",
       " ('j.boggiano@seld.be', 1035),\n",
       " ('avwu@qq.com', 1011),\n",
       " ('ingo@silverstripe.com', 1006),\n",
       " ('stgraber@ubuntu.com', 1000),\n",
       " ('c.schiffler@cyberspectrum.de', 953)]"
      ]
     },
     "execution_count": 4,
     "metadata": {},
     "output_type": "execute_result"
    }
   ],
   "source": [
    "author_count.most_common(43)"
   ]
  },
  {
   "cell_type": "markdown",
   "metadata": {},
   "source": [
    "#### Transform to a list"
   ]
  },
  {
   "cell_type": "code",
   "execution_count": 6,
   "metadata": {},
   "outputs": [],
   "source": [
    "included_author_emails = []\n",
    "\n",
    "for tuple in included_authors_counter:\n",
    "    if tuple[1] >= 1000: #not really required since already filtered above\n",
    "        included_author_emails.append(tuple[0])\n",
    "\n",
    "included_author_emails"
   ]
  },
  {
   "cell_type": "markdown",
   "metadata": {},
   "source": [
    "#### Filter the dataframe"
   ]
  },
  {
   "cell_type": "code",
   "execution_count": 13,
   "metadata": {},
   "outputs": [],
   "source": [
    "subset = data.where(data['author_email'] == included_author_emails[0])\n",
    "\n",
    "for author_email in included_author_emails[1:]:\n",
    "    subset = pd.concat([subset, data.where(data['author_email'] == author_email)])"
   ]
  },
  {
   "cell_type": "code",
   "execution_count": 14,
   "metadata": {},
   "outputs": [
    {
     "data": {
      "text/html": [
       "<div>\n",
       "<style scoped>\n",
       "    .dataframe tbody tr th:only-of-type {\n",
       "        vertical-align: middle;\n",
       "    }\n",
       "\n",
       "    .dataframe tbody tr th {\n",
       "        vertical-align: top;\n",
       "    }\n",
       "\n",
       "    .dataframe thead th {\n",
       "        text-align: right;\n",
       "    }\n",
       "</style>\n",
       "<table border=\"1\" class=\"dataframe\">\n",
       "  <thead>\n",
       "    <tr style=\"text-align: right;\">\n",
       "      <th></th>\n",
       "      <th>message</th>\n",
       "      <th>author_email</th>\n",
       "      <th>project</th>\n",
       "    </tr>\n",
       "  </thead>\n",
       "  <tbody>\n",
       "    <tr>\n",
       "      <th>0</th>\n",
       "      <td>Fixed an error happening when the memory stats...</td>\n",
       "      <td>michele.simionato@gmail.com</td>\n",
       "      <td>gem_oq-engine</td>\n",
       "    </tr>\n",
       "    <tr>\n",
       "      <th>1</th>\n",
       "      <td>Updated setup.py [skip CI]</td>\n",
       "      <td>michele.simionato@gmail.com</td>\n",
       "      <td>micheles_decorator</td>\n",
       "    </tr>\n",
       "    <tr>\n",
       "      <th>2</th>\n",
       "      <td>Fixed an exposure test [skip hazardlib]</td>\n",
       "      <td>michele.simionato@gmail.com</td>\n",
       "      <td>gem_oq-engine</td>\n",
       "    </tr>\n",
       "    <tr>\n",
       "      <th>3</th>\n",
       "      <td>Added a correction factor of &lt;I&gt; to point sour...</td>\n",
       "      <td>michele.simionato@gmail.com</td>\n",
       "      <td>gem_oq-engine</td>\n",
       "    </tr>\n",
       "    <tr>\n",
       "      <th>4</th>\n",
       "      <td>Added a comment\\n\\n\\nFormer-commit-id: 1dcd&lt;I&gt;...</td>\n",
       "      <td>michele.simionato@gmail.com</td>\n",
       "      <td>gem_oq-engine</td>\n",
       "    </tr>\n",
       "    <tr>\n",
       "      <th>...</th>\n",
       "      <td>...</td>\n",
       "      <td>...</td>\n",
       "      <td>...</td>\n",
       "    </tr>\n",
       "    <tr>\n",
       "      <th>68320</th>\n",
       "      <td>lxc/remote: Show the fingerprint as string not...</td>\n",
       "      <td>stgraber@ubuntu.com</td>\n",
       "      <td>lxc_lxd</td>\n",
       "    </tr>\n",
       "    <tr>\n",
       "      <th>68321</th>\n",
       "      <td>lxd-p2c: Update to changed cert functions</td>\n",
       "      <td>stgraber@ubuntu.com</td>\n",
       "      <td>lxc_lxd</td>\n",
       "    </tr>\n",
       "    <tr>\n",
       "      <th>68322</th>\n",
       "      <td>networks: Extend allowed character set for int...</td>\n",
       "      <td>stgraber@ubuntu.com</td>\n",
       "      <td>lxc_lxd</td>\n",
       "    </tr>\n",
       "    <tr>\n",
       "      <th>68323</th>\n",
       "      <td>Don't grab addresses from public remotes</td>\n",
       "      <td>stgraber@ubuntu.com</td>\n",
       "      <td>lxc_lxd</td>\n",
       "    </tr>\n",
       "    <tr>\n",
       "      <th>68324</th>\n",
       "      <td>Fix unsetting zfs pool when snapshots used to ...</td>\n",
       "      <td>stgraber@ubuntu.com</td>\n",
       "      <td>lxc_lxd</td>\n",
       "    </tr>\n",
       "  </tbody>\n",
       "</table>\n",
       "<p>68325 rows × 3 columns</p>\n",
       "</div>"
      ],
      "text/plain": [
       "                                                 message  \\\n",
       "0      Fixed an error happening when the memory stats...   \n",
       "1                             Updated setup.py [skip CI]   \n",
       "2                Fixed an exposure test [skip hazardlib]   \n",
       "3      Added a correction factor of <I> to point sour...   \n",
       "4      Added a comment\\n\\n\\nFormer-commit-id: 1dcd<I>...   \n",
       "...                                                  ...   \n",
       "68320  lxc/remote: Show the fingerprint as string not...   \n",
       "68321          lxd-p2c: Update to changed cert functions   \n",
       "68322  networks: Extend allowed character set for int...   \n",
       "68323           Don't grab addresses from public remotes   \n",
       "68324  Fix unsetting zfs pool when snapshots used to ...   \n",
       "\n",
       "                      author_email             project  \n",
       "0      michele.simionato@gmail.com       gem_oq-engine  \n",
       "1      michele.simionato@gmail.com  micheles_decorator  \n",
       "2      michele.simionato@gmail.com       gem_oq-engine  \n",
       "3      michele.simionato@gmail.com       gem_oq-engine  \n",
       "4      michele.simionato@gmail.com       gem_oq-engine  \n",
       "...                            ...                 ...  \n",
       "68320          stgraber@ubuntu.com             lxc_lxd  \n",
       "68321          stgraber@ubuntu.com             lxc_lxd  \n",
       "68322          stgraber@ubuntu.com             lxc_lxd  \n",
       "68323          stgraber@ubuntu.com             lxc_lxd  \n",
       "68324          stgraber@ubuntu.com             lxc_lxd  \n",
       "\n",
       "[68325 rows x 3 columns]"
      ]
     },
     "execution_count": 14,
     "metadata": {},
     "output_type": "execute_result"
    }
   ],
   "source": [
    "subset = subset.dropna()\n",
    "subset.reset_index(drop=True, inplace=True)\n",
    "subset"
   ]
  },
  {
   "cell_type": "markdown",
   "metadata": {},
   "source": [
    "#### Check whether the sum is correct"
   ]
  },
  {
   "cell_type": "code",
   "execution_count": 15,
   "metadata": {},
   "outputs": [
    {
     "data": {
      "text/plain": [
       "68325"
      ]
     },
     "execution_count": 15,
     "metadata": {},
     "output_type": "execute_result"
    }
   ],
   "source": [
    "sum([count for _, count in included_authors_counter])"
   ]
  },
  {
   "cell_type": "markdown",
   "metadata": {},
   "source": [
    "The sum is correct.\n",
    "\n",
    "#### Save dataset"
   ]
  },
  {
   "cell_type": "code",
   "execution_count": 16,
   "metadata": {},
   "outputs": [],
   "source": [
    "subset.to_pickle('../data/03_Subset_Frequent_Committers.pkl')\n",
    "subset.to_csv('../data/03_Subset_Frequent_Committers.csv')"
   ]
  }
 ],
 "metadata": {
  "kernelspec": {
   "display_name": "Python 3.8.9 64-bit",
   "language": "python",
   "name": "python3"
  },
  "language_info": {
   "codemirror_mode": {
    "name": "ipython",
    "version": 3
   },
   "file_extension": ".py",
   "mimetype": "text/x-python",
   "name": "python",
   "nbconvert_exporter": "python",
   "pygments_lexer": "ipython3",
   "version": "3.8.9"
  },
  "orig_nbformat": 4,
  "vscode": {
   "interpreter": {
    "hash": "31f2aee4e71d21fbe5cf8b01ff0e069b9275f58929596ceb00d14d90e3e16cd6"
   }
  }
 },
 "nbformat": 4,
 "nbformat_minor": 2
}
