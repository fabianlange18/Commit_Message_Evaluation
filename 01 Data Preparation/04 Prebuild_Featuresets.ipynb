{
 "cells": [
  {
   "cell_type": "markdown",
   "metadata": {},
   "source": [
    "# Prebuild the featuresets to reduce computational effort"
   ]
  },
  {
   "cell_type": "code",
   "execution_count": 1,
   "metadata": {},
   "outputs": [],
   "source": [
    "import pandas as pd"
   ]
  },
  {
   "cell_type": "code",
   "execution_count": 2,
   "metadata": {},
   "outputs": [],
   "source": [
    "train_data = pd.read_pickle('../data/05a_Authors_Train_Set.pkl')\n",
    "test_data = pd.read_pickle('../data/05c_Authors_Test_Set.pkl')"
   ]
  },
  {
   "cell_type": "code",
   "execution_count": 1,
   "metadata": {},
   "outputs": [],
   "source": [
    "import sys\n",
    "sys.path.append('..')\n",
    "\n",
    "from util.features import build_featureset"
   ]
  },
  {
   "cell_type": "code",
   "execution_count": 4,
   "metadata": {},
   "outputs": [
    {
     "data": {
      "text/plain": [
       "array([[4.10752363e-03, 8.51559777e-04, 5.00917516e-05, ...,\n",
       "        4.80880815e-03, 4.95908341e-03, 4.60844115e-03],\n",
       "       [3.80697312e-03, 8.01468026e-04, 5.00917516e-05, ...,\n",
       "        4.80880815e-03, 4.95908341e-03, 4.60844115e-03],\n",
       "       [1.17214699e-02, 4.00734013e-03, 7.01284522e-04, ...,\n",
       "        4.60844115e-03, 4.60844115e-03, 4.30789064e-03],\n",
       "       ...,\n",
       "       [2.65486283e-03, 5.00917516e-04, 0.00000000e+00, ...,\n",
       "        5.00917516e-03, 4.50825764e-03, 4.60844115e-03],\n",
       "       [2.30422057e-03, 3.50642261e-04, 5.00917516e-05, ...,\n",
       "        5.00917516e-03, 4.20770713e-03, 4.60844115e-03],\n",
       "       [2.95541334e-03, 3.50642261e-04, 5.00917516e-05, ...,\n",
       "        5.00917516e-03, 4.60844115e-03, 4.25779889e-03]])"
      ]
     },
     "execution_count": 4,
     "metadata": {},
     "output_type": "execute_result"
    }
   ],
   "source": [
    "build_featureset(train_data, len(train_data), output_path='../data/05a_Train_Set_Features')\n",
    "build_featureset(test_data, len(test_data), output_path='../data/05c_Test_Set_Features')"
   ]
  },
  {
   "cell_type": "code",
   "execution_count": 6,
   "metadata": {},
   "outputs": [],
   "source": [
    "# load data with these commands\n",
    "\n",
    "import numpy as np\n",
    "\n",
    "features = np.load('../data/05a_Train_Set_Features.npy', allow_pickle=True)\n",
    "features = np.load('../data/05c_Test_Set_Features.npy', allow_pickle=True)"
   ]
  }
 ],
 "metadata": {
  "kernelspec": {
   "display_name": "Python 3.8.9 64-bit",
   "language": "python",
   "name": "python3"
  },
  "language_info": {
   "codemirror_mode": {
    "name": "ipython",
    "version": 3
   },
   "file_extension": ".py",
   "mimetype": "text/x-python",
   "name": "python",
   "nbconvert_exporter": "python",
   "pygments_lexer": "ipython3",
   "version": "3.8.9"
  },
  "orig_nbformat": 4,
  "vscode": {
   "interpreter": {
    "hash": "31f2aee4e71d21fbe5cf8b01ff0e069b9275f58929596ceb00d14d90e3e16cd6"
   }
  }
 },
 "nbformat": 4,
 "nbformat_minor": 2
}
