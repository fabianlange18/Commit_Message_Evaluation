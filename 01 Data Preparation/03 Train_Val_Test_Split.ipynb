{
 "cells": [
  {
   "cell_type": "markdown",
   "metadata": {},
   "source": [
    "# Split the Frequent Committers Dataset"
   ]
  },
  {
   "cell_type": "markdown",
   "metadata": {},
   "source": [
    "Goal: Split the Data with the most frequent committers into a train (70 %), validate (15 %) and test set (15 %)."
   ]
  },
  {
   "cell_type": "markdown",
   "metadata": {},
   "source": [
    "#### Load Data"
   ]
  },
  {
   "cell_type": "code",
   "execution_count": 1,
   "metadata": {},
   "outputs": [
    {
     "data": {
      "text/html": [
       "<div>\n",
       "<style scoped>\n",
       "    .dataframe tbody tr th:only-of-type {\n",
       "        vertical-align: middle;\n",
       "    }\n",
       "\n",
       "    .dataframe tbody tr th {\n",
       "        vertical-align: top;\n",
       "    }\n",
       "\n",
       "    .dataframe thead th {\n",
       "        text-align: right;\n",
       "    }\n",
       "</style>\n",
       "<table border=\"1\" class=\"dataframe\">\n",
       "  <thead>\n",
       "    <tr style=\"text-align: right;\">\n",
       "      <th></th>\n",
       "      <th>message</th>\n",
       "      <th>author_email</th>\n",
       "      <th>project</th>\n",
       "    </tr>\n",
       "  </thead>\n",
       "  <tbody>\n",
       "    <tr>\n",
       "      <th>0</th>\n",
       "      <td>Fixed an error happening when the memory stats...</td>\n",
       "      <td>michele.simionato@gmail.com</td>\n",
       "      <td>gem_oq-engine</td>\n",
       "    </tr>\n",
       "    <tr>\n",
       "      <th>1</th>\n",
       "      <td>Updated setup.py [skip CI]</td>\n",
       "      <td>michele.simionato@gmail.com</td>\n",
       "      <td>micheles_decorator</td>\n",
       "    </tr>\n",
       "    <tr>\n",
       "      <th>2</th>\n",
       "      <td>Fixed an exposure test [skip hazardlib]</td>\n",
       "      <td>michele.simionato@gmail.com</td>\n",
       "      <td>gem_oq-engine</td>\n",
       "    </tr>\n",
       "  </tbody>\n",
       "</table>\n",
       "</div>"
      ],
      "text/plain": [
       "                                             message  \\\n",
       "0  Fixed an error happening when the memory stats...   \n",
       "1                         Updated setup.py [skip CI]   \n",
       "2            Fixed an exposure test [skip hazardlib]   \n",
       "\n",
       "                  author_email             project  \n",
       "0  michele.simionato@gmail.com       gem_oq-engine  \n",
       "1  michele.simionato@gmail.com  micheles_decorator  \n",
       "2  michele.simionato@gmail.com       gem_oq-engine  "
      ]
     },
     "execution_count": 1,
     "metadata": {},
     "output_type": "execute_result"
    }
   ],
   "source": [
    "import pandas as pd\n",
    "\n",
    "data = pd.read_pickle('../data/03_Subset_Frequent_Committers.pkl')\n",
    "data.head(3)"
   ]
  },
  {
   "cell_type": "code",
   "execution_count": 2,
   "metadata": {},
   "outputs": [
    {
     "data": {
      "text/plain": [
       "42"
      ]
     },
     "execution_count": 2,
     "metadata": {},
     "output_type": "execute_result"
    }
   ],
   "source": [
    "from collections import Counter\n",
    "\n",
    "author_counter = Counter(data['author_email'])\n",
    "len(author_counter)"
   ]
  },
  {
   "cell_type": "markdown",
   "metadata": {},
   "source": [
    "There are 42 authors.\n",
    "\n",
    "All messages of one author should be in one subset to be able to cluster authors by their style."
   ]
  },
  {
   "cell_type": "code",
   "execution_count": 3,
   "metadata": {},
   "outputs": [
    {
     "name": "stdout",
     "output_type": "stream",
     "text": [
      "70 percent of the 42 authors: 29.4 authors\n",
      "15 percent of the 42 authors: 6.3 authors\n"
     ]
    }
   ],
   "source": [
    "print('70 percent of the {total_authors} authors: {fraction_authors} authors'.format(total_authors = len(author_counter), fraction_authors = len(author_counter) * 0.7))\n",
    "print('15 percent of the {total_authors} authors: {fraction_authors} authors'.format(total_authors = len(author_counter), fraction_authors = len(author_counter) * 0.15))"
   ]
  },
  {
   "cell_type": "markdown",
   "metadata": {},
   "source": [
    "Since these numbers are really small, a larger validate and test subset is preffered.\n",
    "\n",
    "The following split is proposed:\n",
    "\n",
    "| | number of authors |\n",
    "| --- | --- |\n",
    "| Training | 28 |\n",
    "| Validate | 7 |\n",
    "| Test | 7 |"
   ]
  },
  {
   "cell_type": "markdown",
   "metadata": {},
   "source": [
    "The allocation of authors to a subset should be random because some authors have more commit messages while others have fewer."
   ]
  },
  {
   "cell_type": "code",
   "execution_count": 4,
   "metadata": {},
   "outputs": [
    {
     "name": "stdout",
     "output_type": "stream",
     "text": [
      "[0 0 0 0 0 1 1 0 0 0 0 0 0 0 0 2 0 1 0 1 2 2 0 0 2 1 0 0 0 0 0 2 0 2 0 0 0\n",
      " 1 2 0 0 1]\n",
      "Counter({0: 28, 1: 7, 2: 7})\n"
     ]
    }
   ],
   "source": [
    "import numpy as np\n",
    "\n",
    "# this seed (13) returns a splitting option that fullfills the above splitting proportionalities, other most probably may not\n",
    "np.random.seed(13)\n",
    "\n",
    "random_allocation = np.random.choice(3, 42, p=[0.7, 0.15, 0.15])\n",
    "\n",
    "np.random.shuffle(random_allocation)\n",
    "\n",
    "print(random_allocation)\n",
    "print(Counter(random_allocation))"
   ]
  },
  {
   "cell_type": "markdown",
   "metadata": {},
   "source": [
    "The data is split accordingly and each committer gets a unique label."
   ]
  },
  {
   "cell_type": "code",
   "execution_count": 5,
   "metadata": {},
   "outputs": [],
   "source": [
    "import warnings\n",
    "warnings.filterwarnings('ignore')\n",
    "\n",
    "train_set = pd.DataFrame(columns=['message', 'author_email', 'project'])\n",
    "validate_set = pd.DataFrame(columns=['message', 'author_email', 'project'])\n",
    "test_set = pd.DataFrame(columns=['message', 'author_email', 'project'])\n",
    "\n",
    "for i, group_object in enumerate(data.groupby('author_email')):\n",
    "    group_object[1]['label'] = i\n",
    "    if random_allocation[i] == 0:\n",
    "        train_set = pd.concat([train_set, group_object[1]])\n",
    "    if random_allocation[i] == 1:\n",
    "        validate_set = pd.concat([validate_set, group_object[1]])\n",
    "    if random_allocation[i] == 2:\n",
    "        test_set = pd.concat([test_set, group_object[1]])\n",
    "\n",
    "train_set.reset_index(drop=True, inplace=True)\n",
    "validate_set.reset_index(drop=True, inplace=True)\n",
    "test_set.reset_index(drop=True, inplace=True)"
   ]
  },
  {
   "cell_type": "markdown",
   "metadata": {},
   "source": [
    "### Resulting Train Set"
   ]
  },
  {
   "cell_type": "code",
   "execution_count": 6,
   "metadata": {},
   "outputs": [
    {
     "name": "stdout",
     "output_type": "stream",
     "text": [
      "Authors of the train set: 28\n",
      "Average amount of commit messages per author: 1694.21\n"
     ]
    },
    {
     "data": {
      "text/html": [
       "<div>\n",
       "<style scoped>\n",
       "    .dataframe tbody tr th:only-of-type {\n",
       "        vertical-align: middle;\n",
       "    }\n",
       "\n",
       "    .dataframe tbody tr th {\n",
       "        vertical-align: top;\n",
       "    }\n",
       "\n",
       "    .dataframe thead th {\n",
       "        text-align: right;\n",
       "    }\n",
       "</style>\n",
       "<table border=\"1\" class=\"dataframe\">\n",
       "  <thead>\n",
       "    <tr style=\"text-align: right;\">\n",
       "      <th></th>\n",
       "      <th>message</th>\n",
       "      <th>author_email</th>\n",
       "      <th>project</th>\n",
       "      <th>label</th>\n",
       "    </tr>\n",
       "  </thead>\n",
       "  <tbody>\n",
       "    <tr>\n",
       "      <th>0</th>\n",
       "      <td>calcs/hazard/event_based/post_processing:\\n\\nM...</td>\n",
       "      <td>Lars.Butler@gmail.com</td>\n",
       "      <td>gem_oq-engine</td>\n",
       "      <td>0.0</td>\n",
       "    </tr>\n",
       "    <tr>\n",
       "      <th>1</th>\n",
       "      <td>added javadoc heading to hdf5 util class\\n\\n\\n...</td>\n",
       "      <td>Lars.Butler@gmail.com</td>\n",
       "      <td>gem_oq-engine</td>\n",
       "      <td>0.0</td>\n",
       "    </tr>\n",
       "    <tr>\n",
       "      <th>2</th>\n",
       "      <td>added missing imports in db_tests/__init__.py ...</td>\n",
       "      <td>Lars.Butler@gmail.com</td>\n",
       "      <td>gem_oq-engine</td>\n",
       "      <td>0.0</td>\n",
       "    </tr>\n",
       "    <tr>\n",
       "      <th>3</th>\n",
       "      <td>Fixed up a longer-running test, added slow attr</td>\n",
       "      <td>Lars.Butler@gmail.com</td>\n",
       "      <td>gem_oq-engine</td>\n",
       "      <td>0.0</td>\n",
       "    </tr>\n",
       "    <tr>\n",
       "      <th>4</th>\n",
       "      <td>calculators/hazard/event_based/core_next:\\n\\nR...</td>\n",
       "      <td>Lars.Butler@gmail.com</td>\n",
       "      <td>gem_oq-engine</td>\n",
       "      <td>0.0</td>\n",
       "    </tr>\n",
       "    <tr>\n",
       "      <th>...</th>\n",
       "      <td>...</td>\n",
       "      <td>...</td>\n",
       "      <td>...</td>\n",
       "      <td>...</td>\n",
       "    </tr>\n",
       "    <tr>\n",
       "      <th>47433</th>\n",
       "      <td>Fixed \"is a\" op with Ident</td>\n",
       "      <td>tj@vision-media.ca</td>\n",
       "      <td>stylus_stylus</td>\n",
       "      <td>40.0</td>\n",
       "    </tr>\n",
       "    <tr>\n",
       "      <th>47434</th>\n",
       "      <td>removed old dynamic helper logic from the view...</td>\n",
       "      <td>tj@vision-media.ca</td>\n",
       "      <td>expressjs_express</td>\n",
       "      <td>40.0</td>\n",
       "    </tr>\n",
       "    <tr>\n",
       "      <th>47435</th>\n",
       "      <td>fixed property error due to parser not being p...</td>\n",
       "      <td>tj@vision-media.ca</td>\n",
       "      <td>stylus_stylus</td>\n",
       "      <td>40.0</td>\n",
       "    </tr>\n",
       "    <tr>\n",
       "      <th>47436</th>\n",
       "      <td>Fixed connect middleware for &lt;I&gt;.x</td>\n",
       "      <td>tj@vision-media.ca</td>\n",
       "      <td>stylus_stylus</td>\n",
       "      <td>40.0</td>\n",
       "    </tr>\n",
       "    <tr>\n",
       "      <th>47437</th>\n",
       "      <td>make Suite#eachTest() private</td>\n",
       "      <td>tj@vision-media.ca</td>\n",
       "      <td>mochajs_mocha</td>\n",
       "      <td>40.0</td>\n",
       "    </tr>\n",
       "  </tbody>\n",
       "</table>\n",
       "<p>47438 rows × 4 columns</p>\n",
       "</div>"
      ],
      "text/plain": [
       "                                                 message  \\\n",
       "0      calcs/hazard/event_based/post_processing:\\n\\nM...   \n",
       "1      added javadoc heading to hdf5 util class\\n\\n\\n...   \n",
       "2      added missing imports in db_tests/__init__.py ...   \n",
       "3        Fixed up a longer-running test, added slow attr   \n",
       "4      calculators/hazard/event_based/core_next:\\n\\nR...   \n",
       "...                                                  ...   \n",
       "47433                         Fixed \"is a\" op with Ident   \n",
       "47434  removed old dynamic helper logic from the view...   \n",
       "47435  fixed property error due to parser not being p...   \n",
       "47436                 Fixed connect middleware for <I>.x   \n",
       "47437                      make Suite#eachTest() private   \n",
       "\n",
       "                author_email            project  label  \n",
       "0      Lars.Butler@gmail.com      gem_oq-engine    0.0  \n",
       "1      Lars.Butler@gmail.com      gem_oq-engine    0.0  \n",
       "2      Lars.Butler@gmail.com      gem_oq-engine    0.0  \n",
       "3      Lars.Butler@gmail.com      gem_oq-engine    0.0  \n",
       "4      Lars.Butler@gmail.com      gem_oq-engine    0.0  \n",
       "...                      ...                ...    ...  \n",
       "47433     tj@vision-media.ca      stylus_stylus   40.0  \n",
       "47434     tj@vision-media.ca  expressjs_express   40.0  \n",
       "47435     tj@vision-media.ca      stylus_stylus   40.0  \n",
       "47436     tj@vision-media.ca      stylus_stylus   40.0  \n",
       "47437     tj@vision-media.ca      mochajs_mocha   40.0  \n",
       "\n",
       "[47438 rows x 4 columns]"
      ]
     },
     "execution_count": 6,
     "metadata": {},
     "output_type": "execute_result"
    }
   ],
   "source": [
    "authors_count = len(train_set['author_email'].unique())\n",
    "\n",
    "print('Authors of the train set: ' + str(authors_count))\n",
    "print('Average amount of commit messages per author: ' + str(round(len(train_set) / authors_count, 2)))\n",
    "train_set"
   ]
  },
  {
   "cell_type": "markdown",
   "metadata": {},
   "source": [
    "### Resulting Validate Set"
   ]
  },
  {
   "cell_type": "code",
   "execution_count": 7,
   "metadata": {},
   "outputs": [
    {
     "name": "stdout",
     "output_type": "stream",
     "text": [
      "Authors of the train set: 7\n",
      "Average amount of commit messages per author: 1457.57\n"
     ]
    },
    {
     "data": {
      "text/html": [
       "<div>\n",
       "<style scoped>\n",
       "    .dataframe tbody tr th:only-of-type {\n",
       "        vertical-align: middle;\n",
       "    }\n",
       "\n",
       "    .dataframe tbody tr th {\n",
       "        vertical-align: top;\n",
       "    }\n",
       "\n",
       "    .dataframe thead th {\n",
       "        text-align: right;\n",
       "    }\n",
       "</style>\n",
       "<table border=\"1\" class=\"dataframe\">\n",
       "  <thead>\n",
       "    <tr style=\"text-align: right;\">\n",
       "      <th></th>\n",
       "      <th>message</th>\n",
       "      <th>author_email</th>\n",
       "      <th>project</th>\n",
       "      <th>label</th>\n",
       "    </tr>\n",
       "  </thead>\n",
       "  <tbody>\n",
       "    <tr>\n",
       "      <th>0</th>\n",
       "      <td>refactor: getFrames</td>\n",
       "      <td>avwu@qq.com</td>\n",
       "      <td>avwo_whistle</td>\n",
       "      <td>5.0</td>\n",
       "    </tr>\n",
       "    <tr>\n",
       "      <th>1</th>\n",
       "      <td>refactor: websocket</td>\n",
       "      <td>avwu@qq.com</td>\n",
       "      <td>avwo_whistle</td>\n",
       "      <td>5.0</td>\n",
       "    </tr>\n",
       "    <tr>\n",
       "      <th>2</th>\n",
       "      <td>refactor: add timeout event</td>\n",
       "      <td>avwu@qq.com</td>\n",
       "      <td>avwo_whistle</td>\n",
       "      <td>5.0</td>\n",
       "    </tr>\n",
       "    <tr>\n",
       "      <th>3</th>\n",
       "      <td>feat: Support for getting random port of ui se...</td>\n",
       "      <td>avwu@qq.com</td>\n",
       "      <td>avwo_whistle</td>\n",
       "      <td>5.0</td>\n",
       "    </tr>\n",
       "    <tr>\n",
       "      <th>4</th>\n",
       "      <td>refactor: Change getClientIp to req.clientIp</td>\n",
       "      <td>avwu@qq.com</td>\n",
       "      <td>avwo_whistle</td>\n",
       "      <td>5.0</td>\n",
       "    </tr>\n",
       "    <tr>\n",
       "      <th>...</th>\n",
       "      <td>...</td>\n",
       "      <td>...</td>\n",
       "      <td>...</td>\n",
       "      <td>...</td>\n",
       "    </tr>\n",
       "    <tr>\n",
       "      <th>10198</th>\n",
       "      <td>Rename LiSEtest to SimTest</td>\n",
       "      <td>zacharyspector@gmail.com</td>\n",
       "      <td>LogicalDash_LiSE</td>\n",
       "      <td>41.0</td>\n",
       "    </tr>\n",
       "    <tr>\n",
       "      <th>10199</th>\n",
       "      <td>Turn character.StatMapping into a Signal</td>\n",
       "      <td>zacharyspector@gmail.com</td>\n",
       "      <td>LogicalDash_LiSE</td>\n",
       "      <td>41.0</td>\n",
       "    </tr>\n",
       "    <tr>\n",
       "      <th>10200</th>\n",
       "      <td>Decruft the old unused _no_use_canvas property...</td>\n",
       "      <td>zacharyspector@gmail.com</td>\n",
       "      <td>LogicalDash_LiSE</td>\n",
       "      <td>41.0</td>\n",
       "    </tr>\n",
       "    <tr>\n",
       "      <th>10201</th>\n",
       "      <td>logging for dummy\\n\\nTo more rapidly identify ...</td>\n",
       "      <td>zacharyspector@gmail.com</td>\n",
       "      <td>LogicalDash_LiSE</td>\n",
       "      <td>41.0</td>\n",
       "    </tr>\n",
       "    <tr>\n",
       "      <th>10202</th>\n",
       "      <td>Keep add_new_pawns from submitting a nodes_pat...</td>\n",
       "      <td>zacharyspector@gmail.com</td>\n",
       "      <td>LogicalDash_LiSE</td>\n",
       "      <td>41.0</td>\n",
       "    </tr>\n",
       "  </tbody>\n",
       "</table>\n",
       "<p>10203 rows × 4 columns</p>\n",
       "</div>"
      ],
      "text/plain": [
       "                                                 message  \\\n",
       "0                                    refactor: getFrames   \n",
       "1                                    refactor: websocket   \n",
       "2                            refactor: add timeout event   \n",
       "3      feat: Support for getting random port of ui se...   \n",
       "4           refactor: Change getClientIp to req.clientIp   \n",
       "...                                                  ...   \n",
       "10198                         Rename LiSEtest to SimTest   \n",
       "10199           Turn character.StatMapping into a Signal   \n",
       "10200  Decruft the old unused _no_use_canvas property...   \n",
       "10201  logging for dummy\\n\\nTo more rapidly identify ...   \n",
       "10202  Keep add_new_pawns from submitting a nodes_pat...   \n",
       "\n",
       "                   author_email           project  label  \n",
       "0                   avwu@qq.com      avwo_whistle    5.0  \n",
       "1                   avwu@qq.com      avwo_whistle    5.0  \n",
       "2                   avwu@qq.com      avwo_whistle    5.0  \n",
       "3                   avwu@qq.com      avwo_whistle    5.0  \n",
       "4                   avwu@qq.com      avwo_whistle    5.0  \n",
       "...                         ...               ...    ...  \n",
       "10198  zacharyspector@gmail.com  LogicalDash_LiSE   41.0  \n",
       "10199  zacharyspector@gmail.com  LogicalDash_LiSE   41.0  \n",
       "10200  zacharyspector@gmail.com  LogicalDash_LiSE   41.0  \n",
       "10201  zacharyspector@gmail.com  LogicalDash_LiSE   41.0  \n",
       "10202  zacharyspector@gmail.com  LogicalDash_LiSE   41.0  \n",
       "\n",
       "[10203 rows x 4 columns]"
      ]
     },
     "execution_count": 7,
     "metadata": {},
     "output_type": "execute_result"
    }
   ],
   "source": [
    "authors_count = len(validate_set['author_email'].unique())\n",
    "\n",
    "print('Authors of the train set: ' + str(authors_count))\n",
    "print('Average amount of commit messages per author: ' + str(round(len(validate_set) / authors_count, 2)))\n",
    "validate_set"
   ]
  },
  {
   "cell_type": "markdown",
   "metadata": {},
   "source": [
    "### Resulting Test Set"
   ]
  },
  {
   "cell_type": "code",
   "execution_count": 8,
   "metadata": {},
   "outputs": [
    {
     "name": "stdout",
     "output_type": "stream",
     "text": [
      "Authors of the train set: 7\n",
      "Average amount of commit messages per author: 1526.29\n"
     ]
    },
    {
     "data": {
      "text/html": [
       "<div>\n",
       "<style scoped>\n",
       "    .dataframe tbody tr th:only-of-type {\n",
       "        vertical-align: middle;\n",
       "    }\n",
       "\n",
       "    .dataframe tbody tr th {\n",
       "        vertical-align: top;\n",
       "    }\n",
       "\n",
       "    .dataframe thead th {\n",
       "        text-align: right;\n",
       "    }\n",
       "</style>\n",
       "<table border=\"1\" class=\"dataframe\">\n",
       "  <thead>\n",
       "    <tr style=\"text-align: right;\">\n",
       "      <th></th>\n",
       "      <th>message</th>\n",
       "      <th>author_email</th>\n",
       "      <th>project</th>\n",
       "      <th>label</th>\n",
       "    </tr>\n",
       "  </thead>\n",
       "  <tbody>\n",
       "    <tr>\n",
       "      <th>0</th>\n",
       "      <td>API CHANGE Removed Member::init_db_fields(), i...</td>\n",
       "      <td>ingo@silverstripe.com</td>\n",
       "      <td>silverstripe_silverstripe-framework</td>\n",
       "      <td>15.0</td>\n",
       "    </tr>\n",
       "    <tr>\n",
       "      <th>1</th>\n",
       "      <td>Set omnipay response earlier in PurchaseServic...</td>\n",
       "      <td>ingo@silverstripe.com</td>\n",
       "      <td>silverstripe_silverstripe-omnipay</td>\n",
       "      <td>15.0</td>\n",
       "    </tr>\n",
       "    <tr>\n",
       "      <th>2</th>\n",
       "      <td>MINOR Protection against infinite initializati...</td>\n",
       "      <td>ingo@silverstripe.com</td>\n",
       "      <td>silverstripe_silverstripe-framework</td>\n",
       "      <td>15.0</td>\n",
       "    </tr>\n",
       "    <tr>\n",
       "      <th>3</th>\n",
       "      <td>Allowing success and error callbacks in refresh()</td>\n",
       "      <td>ingo@silverstripe.com</td>\n",
       "      <td>silverstripe_silverstripe-framework</td>\n",
       "      <td>15.0</td>\n",
       "    </tr>\n",
       "    <tr>\n",
       "      <th>4</th>\n",
       "      <td>Better shell execution feedback from PDF extra...</td>\n",
       "      <td>ingo@silverstripe.com</td>\n",
       "      <td>silverstripe_silverstripe-textextraction</td>\n",
       "      <td>15.0</td>\n",
       "    </tr>\n",
       "    <tr>\n",
       "      <th>...</th>\n",
       "      <td>...</td>\n",
       "      <td>...</td>\n",
       "      <td>...</td>\n",
       "      <td>...</td>\n",
       "    </tr>\n",
       "    <tr>\n",
       "      <th>10679</th>\n",
       "      <td>Apply uupdates to the dropfile routine to salt...</td>\n",
       "      <td>thatch45@gmail.com</td>\n",
       "      <td>saltstack_salt</td>\n",
       "      <td>38.0</td>\n",
       "    </tr>\n",
       "    <tr>\n",
       "      <th>10680</th>\n",
       "      <td>Remove esky errors because they only confuse %...</td>\n",
       "      <td>thatch45@gmail.com</td>\n",
       "      <td>saltstack_salt</td>\n",
       "      <td>38.0</td>\n",
       "    </tr>\n",
       "    <tr>\n",
       "      <th>10681</th>\n",
       "      <td>Add event firing to salt-ssh</td>\n",
       "      <td>thatch45@gmail.com</td>\n",
       "      <td>saltstack_salt</td>\n",
       "      <td>38.0</td>\n",
       "    </tr>\n",
       "    <tr>\n",
       "      <th>10682</th>\n",
       "      <td>Fix #&lt;I&gt;\\n\\nSorry about the long wait on this ...</td>\n",
       "      <td>thatch45@gmail.com</td>\n",
       "      <td>saltstack_salt</td>\n",
       "      <td>38.0</td>\n",
       "    </tr>\n",
       "    <tr>\n",
       "      <th>10683</th>\n",
       "      <td>fun is also a low chunk keyword, it needs to b...</td>\n",
       "      <td>thatch45@gmail.com</td>\n",
       "      <td>saltstack_salt</td>\n",
       "      <td>38.0</td>\n",
       "    </tr>\n",
       "  </tbody>\n",
       "</table>\n",
       "<p>10684 rows × 4 columns</p>\n",
       "</div>"
      ],
      "text/plain": [
       "                                                 message  \\\n",
       "0      API CHANGE Removed Member::init_db_fields(), i...   \n",
       "1      Set omnipay response earlier in PurchaseServic...   \n",
       "2      MINOR Protection against infinite initializati...   \n",
       "3      Allowing success and error callbacks in refresh()   \n",
       "4      Better shell execution feedback from PDF extra...   \n",
       "...                                                  ...   \n",
       "10679  Apply uupdates to the dropfile routine to salt...   \n",
       "10680  Remove esky errors because they only confuse %...   \n",
       "10681                       Add event firing to salt-ssh   \n",
       "10682  Fix #<I>\\n\\nSorry about the long wait on this ...   \n",
       "10683  fun is also a low chunk keyword, it needs to b...   \n",
       "\n",
       "                author_email                                   project  label  \n",
       "0      ingo@silverstripe.com       silverstripe_silverstripe-framework   15.0  \n",
       "1      ingo@silverstripe.com         silverstripe_silverstripe-omnipay   15.0  \n",
       "2      ingo@silverstripe.com       silverstripe_silverstripe-framework   15.0  \n",
       "3      ingo@silverstripe.com       silverstripe_silverstripe-framework   15.0  \n",
       "4      ingo@silverstripe.com  silverstripe_silverstripe-textextraction   15.0  \n",
       "...                      ...                                       ...    ...  \n",
       "10679     thatch45@gmail.com                            saltstack_salt   38.0  \n",
       "10680     thatch45@gmail.com                            saltstack_salt   38.0  \n",
       "10681     thatch45@gmail.com                            saltstack_salt   38.0  \n",
       "10682     thatch45@gmail.com                            saltstack_salt   38.0  \n",
       "10683     thatch45@gmail.com                            saltstack_salt   38.0  \n",
       "\n",
       "[10684 rows x 4 columns]"
      ]
     },
     "execution_count": 8,
     "metadata": {},
     "output_type": "execute_result"
    }
   ],
   "source": [
    "authors_count = len(test_set['author_email'].unique())\n",
    "\n",
    "print('Authors of the train set: ' + str(authors_count))\n",
    "print('Average amount of commit messages per author: ' + str(round(len(test_set) / authors_count, 2)))\n",
    "test_set"
   ]
  },
  {
   "cell_type": "markdown",
   "metadata": {},
   "source": [
    "The number of average commit messages per dataframe cannot be totally balanced since there are some committers with a significantly higher amount of commit messages who are more likely to be allocated to the train set."
   ]
  },
  {
   "cell_type": "markdown",
   "metadata": {},
   "source": [
    "### Save all three Dataframes"
   ]
  },
  {
   "cell_type": "code",
   "execution_count": 9,
   "metadata": {},
   "outputs": [],
   "source": [
    "train_set.to_pickle('../data/04a_Train_Set.pkl')\n",
    "validate_set.to_pickle('../data/04b_Validate_Set.pkl')\n",
    "test_set.to_pickle('../data/04c_Test_Set.pkl')"
   ]
  }
 ],
 "metadata": {
  "kernelspec": {
   "display_name": "Python 3.8.9 64-bit",
   "language": "python",
   "name": "python3"
  },
  "language_info": {
   "codemirror_mode": {
    "name": "ipython",
    "version": 3
   },
   "file_extension": ".py",
   "mimetype": "text/x-python",
   "name": "python",
   "nbconvert_exporter": "python",
   "pygments_lexer": "ipython3",
   "version": "3.8.9"
  },
  "orig_nbformat": 4,
  "vscode": {
   "interpreter": {
    "hash": "31f2aee4e71d21fbe5cf8b01ff0e069b9275f58929596ceb00d14d90e3e16cd6"
   }
  }
 },
 "nbformat": 4,
 "nbformat_minor": 2
}
