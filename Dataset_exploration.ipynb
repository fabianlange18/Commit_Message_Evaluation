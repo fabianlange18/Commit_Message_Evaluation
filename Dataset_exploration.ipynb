{
 "cells": [
  {
   "cell_type": "markdown",
   "metadata": {},
   "source": [
    "# Evaluating Style for Commit Message Generation"
   ]
  },
  {
   "cell_type": "markdown",
   "metadata": {},
   "source": [
    "### Notebook for initial dataset exploration\n",
    "\n",
    "After initial meeting on Tuesday, 31st October 2022"
   ]
  },
  {
   "cell_type": "markdown",
   "metadata": {},
   "source": [
    "#### Load data and display first values"
   ]
  },
  {
   "cell_type": "code",
   "execution_count": 1,
   "metadata": {},
   "outputs": [
    {
     "data": {
      "text/html": [
       "<div>\n",
       "<style scoped>\n",
       "    .dataframe tbody tr th:only-of-type {\n",
       "        vertical-align: middle;\n",
       "    }\n",
       "\n",
       "    .dataframe tbody tr th {\n",
       "        vertical-align: top;\n",
       "    }\n",
       "\n",
       "    .dataframe thead th {\n",
       "        text-align: right;\n",
       "    }\n",
       "</style>\n",
       "<table border=\"1\" class=\"dataframe\">\n",
       "  <thead>\n",
       "    <tr style=\"text-align: right;\">\n",
       "      <th></th>\n",
       "      <th>hash</th>\n",
       "      <th>diff</th>\n",
       "      <th>message</th>\n",
       "      <th>author_email</th>\n",
       "      <th>author_name</th>\n",
       "      <th>committer_email</th>\n",
       "      <th>committer_name</th>\n",
       "      <th>project</th>\n",
       "      <th>split</th>\n",
       "    </tr>\n",
       "  </thead>\n",
       "  <tbody>\n",
       "    <tr>\n",
       "      <th>0</th>\n",
       "      <td>1de640cc59b4b3030447d567b3c99c50777bd760</td>\n",
       "      <td>a/setup.py b/setup.py\\nindex &lt;HASH&gt;..&lt;HASH&gt; 1...</td>\n",
       "      <td>setup: Detect if wheel and twine installed</td>\n",
       "      <td>gcushen@users.noreply.github.com</td>\n",
       "      <td>George Cushen</td>\n",
       "      <td>gcushen@users.noreply.github.com</td>\n",
       "      <td>George Cushen</td>\n",
       "      <td>gcushen_mezzanine-api</td>\n",
       "      <td>train</td>\n",
       "    </tr>\n",
       "    <tr>\n",
       "      <th>1</th>\n",
       "      <td>c1cce6fe5e49df5546c30a662fd141d41f4fc389</td>\n",
       "      <td>a/Builder.php b/Builder.php\\nindex &lt;HASH&gt;..&lt;H...</td>\n",
       "      <td>[Builder] Adding root page in any case</td>\n",
       "      <td>g.passault@gmail.com</td>\n",
       "      <td>Gregwar</td>\n",
       "      <td>g.passault@gmail.com</td>\n",
       "      <td>Gregwar</td>\n",
       "      <td>Gregwar_Slidey</td>\n",
       "      <td>train</td>\n",
       "    </tr>\n",
       "    <tr>\n",
       "      <th>2</th>\n",
       "      <td>2f7d97d15ea41f4112e74429617c5daad740d7cc</td>\n",
       "      <td>a/web.go b/web.go\\nindex &lt;HASH&gt;..&lt;HASH&gt; 10064...</td>\n",
       "      <td>Added web.Urlencode method</td>\n",
       "      <td>hoisie@gmail.com</td>\n",
       "      <td>Michael Hoisie</td>\n",
       "      <td>hoisie@gmail.com</td>\n",
       "      <td>Michael Hoisie</td>\n",
       "      <td>hoisie_web</td>\n",
       "      <td>train</td>\n",
       "    </tr>\n",
       "    <tr>\n",
       "      <th>3</th>\n",
       "      <td>6470cb3411381c95b6fc8d53f002cd50edd10ec3</td>\n",
       "      <td>a/spec/controllers/socializer/memberships/con...</td>\n",
       "      <td>Prefer single-quoted strings when you don't ne...</td>\n",
       "      <td>tom.pietschker@acmetechnologygroup.com</td>\n",
       "      <td>Tom Pietschker</td>\n",
       "      <td>tom.pietschker@acmetechnologygroup.com</td>\n",
       "      <td>Tom Pietschker</td>\n",
       "      <td>socializer_socializer</td>\n",
       "      <td>train</td>\n",
       "    </tr>\n",
       "    <tr>\n",
       "      <th>4</th>\n",
       "      <td>5e1725b604be5c3edb415725e33c86976e8cf8a2</td>\n",
       "      <td>a/demosys/view/screenshot.py b/demosys/view/s...</td>\n",
       "      <td>Bug: Screenshot data should use the FBOs viewp...</td>\n",
       "      <td>eforselv@gmail.com</td>\n",
       "      <td>einarf</td>\n",
       "      <td>eforselv@gmail.com</td>\n",
       "      <td>einarf</td>\n",
       "      <td>Contraz_demosys-py</td>\n",
       "      <td>train</td>\n",
       "    </tr>\n",
       "  </tbody>\n",
       "</table>\n",
       "</div>"
      ],
      "text/plain": [
       "                                       hash  \\\n",
       "0  1de640cc59b4b3030447d567b3c99c50777bd760   \n",
       "1  c1cce6fe5e49df5546c30a662fd141d41f4fc389   \n",
       "2  2f7d97d15ea41f4112e74429617c5daad740d7cc   \n",
       "3  6470cb3411381c95b6fc8d53f002cd50edd10ec3   \n",
       "4  5e1725b604be5c3edb415725e33c86976e8cf8a2   \n",
       "\n",
       "                                                diff  \\\n",
       "0   a/setup.py b/setup.py\\nindex <HASH>..<HASH> 1...   \n",
       "1   a/Builder.php b/Builder.php\\nindex <HASH>..<H...   \n",
       "2   a/web.go b/web.go\\nindex <HASH>..<HASH> 10064...   \n",
       "3   a/spec/controllers/socializer/memberships/con...   \n",
       "4   a/demosys/view/screenshot.py b/demosys/view/s...   \n",
       "\n",
       "                                             message  \\\n",
       "0         setup: Detect if wheel and twine installed   \n",
       "1             [Builder] Adding root page in any case   \n",
       "2                         Added web.Urlencode method   \n",
       "3  Prefer single-quoted strings when you don't ne...   \n",
       "4  Bug: Screenshot data should use the FBOs viewp...   \n",
       "\n",
       "                             author_email     author_name  \\\n",
       "0        gcushen@users.noreply.github.com   George Cushen   \n",
       "1                    g.passault@gmail.com         Gregwar   \n",
       "2                        hoisie@gmail.com  Michael Hoisie   \n",
       "3  tom.pietschker@acmetechnologygroup.com  Tom Pietschker   \n",
       "4                      eforselv@gmail.com          einarf   \n",
       "\n",
       "                          committer_email  committer_name  \\\n",
       "0        gcushen@users.noreply.github.com   George Cushen   \n",
       "1                    g.passault@gmail.com         Gregwar   \n",
       "2                        hoisie@gmail.com  Michael Hoisie   \n",
       "3  tom.pietschker@acmetechnologygroup.com  Tom Pietschker   \n",
       "4                      eforselv@gmail.com          einarf   \n",
       "\n",
       "                 project  split  \n",
       "0  gcushen_mezzanine-api  train  \n",
       "1         Gregwar_Slidey  train  \n",
       "2             hoisie_web  train  \n",
       "3  socializer_socializer  train  \n",
       "4     Contraz_demosys-py  train  "
      ]
     },
     "execution_count": 1,
     "metadata": {},
     "output_type": "execute_result"
    }
   ],
   "source": [
    "import pandas as pd\n",
    "\n",
    "data = pd.read_csv(\"results.csv\")\n",
    "data.head()"
   ]
  },
  {
   "cell_type": "markdown",
   "metadata": {},
   "source": [
    "#### Get first overview on data"
   ]
  },
  {
   "cell_type": "code",
   "execution_count": 2,
   "metadata": {},
   "outputs": [
    {
     "data": {
      "text/html": [
       "<div>\n",
       "<style scoped>\n",
       "    .dataframe tbody tr th:only-of-type {\n",
       "        vertical-align: middle;\n",
       "    }\n",
       "\n",
       "    .dataframe tbody tr th {\n",
       "        vertical-align: top;\n",
       "    }\n",
       "\n",
       "    .dataframe thead th {\n",
       "        text-align: right;\n",
       "    }\n",
       "</style>\n",
       "<table border=\"1\" class=\"dataframe\">\n",
       "  <thead>\n",
       "    <tr style=\"text-align: right;\">\n",
       "      <th></th>\n",
       "      <th>hash</th>\n",
       "      <th>diff</th>\n",
       "      <th>message</th>\n",
       "      <th>author_email</th>\n",
       "      <th>author_name</th>\n",
       "      <th>committer_email</th>\n",
       "      <th>committer_name</th>\n",
       "      <th>project</th>\n",
       "      <th>split</th>\n",
       "    </tr>\n",
       "  </thead>\n",
       "  <tbody>\n",
       "    <tr>\n",
       "      <th>count</th>\n",
       "      <td>1665091</td>\n",
       "      <td>1665091</td>\n",
       "      <td>1665091</td>\n",
       "      <td>1664259</td>\n",
       "      <td>1664949</td>\n",
       "      <td>1664285</td>\n",
       "      <td>1664937</td>\n",
       "      <td>1665091</td>\n",
       "      <td>1665091</td>\n",
       "    </tr>\n",
       "    <tr>\n",
       "      <th>unique</th>\n",
       "      <td>1665091</td>\n",
       "      <td>1659398</td>\n",
       "      <td>1605673</td>\n",
       "      <td>219575</td>\n",
       "      <td>195197</td>\n",
       "      <td>169316</td>\n",
       "      <td>150739</td>\n",
       "      <td>71532</td>\n",
       "      <td>3</td>\n",
       "    </tr>\n",
       "    <tr>\n",
       "      <th>top</th>\n",
       "      <td>1de640cc59b4b3030447d567b3c99c50777bd760</td>\n",
       "      <td>a/tests/input/logictree_test.py b/tests/input...</td>\n",
       "      <td>Apply fixes from StyleCI (#&lt;I&gt;)</td>\n",
       "      <td>michele.simionato@gmail.com</td>\n",
       "      <td>Michele Simionato</td>\n",
       "      <td>noreply@github.com</td>\n",
       "      <td>GitHub</td>\n",
       "      <td>saltstack_salt</td>\n",
       "      <td>train</td>\n",
       "    </tr>\n",
       "    <tr>\n",
       "      <th>freq</th>\n",
       "      <td>1</td>\n",
       "      <td>7</td>\n",
       "      <td>1307</td>\n",
       "      <td>4991</td>\n",
       "      <td>5077</td>\n",
       "      <td>96629</td>\n",
       "      <td>96659</td>\n",
       "      <td>17501</td>\n",
       "      <td>1165564</td>\n",
       "    </tr>\n",
       "  </tbody>\n",
       "</table>\n",
       "</div>"
      ],
      "text/plain": [
       "                                            hash  \\\n",
       "count                                    1665091   \n",
       "unique                                   1665091   \n",
       "top     1de640cc59b4b3030447d567b3c99c50777bd760   \n",
       "freq                                           1   \n",
       "\n",
       "                                                     diff  \\\n",
       "count                                             1665091   \n",
       "unique                                            1659398   \n",
       "top      a/tests/input/logictree_test.py b/tests/input...   \n",
       "freq                                                    7   \n",
       "\n",
       "                                message                 author_email  \\\n",
       "count                           1665091                      1664259   \n",
       "unique                          1605673                       219575   \n",
       "top     Apply fixes from StyleCI (#<I>)  michele.simionato@gmail.com   \n",
       "freq                               1307                         4991   \n",
       "\n",
       "              author_name     committer_email committer_name         project  \\\n",
       "count             1664949             1664285        1664937         1665091   \n",
       "unique             195197              169316         150739           71532   \n",
       "top     Michele Simionato  noreply@github.com         GitHub  saltstack_salt   \n",
       "freq                 5077               96629          96659           17501   \n",
       "\n",
       "          split  \n",
       "count   1665091  \n",
       "unique        3  \n",
       "top       train  \n",
       "freq    1165564  "
      ]
     },
     "execution_count": 2,
     "metadata": {},
     "output_type": "execute_result"
    }
   ],
   "source": [
    "data.describe()"
   ]
  },
  {
   "cell_type": "markdown",
   "metadata": {},
   "source": [
    "We see that there are 1.665.091 entries in our dataset.\n",
    "\n",
    "There are 1.605.673 unique commit messages created by 169.316 different committers (counted by emails) of 71.532 different projects."
   ]
  },
  {
   "cell_type": "markdown",
   "metadata": {},
   "source": [
    "#### Tokenize and generate Vocabulary"
   ]
  },
  {
   "cell_type": "code",
   "execution_count": 3,
   "metadata": {},
   "outputs": [
    {
     "name": "stdout",
     "output_type": "stream",
     "text": [
      "The vocabulary contains 799001 tokens without removing stopwords.\n"
     ]
    }
   ],
   "source": [
    "import nltk\n",
    "\n",
    "data[\"tokenized_message\"] = data['message'].apply(nltk.tokenize.word_tokenize)\n",
    "tokenized_messages = []\n",
    "tokenized_messages.extend(data[\"tokenized_message\"].values)\n",
    "tokenized_messages_flat = [item for sublist in tokenized_messages for item in sublist]\n",
    "total_vocab = nltk.lm.Vocabulary(tokenized_messages_flat)\n",
    "print(\"The vocabulary contains {vocab_count} tokens without removing stopwords.\".format(vocab_count = len(total_vocab.counts)))"
   ]
  },
  {
   "cell_type": "code",
   "execution_count": 17,
   "metadata": {},
   "outputs": [
    {
     "data": {
      "text/plain": [
       "[['setup', ':', 'Detect', 'if', 'wheel', 'and', 'twine', 'installed'],\n",
       " ['[', 'Builder', ']', 'Adding', 'root', 'page', 'in', 'any', 'case'],\n",
       " ['Added', 'web.Urlencode', 'method'],\n",
       " ['Prefer',\n",
       "  'single-quoted',\n",
       "  'strings',\n",
       "  'when',\n",
       "  'you',\n",
       "  'do',\n",
       "  \"n't\",\n",
       "  'need',\n",
       "  'string',\n",
       "  'interpolation',\n",
       "  'or',\n",
       "  'special',\n",
       "  'symbols',\n",
       "  '.'],\n",
       " ['Bug',\n",
       "  ':',\n",
       "  'Screenshot',\n",
       "  'data',\n",
       "  'should',\n",
       "  'use',\n",
       "  'the',\n",
       "  'FBOs',\n",
       "  'viewport',\n",
       "  'Ultra',\n",
       "  'wide',\n",
       "  'screens',\n",
       "  'seems',\n",
       "  'to',\n",
       "  'allocate',\n",
       "  'a',\n",
       "  'wider',\n",
       "  'buffer',\n",
       "  '.'],\n",
       " ['Ensure',\n",
       "  'extra_disk_data',\n",
       "  'is',\n",
       "  'skipped',\n",
       "  'if',\n",
       "  'nil',\n",
       "  'This',\n",
       "  'commit',\n",
       "  'skips',\n",
       "  'over',\n",
       "  'adding',\n",
       "  'any',\n",
       "  'extra_disk_data',\n",
       "  'to',\n",
       "  'the',\n",
       "  'storage',\n",
       "  'controller',\n",
       "  'data',\n",
       "  'structure',\n",
       "  'in',\n",
       "  'case',\n",
       "  'it',\n",
       "  \"'s\",\n",
       "  'nil',\n",
       "  '.'],\n",
       " ['invitation',\n",
       "  'send',\n",
       "  'prompt',\n",
       "  'shows',\n",
       "  'after',\n",
       "  'a',\n",
       "  'successful',\n",
       "  'response'],\n",
       " ['Update',\n",
       "  'admin/javascript/lang/de_DE.js',\n",
       "  'fixed',\n",
       "  'typo',\n",
       "  'in',\n",
       "  'translation'],\n",
       " ['Improve',\n",
       "  'error',\n",
       "  'message',\n",
       "  'reporting',\n",
       "  '.',\n",
       "  'When',\n",
       "  'including',\n",
       "  'the',\n",
       "  'source',\n",
       "  'for',\n",
       "  'the',\n",
       "  'relevant',\n",
       "  'rule',\n",
       "  ',',\n",
       "  'report',\n",
       "  'the',\n",
       "  'source',\n",
       "  'before',\n",
       "  'attribute',\n",
       "  'name',\n",
       "  '=',\n",
       "  '>',\n",
       "  'number',\n",
       "  'rewrite',\n",
       "  ',',\n",
       "  'not',\n",
       "  'after',\n",
       "  '.'],\n",
       " ['Singleton',\n",
       "  'should',\n",
       "  'return',\n",
       "  'updated',\n",
       "  'server',\n",
       "  'data',\n",
       "  ',',\n",
       "  'same',\n",
       "  'as',\n",
       "  'collections'],\n",
       " ['Add',\n",
       "  'a',\n",
       "  'simple',\n",
       "  'test',\n",
       "  'to',\n",
       "  'check',\n",
       "  'that',\n",
       "  'filter',\n",
       "  'is',\n",
       "  'working',\n",
       "  '.'],\n",
       " ['Handle', 'asynchronous', 'rendering', 'in', 'tests'],\n",
       " ['Remove',\n",
       "  'the',\n",
       "  'overriden',\n",
       "  '``',\n",
       "  'GuildImpl',\n",
       "  '#',\n",
       "  'getIconUrl',\n",
       "  '(',\n",
       "  ')',\n",
       "  \"''\",\n",
       "  'implementation',\n",
       "  'The',\n",
       "  'guild',\n",
       "  'interface',\n",
       "  'already',\n",
       "  'has',\n",
       "  'the',\n",
       "  'proper',\n",
       "  'implementation',\n",
       "  ',',\n",
       "  'we',\n",
       "  'do',\n",
       "  \"n't\",\n",
       "  'need',\n",
       "  'the',\n",
       "  'overriden',\n",
       "  'method',\n",
       "  'anymore',\n",
       "  '.'],\n",
       " ['DOC',\n",
       "  ':',\n",
       "  'Added',\n",
       "  'DataFrame',\n",
       "  'in',\n",
       "  'Parameters',\n",
       "  '&',\n",
       "  'Return',\n",
       "  'description',\n",
       "  'in',\n",
       "  'the',\n",
       "  'docstring',\n",
       "  '(',\n",
       "  '#',\n",
       "  '<',\n",
       "  'I',\n",
       "  '>',\n",
       "  ')',\n",
       "  '*',\n",
       "  'DOC',\n",
       "  ':',\n",
       "  'Added',\n",
       "  'DataFrame',\n",
       "  'in',\n",
       "  'Parameters',\n",
       "  '&',\n",
       "  'Return',\n",
       "  'description',\n",
       "  'in',\n",
       "  'the',\n",
       "  'docstring',\n",
       "  '*',\n",
       "  'DOC',\n",
       "  ':',\n",
       "  'Reduced',\n",
       "  'number',\n",
       "  'of',\n",
       "  'characters',\n",
       "  'in',\n",
       "  'Line',\n",
       "  '<',\n",
       "  'I',\n",
       "  '>',\n",
       "  '*',\n",
       "  'DOC',\n",
       "  ':',\n",
       "  'removed',\n",
       "  'trailing',\n",
       "  'whitespaces',\n",
       "  '*',\n",
       "  'DOC',\n",
       "  ':',\n",
       "  'Removed',\n",
       "  'redundant',\n",
       "  'text',\n",
       "  'and',\n",
       "  'fixed',\n",
       "  'punctuation',\n",
       "  '.'],\n",
       " ['generating',\n",
       "  'some',\n",
       "  'archetype',\n",
       "  'embeddable',\n",
       "  'to',\n",
       "  'try',\n",
       "  'to',\n",
       "  'reproduce',\n",
       "  'issues'],\n",
       " ['need', 'newer', 'docker-py', 'for', 'syslog', 'changes'],\n",
       " ['allow',\n",
       "  '&',\n",
       "  'environment',\n",
       "  'syntax',\n",
       "  'to',\n",
       "  'prevent',\n",
       "  'duplication',\n",
       "  ';',\n",
       "  'do',\n",
       "  'not',\n",
       "  'repace',\n",
       "  'if',\n",
       "  'not',\n",
       "  'found'],\n",
       " ['Fix',\n",
       "  'calling',\n",
       "  'back',\n",
       "  'from',\n",
       "  'UnsupportedStrategy',\n",
       "  '*',\n",
       "  'do',\n",
       "  \"n't\",\n",
       "  'call',\n",
       "  'back',\n",
       "  'after',\n",
       "  'aborting',\n",
       "  '*',\n",
       "  'change',\n",
       "  'name',\n",
       "  'to',\n",
       "  'UnsupportedStrategy'],\n",
       " ['Updated', 'execute-odata-reading-test.js', 'for', 'jscs'],\n",
       " ['let',\n",
       "  \"'s\",\n",
       "  'make',\n",
       "  'firebird',\n",
       "  'happy',\n",
       "  '(',\n",
       "  'no',\n",
       "  'more',\n",
       "  'leaking',\n",
       "  'statements',\n",
       "  ')']]"
      ]
     },
     "execution_count": 17,
     "metadata": {},
     "output_type": "execute_result"
    }
   ],
   "source": [
    "tokenized_messages[:20] # TODO: Also look at original message"
   ]
  },
  {
   "cell_type": "code",
   "execution_count": 4,
   "metadata": {},
   "outputs": [
    {
     "name": "stdout",
     "output_type": "stream",
     "text": [
      "The average commit message contains 14.315 Tokens.\n"
     ]
    }
   ],
   "source": [
    "import numpy as np\n",
    "\n",
    "tokenized_messages_length = [len(sublist) for sublist in tokenized_messages]\n",
    "average_length = np.mean(tokenized_messages_length)\n",
    "print(\"The average commit message contains {average_length:.3f} Tokens.\".format(average_length = average_length))"
   ]
  },
  {
   "cell_type": "markdown",
   "metadata": {},
   "source": [
    "#### Stop word removal"
   ]
  },
  {
   "cell_type": "code",
   "execution_count": 5,
   "metadata": {},
   "outputs": [
    {
     "name": "stdout",
     "output_type": "stream",
     "text": [
      "The vocabulary contains 798831 tokens when removing stopwords.\n"
     ]
    }
   ],
   "source": [
    "from nltk.corpus import stopwords\n",
    "stopwords = set(stopwords.words('english'))\n",
    "tokenized_messages_flat_without_stopwords = [item for item in tokenized_messages_flat if not item in stopwords]\n",
    "vocab = nltk.lm.Vocabulary(tokenized_messages_flat_without_stopwords)\n",
    "print(\"The vocabulary contains {vocab_count} tokens when removing stopwords.\".format(vocab_count = len(vocab.counts)))"
   ]
  },
  {
   "cell_type": "code",
   "execution_count": 19,
   "metadata": {},
   "outputs": [
    {
     "data": {
      "text/plain": [
       "179"
      ]
     },
     "execution_count": 19,
     "metadata": {},
     "output_type": "execute_result"
    }
   ],
   "source": [
    "len(stopwords)"
   ]
  },
  {
   "cell_type": "markdown",
   "metadata": {},
   "source": [
    "Stopword removal led to excluding 170 tokens."
   ]
  },
  {
   "cell_type": "markdown",
   "metadata": {},
   "source": [
    "### Exploration with spacy"
   ]
  },
  {
   "cell_type": "markdown",
   "metadata": {},
   "source": [
    "Take a subset because unable to process all data locally."
   ]
  },
  {
   "cell_type": "code",
   "execution_count": 6,
   "metadata": {},
   "outputs": [],
   "source": [
    "subset_size = 100000\n",
    "\n",
    "messages = data[\"message\"][:subset_size].tolist()"
   ]
  },
  {
   "cell_type": "code",
   "execution_count": 7,
   "metadata": {},
   "outputs": [],
   "source": [
    "import spacy\n",
    "\n",
    "nlp = spacy.load(\"en_core_web_sm\")"
   ]
  },
  {
   "cell_type": "code",
   "execution_count": 9,
   "metadata": {},
   "outputs": [],
   "source": [
    "tokens = []\n",
    "token_tags = []\n",
    "cats = []\n",
    "ents = []\n",
    "vectors = []\n",
    "\n",
    "# mood analysis not really valuable, not able to detect imperativ mood like that, polarity sometimes given, but only neg\n",
    "imperative_count = []\n",
    "\n",
    "\n",
    "def token_filter(token):\n",
    "    return not token.is_stop and token.is_alpha\n",
    "\n",
    "docs = nlp.pipe(messages)\n",
    "\n",
    "for doc in docs:\n",
    "    tokens.extend([token.lemma_ if token_filter(token) else None for token in doc])\n",
    "    token_tags.extend([token.tag_ for token in doc])\n",
    "    cats.extend(doc.cats if doc.cats != \"\" else \"\")\n",
    "    ents.extend([ent.lemma_ for ent in doc.ents])\n",
    "    vectors.append(doc.vector)\n",
    "    imperative_count.extend([token.morph for token in doc])\n"
   ]
  },
  {
   "cell_type": "code",
   "execution_count": 10,
   "metadata": {},
   "outputs": [
    {
     "name": "stdout",
     "output_type": "stream",
     "text": [
      "20 most common (lemmatized) tokens in first 100000 messages:\n"
     ]
    },
    {
     "data": {
      "text/plain": [
       "[('fix', 20749),\n",
       " ('add', 17329),\n",
       " ('test', 11266),\n",
       " ('remove', 7423),\n",
       " ('use', 6156),\n",
       " ('update', 5640),\n",
       " ('change', 5470),\n",
       " ('method', 5208),\n",
       " ('error', 5186),\n",
       " ('url', 3951),\n",
       " ('file', 3932),\n",
       " ('check', 3768),\n",
       " ('version', 3606),\n",
       " ('issue', 3549),\n",
       " ('set', 3423),\n",
       " ('support', 3040),\n",
       " ('bug', 3003),\n",
       " ('return', 2833),\n",
       " ('Fix', 2655),\n",
       " ('code', 2644)]"
      ]
     },
     "execution_count": 10,
     "metadata": {},
     "output_type": "execute_result"
    }
   ],
   "source": [
    "print(\"20 most common (lemmatized) tokens in first {subset_size} messages:\".format(subset_size = subset_size))\n",
    "\n",
    "from collections import Counter\n",
    "\n",
    "tokens_count = Counter(tokens)\n",
    "tokens_count.most_common(21)[1:]"
   ]
  },
  {
   "cell_type": "code",
   "execution_count": 11,
   "metadata": {},
   "outputs": [
    {
     "name": "stdout",
     "output_type": "stream",
     "text": [
      "Most common token tags in first 100000 messages:\n"
     ]
    },
    {
     "data": {
      "text/plain": [
       "[('NN', 294339),\n",
       " ('IN', 137675),\n",
       " ('VB', 94535),\n",
       " ('NNP', 90266),\n",
       " ('DT', 75444),\n",
       " ('JJ', 72476),\n",
       " ('NNS', 70804),\n",
       " ('XX', 62388),\n",
       " ('RB', 51032),\n",
       " ('_SP', 46894)]"
      ]
     },
     "execution_count": 11,
     "metadata": {},
     "output_type": "execute_result"
    }
   ],
   "source": [
    "print(\"Most common token tags in first {subset_size} messages:\".format(subset_size = subset_size))\n",
    "\n",
    "token_tags_count = Counter(token_tags)\n",
    "token_tags_count.most_common(10)"
   ]
  },
  {
   "cell_type": "code",
   "execution_count": 26,
   "metadata": {},
   "outputs": [
    {
     "data": {
      "text/plain": [
       "'adjective (English), other noun-modifier (Chinese)'"
      ]
     },
     "execution_count": 26,
     "metadata": {},
     "output_type": "execute_result"
    }
   ],
   "source": [
    "spacy.explain(\"JJ\")"
   ]
  },
  {
   "cell_type": "code",
   "execution_count": 12,
   "metadata": {},
   "outputs": [
    {
     "name": "stdout",
     "output_type": "stream",
     "text": [
      "Spacy finds the following categories: \n",
      "[]\n",
      "(Not expected to find any categories)\n"
     ]
    }
   ],
   "source": [
    "print(\"Spacy finds the following categories: \\n\" + str(cats))\n",
    "print(\"(Not expected to find any categories)\")"
   ]
  },
  {
   "cell_type": "code",
   "execution_count": 13,
   "metadata": {},
   "outputs": [
    {
     "name": "stdout",
     "output_type": "stream",
     "text": [
      "20 most common (lemmatized) entities in first 100000 messages:\n"
     ]
    },
    {
     "data": {
      "text/plain": [
       "[('first', 867),\n",
       " ('fix', 716),\n",
       " ('one', 666),\n",
       " ('fix #', 580),\n",
       " ('1', 477),\n",
       " ('2', 473),\n",
       " ('#', 447),\n",
       " ('0', 433),\n",
       " ('3', 429),\n",
       " ('api', 395),\n",
       " ('two', 370),\n",
       " ('Python', 321),\n",
       " ('API', 294),\n",
       " ('doc', 293),\n",
       " ('CI', 251),\n",
       " ('PHP', 236),\n",
       " ('improve', 234),\n",
       " ('second', 223),\n",
       " ('json', 200),\n",
       " ('zero', 193)]"
      ]
     },
     "execution_count": 13,
     "metadata": {},
     "output_type": "execute_result"
    }
   ],
   "source": [
    "ents_count = Counter(ents)\n",
    "print(\"20 most common (lemmatized) entities in first {subset_size} messages:\".format(subset_size = subset_size))\n",
    "ents_count.most_common(20)"
   ]
  },
  {
   "cell_type": "code",
   "execution_count": 14,
   "metadata": {},
   "outputs": [
    {
     "name": "stdout",
     "output_type": "stream",
     "text": [
      "Structure of first commit message as a example\n"
     ]
    },
    {
     "data": {
      "text/html": [
       "<span class=\"tex2jax_ignore\"><svg xmlns=\"http://www.w3.org/2000/svg\" xmlns:xlink=\"http://www.w3.org/1999/xlink\" xml:lang=\"en\" id=\"4fa7ee899a3d4928ade6b19a33b4d6d7-0\" class=\"displacy\" width=\"1275\" height=\"399.5\" direction=\"ltr\" style=\"max-width: none; height: 399.5px; color: #000000; background: #ffffff; font-family: Arial; direction: ltr\">\n",
       "<text class=\"displacy-token\" fill=\"currentColor\" text-anchor=\"middle\" y=\"309.5\">\n",
       "    <tspan class=\"displacy-word\" fill=\"currentColor\" x=\"50\">setup:</tspan>\n",
       "    <tspan class=\"displacy-tag\" dy=\"2em\" fill=\"currentColor\" x=\"50\">NOUN</tspan>\n",
       "</text>\n",
       "\n",
       "<text class=\"displacy-token\" fill=\"currentColor\" text-anchor=\"middle\" y=\"309.5\">\n",
       "    <tspan class=\"displacy-word\" fill=\"currentColor\" x=\"225\">Detect</tspan>\n",
       "    <tspan class=\"displacy-tag\" dy=\"2em\" fill=\"currentColor\" x=\"225\">VERB</tspan>\n",
       "</text>\n",
       "\n",
       "<text class=\"displacy-token\" fill=\"currentColor\" text-anchor=\"middle\" y=\"309.5\">\n",
       "    <tspan class=\"displacy-word\" fill=\"currentColor\" x=\"400\">if</tspan>\n",
       "    <tspan class=\"displacy-tag\" dy=\"2em\" fill=\"currentColor\" x=\"400\">SCONJ</tspan>\n",
       "</text>\n",
       "\n",
       "<text class=\"displacy-token\" fill=\"currentColor\" text-anchor=\"middle\" y=\"309.5\">\n",
       "    <tspan class=\"displacy-word\" fill=\"currentColor\" x=\"575\">wheel</tspan>\n",
       "    <tspan class=\"displacy-tag\" dy=\"2em\" fill=\"currentColor\" x=\"575\">NOUN</tspan>\n",
       "</text>\n",
       "\n",
       "<text class=\"displacy-token\" fill=\"currentColor\" text-anchor=\"middle\" y=\"309.5\">\n",
       "    <tspan class=\"displacy-word\" fill=\"currentColor\" x=\"750\">and</tspan>\n",
       "    <tspan class=\"displacy-tag\" dy=\"2em\" fill=\"currentColor\" x=\"750\">CCONJ</tspan>\n",
       "</text>\n",
       "\n",
       "<text class=\"displacy-token\" fill=\"currentColor\" text-anchor=\"middle\" y=\"309.5\">\n",
       "    <tspan class=\"displacy-word\" fill=\"currentColor\" x=\"925\">twine</tspan>\n",
       "    <tspan class=\"displacy-tag\" dy=\"2em\" fill=\"currentColor\" x=\"925\">VERB</tspan>\n",
       "</text>\n",
       "\n",
       "<text class=\"displacy-token\" fill=\"currentColor\" text-anchor=\"middle\" y=\"309.5\">\n",
       "    <tspan class=\"displacy-word\" fill=\"currentColor\" x=\"1100\">installed</tspan>\n",
       "    <tspan class=\"displacy-tag\" dy=\"2em\" fill=\"currentColor\" x=\"1100\">VERB</tspan>\n",
       "</text>\n",
       "\n",
       "<g class=\"displacy-arrow\">\n",
       "    <path class=\"displacy-arc\" id=\"arrow-4fa7ee899a3d4928ade6b19a33b4d6d7-0-0\" stroke-width=\"2px\" d=\"M70,264.5 C70,177.0 215.0,177.0 215.0,264.5\" fill=\"none\" stroke=\"currentColor\"/>\n",
       "    <text dy=\"1.25em\" style=\"font-size: 0.8em; letter-spacing: 1px\">\n",
       "        <textPath xlink:href=\"#arrow-4fa7ee899a3d4928ade6b19a33b4d6d7-0-0\" class=\"displacy-label\" startOffset=\"50%\" side=\"left\" fill=\"currentColor\" text-anchor=\"middle\">acl</textPath>\n",
       "    </text>\n",
       "    <path class=\"displacy-arrowhead\" d=\"M215.0,266.5 L223.0,254.5 207.0,254.5\" fill=\"currentColor\"/>\n",
       "</g>\n",
       "\n",
       "<g class=\"displacy-arrow\">\n",
       "    <path class=\"displacy-arc\" id=\"arrow-4fa7ee899a3d4928ade6b19a33b4d6d7-0-1\" stroke-width=\"2px\" d=\"M420,264.5 C420,177.0 565.0,177.0 565.0,264.5\" fill=\"none\" stroke=\"currentColor\"/>\n",
       "    <text dy=\"1.25em\" style=\"font-size: 0.8em; letter-spacing: 1px\">\n",
       "        <textPath xlink:href=\"#arrow-4fa7ee899a3d4928ade6b19a33b4d6d7-0-1\" class=\"displacy-label\" startOffset=\"50%\" side=\"left\" fill=\"currentColor\" text-anchor=\"middle\">mark</textPath>\n",
       "    </text>\n",
       "    <path class=\"displacy-arrowhead\" d=\"M420,266.5 L412,254.5 428,254.5\" fill=\"currentColor\"/>\n",
       "</g>\n",
       "\n",
       "<g class=\"displacy-arrow\">\n",
       "    <path class=\"displacy-arc\" id=\"arrow-4fa7ee899a3d4928ade6b19a33b4d6d7-0-2\" stroke-width=\"2px\" d=\"M245,264.5 C245,89.5 570.0,89.5 570.0,264.5\" fill=\"none\" stroke=\"currentColor\"/>\n",
       "    <text dy=\"1.25em\" style=\"font-size: 0.8em; letter-spacing: 1px\">\n",
       "        <textPath xlink:href=\"#arrow-4fa7ee899a3d4928ade6b19a33b4d6d7-0-2\" class=\"displacy-label\" startOffset=\"50%\" side=\"left\" fill=\"currentColor\" text-anchor=\"middle\">dobj</textPath>\n",
       "    </text>\n",
       "    <path class=\"displacy-arrowhead\" d=\"M570.0,266.5 L578.0,254.5 562.0,254.5\" fill=\"currentColor\"/>\n",
       "</g>\n",
       "\n",
       "<g class=\"displacy-arrow\">\n",
       "    <path class=\"displacy-arc\" id=\"arrow-4fa7ee899a3d4928ade6b19a33b4d6d7-0-3\" stroke-width=\"2px\" d=\"M595,264.5 C595,177.0 740.0,177.0 740.0,264.5\" fill=\"none\" stroke=\"currentColor\"/>\n",
       "    <text dy=\"1.25em\" style=\"font-size: 0.8em; letter-spacing: 1px\">\n",
       "        <textPath xlink:href=\"#arrow-4fa7ee899a3d4928ade6b19a33b4d6d7-0-3\" class=\"displacy-label\" startOffset=\"50%\" side=\"left\" fill=\"currentColor\" text-anchor=\"middle\">cc</textPath>\n",
       "    </text>\n",
       "    <path class=\"displacy-arrowhead\" d=\"M740.0,266.5 L748.0,254.5 732.0,254.5\" fill=\"currentColor\"/>\n",
       "</g>\n",
       "\n",
       "<g class=\"displacy-arrow\">\n",
       "    <path class=\"displacy-arc\" id=\"arrow-4fa7ee899a3d4928ade6b19a33b4d6d7-0-4\" stroke-width=\"2px\" d=\"M595,264.5 C595,89.5 920.0,89.5 920.0,264.5\" fill=\"none\" stroke=\"currentColor\"/>\n",
       "    <text dy=\"1.25em\" style=\"font-size: 0.8em; letter-spacing: 1px\">\n",
       "        <textPath xlink:href=\"#arrow-4fa7ee899a3d4928ade6b19a33b4d6d7-0-4\" class=\"displacy-label\" startOffset=\"50%\" side=\"left\" fill=\"currentColor\" text-anchor=\"middle\">conj</textPath>\n",
       "    </text>\n",
       "    <path class=\"displacy-arrowhead\" d=\"M920.0,266.5 L928.0,254.5 912.0,254.5\" fill=\"currentColor\"/>\n",
       "</g>\n",
       "\n",
       "<g class=\"displacy-arrow\">\n",
       "    <path class=\"displacy-arc\" id=\"arrow-4fa7ee899a3d4928ade6b19a33b4d6d7-0-5\" stroke-width=\"2px\" d=\"M70,264.5 C70,2.0 1100.0,2.0 1100.0,264.5\" fill=\"none\" stroke=\"currentColor\"/>\n",
       "    <text dy=\"1.25em\" style=\"font-size: 0.8em; letter-spacing: 1px\">\n",
       "        <textPath xlink:href=\"#arrow-4fa7ee899a3d4928ade6b19a33b4d6d7-0-5\" class=\"displacy-label\" startOffset=\"50%\" side=\"left\" fill=\"currentColor\" text-anchor=\"middle\">acl</textPath>\n",
       "    </text>\n",
       "    <path class=\"displacy-arrowhead\" d=\"M1100.0,266.5 L1108.0,254.5 1092.0,254.5\" fill=\"currentColor\"/>\n",
       "</g>\n",
       "</svg></span>"
      ],
      "text/plain": [
       "<IPython.core.display.HTML object>"
      ]
     },
     "metadata": {},
     "output_type": "display_data"
    }
   ],
   "source": [
    "from spacy import displacy\n",
    "\n",
    "print(\"Structure of first commit message as a example\")\n",
    "displacy.render(nlp(messages[0]))"
   ]
  },
  {
   "cell_type": "markdown",
   "metadata": {},
   "source": [
    "## Ideas / Questions for Next Steps\n",
    "\n",
    "- Group by Commiters\n",
    "- Imperative Mood: Unable to detect with spacy yet\n",
    "- More explorations required?\n",
    "\n",
    "Style:\n",
    "- Styleformer only for generation but not for style detection\n",
    "- How to find out about different styles"
   ]
  }
 ],
 "metadata": {
  "kernelspec": {
   "display_name": "Python 3.8.9 64-bit",
   "language": "python",
   "name": "python3"
  },
  "language_info": {
   "codemirror_mode": {
    "name": "ipython",
    "version": 3
   },
   "file_extension": ".py",
   "mimetype": "text/x-python",
   "name": "python",
   "nbconvert_exporter": "python",
   "pygments_lexer": "ipython3",
   "version": "3.8.9"
  },
  "orig_nbformat": 4,
  "vscode": {
   "interpreter": {
    "hash": "31f2aee4e71d21fbe5cf8b01ff0e069b9275f58929596ceb00d14d90e3e16cd6"
   }
  }
 },
 "nbformat": 4,
 "nbformat_minor": 2
}
